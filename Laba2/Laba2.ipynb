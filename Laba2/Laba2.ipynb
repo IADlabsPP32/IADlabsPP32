{
 "cells": [
  {
   "cell_type": "markdown",
   "id": "f44a2f2b",
   "metadata": {},
   "source": [
    "# 100 numpy exercises\n",
    "\n",
    "This is a collection of exercises that have been collected in the numpy mailing list, on stack overflow\n",
    "and in the numpy documentation. The goal of this collection is to offer a quick reference for both old\n",
    "and new users but also to provide a set of exercises for those who teach."
   ]
  },
  {
   "cell_type": "markdown",
   "id": "96443564",
   "metadata": {},
   "source": [
    "#### 1. Import the numpy package under the name `np` (★☆☆)"
   ]
  },
  {
   "cell_type": "code",
   "execution_count": 333,
   "id": "ffe1047e",
   "metadata": {},
   "outputs": [],
   "source": [
    "import numpy as nmp"
   ]
  },
  {
   "cell_type": "markdown",
   "id": "c807bf1d",
   "metadata": {},
   "source": [
    "#### 2. Print the numpy version and the configuration (★☆☆)"
   ]
  },
  {
   "cell_type": "code",
   "execution_count": 334,
   "id": "f396b717",
   "metadata": {},
   "outputs": [
    {
     "name": "stdout",
     "output_type": "stream",
     "text": [
      "1.23.4\n",
      "openblas64__info:\n",
      "    library_dirs = ['D:\\\\a\\\\numpy\\\\numpy\\\\build\\\\openblas64__info']\n",
      "    libraries = ['openblas64__info']\n",
      "    language = f77\n",
      "    define_macros = [('HAVE_CBLAS', None), ('BLAS_SYMBOL_SUFFIX', '64_'), ('HAVE_BLAS_ILP64', None)]\n",
      "blas_ilp64_opt_info:\n",
      "    library_dirs = ['D:\\\\a\\\\numpy\\\\numpy\\\\build\\\\openblas64__info']\n",
      "    libraries = ['openblas64__info']\n",
      "    language = f77\n",
      "    define_macros = [('HAVE_CBLAS', None), ('BLAS_SYMBOL_SUFFIX', '64_'), ('HAVE_BLAS_ILP64', None)]\n",
      "openblas64__lapack_info:\n",
      "    library_dirs = ['D:\\\\a\\\\numpy\\\\numpy\\\\build\\\\openblas64__lapack_info']\n",
      "    libraries = ['openblas64__lapack_info']\n",
      "    language = f77\n",
      "    define_macros = [('HAVE_CBLAS', None), ('BLAS_SYMBOL_SUFFIX', '64_'), ('HAVE_BLAS_ILP64', None), ('HAVE_LAPACKE', None)]\n",
      "lapack_ilp64_opt_info:\n",
      "    library_dirs = ['D:\\\\a\\\\numpy\\\\numpy\\\\build\\\\openblas64__lapack_info']\n",
      "    libraries = ['openblas64__lapack_info']\n",
      "    language = f77\n",
      "    define_macros = [('HAVE_CBLAS', None), ('BLAS_SYMBOL_SUFFIX', '64_'), ('HAVE_BLAS_ILP64', None), ('HAVE_LAPACKE', None)]\n",
      "Supported SIMD extensions in this NumPy install:\n",
      "    baseline = SSE,SSE2,SSE3\n",
      "    found = SSSE3,SSE41,POPCNT,SSE42,AVX,F16C,FMA3,AVX2\n",
      "    not found = AVX512F,AVX512CD,AVX512_SKX,AVX512_CLX,AVX512_CNL,AVX512_ICL\n",
      "None\n"
     ]
    }
   ],
   "source": [
    "print(nmp.__version__)\n",
    "print(nmp.show_config())"
   ]
  },
  {
   "cell_type": "markdown",
   "id": "572c1bdb",
   "metadata": {},
   "source": [
    "#### 3. Create a null vector of sivectore 10 (★☆☆)"
   ]
  },
  {
   "cell_type": "code",
   "execution_count": 335,
   "id": "31c9f6a5",
   "metadata": {},
   "outputs": [
    {
     "name": "stdout",
     "output_type": "stream",
     "text": [
      "[0. 0. 0. ... 0. 0. 0.]\n"
     ]
    }
   ],
   "source": [
    "nullVector = nmp.zeros(10)\n",
    "print(nullVector)"
   ]
  },
  {
   "cell_type": "markdown",
   "id": "337e6e36",
   "metadata": {},
   "source": [
    "#### 4. How to find the memory sivectore of any array (★☆☆)"
   ]
  },
  {
   "cell_type": "code",
   "execution_count": 336,
   "id": "31e8ec2e",
   "metadata": {},
   "outputs": [
    {
     "name": "stdout",
     "output_type": "stream",
     "text": [
      "80\n"
     ]
    }
   ],
   "source": [
    "Memmory_vector_null=nullVector.size*nullVector.itemsize\n",
    "print(Memmory_vector_null)"
   ]
  },
  {
   "cell_type": "markdown",
   "id": "166079c8",
   "metadata": {},
   "source": [
    "#### 5. How to get the documentation of the numpy add function from the command line? (★☆☆)"
   ]
  },
  {
   "cell_type": "code",
   "execution_count": 337,
   "id": "593cd80f",
   "metadata": {},
   "outputs": [
    {
     "name": "stdout",
     "output_type": "stream",
     "text": [
      "add(x1, x2, /, out=None, *, where=True, casting='same_kind', order='K', dtype=None, subok=True[, signature, extobj])\n",
      "\n",
      "Add arguments element-wise.\n",
      "\n",
      "Parameters\n",
      "----------\n",
      "x1, x2 : array_like\n",
      "    The arrays to be added.\n",
      "    If ``x1.shape != x2.shape``, they must be broadcastable to a common\n",
      "    shape (which becomes the shape of the output).\n",
      "out : ndarray, None, or tuple of ndarray and None, optional\n",
      "    A location into which the result is stored. If provided, it must have\n",
      "    a shape that the inputs broadcast to. If not provided or None,\n",
      "    a freshly-allocated array is returned. A tuple (possible only as a\n",
      "    keyword argument) must have length equal to the number of outputs.\n",
      "where : array_like, optional\n",
      "    This condition is broadcast over the input. At locations where the\n",
      "    condition is True, the `out` array will be set to the ufunc result.\n",
      "    Elsewhere, the `out` array will retain its original value.\n",
      "    Note that if an uninitialized `out` array is created via the default\n",
      "    ``out=None``, locations within it where the condition is False will\n",
      "    remain uninitialized.\n",
      "**kwargs\n",
      "    For other keyword-only arguments, see the\n",
      "    :ref:`ufunc docs <ufuncs.kwargs>`.\n",
      "\n",
      "Returns\n",
      "-------\n",
      "add : ndarray or scalar\n",
      "    The sum of `x1` and `x2`, element-wise.\n",
      "    This is a scalar if both `x1` and `x2` are scalars.\n",
      "\n",
      "Notes\n",
      "-----\n",
      "Equivalent to `x1` + `x2` in terms of array broadcasting.\n",
      "\n",
      "Examples\n",
      "--------\n",
      ">>> np.add(1.0, 4.0)\n",
      "5.0\n",
      ">>> x1 = np.arange(9.0).reshape((3, 3))\n",
      ">>> x2 = np.arange(3.0)\n",
      ">>> np.add(x1, x2)\n",
      "array([[  0.,   2.,   4.],\n",
      "       [  3.,   5.,   7.],\n",
      "       [  6.,   8.,  10.]])\n",
      "\n",
      "The ``+`` operator can be used as a shorthand for ``np.add`` on ndarrays.\n",
      "\n",
      ">>> x1 = np.arange(9.0).reshape((3, 3))\n",
      ">>> x2 = np.arange(3.0)\n",
      ">>> x1 + x2\n",
      "array([[ 0.,  2.,  4.],\n",
      "       [ 3.,  5.,  7.],\n",
      "       [ 6.,  8., 10.]])\n"
     ]
    }
   ],
   "source": [
    "!python -c \"import numpy; numpy.info(numpy.add)\""
   ]
  },
  {
   "cell_type": "markdown",
   "id": "3add7101",
   "metadata": {},
   "source": [
    "#### 6. Create a null vector of sivectore 10 but the fifth value which is 1 (★☆☆)"
   ]
  },
  {
   "cell_type": "code",
   "execution_count": 338,
   "id": "2edf3c42",
   "metadata": {},
   "outputs": [
    {
     "name": "stdout",
     "output_type": "stream",
     "text": [
      "[0. 0. 0. ... 0. 0. 0.]\n"
     ]
    }
   ],
   "source": [
    "vector = nmp.zeros(10)\n",
    "vector[4] = 1\n",
    "print(vector)"
   ]
  },
  {
   "cell_type": "markdown",
   "id": "cfc46304",
   "metadata": {},
   "source": [
    "#### 7. Create a vector with values ranging from 10 to 49 (★☆☆)"
   ]
  },
  {
   "cell_type": "code",
   "execution_count": 339,
   "id": "d8b86640",
   "metadata": {},
   "outputs": [
    {
     "name": "stdout",
     "output_type": "stream",
     "text": [
      "[10 11 12 ... 47 48 49]\n"
     ]
    }
   ],
   "source": [
    "vector = nmp.arange(10,50)\n",
    "print(vector)"
   ]
  },
  {
   "cell_type": "markdown",
   "id": "0cc200be",
   "metadata": {},
   "source": [
    "#### 8. Reverse a vector (first element becomes last) (★☆☆)"
   ]
  },
  {
   "cell_type": "code",
   "execution_count": 340,
   "id": "ec044bb5",
   "metadata": {},
   "outputs": [
    {
     "name": "stdout",
     "output_type": "stream",
     "text": [
      "[49 48 47 ... 12 11 10]\n"
     ]
    }
   ],
   "source": [
    "vector=vector[::-1]\n",
    "print(vector)"
   ]
  },
  {
   "cell_type": "markdown",
   "id": "29d9ede4",
   "metadata": {},
   "source": [
    "#### 9. Create a 3x3 matrix with values ranging from 0 to 8 (★☆☆)"
   ]
  },
  {
   "cell_type": "code",
   "execution_count": 341,
   "id": "d9e39043",
   "metadata": {},
   "outputs": [
    {
     "name": "stdout",
     "output_type": "stream",
     "text": [
      "[[0 1 2]\n",
      " [3 4 5]\n",
      " [6 7 8]]\n"
     ]
    }
   ],
   "source": [
    "vector=nmp.arange(9).reshape(3,3)\n",
    "print(vector)"
   ]
  },
  {
   "cell_type": "markdown",
   "id": "88905ceb",
   "metadata": {},
   "source": [
    "#### 10. Find indices of non-vectorero elements from [1,2,0,0,4,0] (★☆☆)"
   ]
  },
  {
   "cell_type": "code",
   "execution_count": 342,
   "id": "b2f3c90a",
   "metadata": {},
   "outputs": [
    {
     "name": "stdout",
     "output_type": "stream",
     "text": [
      "(array([1, 2, 3], dtype=int64),)\n"
     ]
    }
   ],
   "source": [
    "NonZero = nmp.nonzero([0,1,1,1])\n",
    "print(NonZero)"
   ]
  },
  {
   "cell_type": "markdown",
   "id": "49603e91",
   "metadata": {},
   "source": [
    "#### 11. Create a 3x3 identity matrix (★☆☆)"
   ]
  },
  {
   "cell_type": "code",
   "execution_count": 343,
   "id": "5b607b5c",
   "metadata": {},
   "outputs": [
    {
     "name": "stdout",
     "output_type": "stream",
     "text": [
      "[[1. 0. 0.]\n",
      " [0. 1. 0.]\n",
      " [0. 0. 1.]]\n"
     ]
    }
   ],
   "source": [
    "matrix = nmp.eye(3)\n",
    "print(matrix)"
   ]
  },
  {
   "cell_type": "markdown",
   "id": "e15c249a",
   "metadata": {},
   "source": [
    "#### 12. Create a 3x3x3 array with random values (★☆☆)"
   ]
  },
  {
   "cell_type": "code",
   "execution_count": 344,
   "id": "ab21ed50",
   "metadata": {},
   "outputs": [
    {
     "name": "stdout",
     "output_type": "stream",
     "text": [
      "[[[0.4000898  0.93727762 0.23584267]\n",
      "  [0.9067271  0.33859548 0.82821155]\n",
      "  [0.07975473 0.98901181 0.35068714]]\n",
      "\n",
      " [[0.25779471 0.33669723 0.89394317]\n",
      "  [0.33426358 0.33165335 0.31454636]\n",
      "  [0.93633144 0.02636105 0.05760491]]\n",
      "\n",
      " [[0.50477365 0.24892649 0.32023593]\n",
      "  [0.00271868 0.82427629 0.24658414]\n",
      "  [0.2208733  0.15887497 0.9470053 ]]]\n"
     ]
    }
   ],
   "source": [
    "vector = nmp.random.random((3,3,3))\n",
    "print(vector)"
   ]
  },
  {
   "cell_type": "markdown",
   "id": "157a129c",
   "metadata": {},
   "source": [
    "#### 13. Create a 10x10 array with random values and find the minimum and maximum values (★☆☆)"
   ]
  },
  {
   "cell_type": "code",
   "execution_count": 345,
   "id": "c0066de5",
   "metadata": {},
   "outputs": [
    {
     "name": "stdout",
     "output_type": "stream",
     "text": [
      "0.0027186799136027506 0.9890118126538061\n"
     ]
    }
   ],
   "source": [
    "vectorMin, vectorMax = vector.min(), vector.max()\n",
    "print(vectorMin, vectorMax)"
   ]
  },
  {
   "cell_type": "markdown",
   "id": "d92d7b32",
   "metadata": {},
   "source": [
    "#### 14. Create a random vector of sivectore 30 and find the mean value (★☆☆)"
   ]
  },
  {
   "cell_type": "code",
   "execution_count": 346,
   "id": "9672d023",
   "metadata": {},
   "outputs": [
    {
     "name": "stdout",
     "output_type": "stream",
     "text": [
      "0.5283385629892553\n"
     ]
    }
   ],
   "source": [
    "vector = nmp.random.random(30);\n",
    "print(vector.mean())"
   ]
  },
  {
   "cell_type": "markdown",
   "id": "f361efc0",
   "metadata": {},
   "source": [
    "#### 15. Create a 2d array with 1 on the border and 0 inside (★☆☆)"
   ]
  },
  {
   "cell_type": "code",
   "execution_count": 347,
   "id": "a55b6666",
   "metadata": {},
   "outputs": [
    {
     "name": "stdout",
     "output_type": "stream",
     "text": [
      "[[1. 1. 1.]\n",
      " [1. 0. 1.]\n",
      " [1. 1. 1.]]\n"
     ]
    }
   ],
   "source": [
    "vector=nmp.ones((3,3))\n",
    "vector[1:-1,1:-1] = 0\n",
    "print(vector)"
   ]
  },
  {
   "cell_type": "markdown",
   "id": "475808cb",
   "metadata": {},
   "source": [
    "#### 16. How to add a border (filled with 0's) around an existing array? (★☆☆)"
   ]
  },
  {
   "cell_type": "code",
   "execution_count": 348,
   "id": "b2df3a8a",
   "metadata": {},
   "outputs": [
    {
     "name": "stdout",
     "output_type": "stream",
     "text": [
      "[[0. 0. 0. 0.]\n",
      " [0. 1. 1. 0.]\n",
      " [0. 1. 1. 0.]\n",
      " [0. 0. 0. 0.]]\n"
     ]
    }
   ],
   "source": [
    "vector = nmp.ones((2,2))\n",
    "vector = nmp.pad(vector, pad_width=1, mode='constant', constant_values=0)\n",
    "print(vector)"
   ]
  },
  {
   "cell_type": "markdown",
   "id": "1af07d85",
   "metadata": {},
   "source": [
    "#### 17. What is the result of the following expression? (★☆☆)\n",
    "```python\n",
    "0 * np.nan\n",
    "np.nan == np.nan\n",
    "np.inf > np.nan\n",
    "np.nan - np.nan\n",
    "np.nan in set([np.nan])\n",
    "0.3 == 3 * 0.1\n",
    "```"
   ]
  },
  {
   "cell_type": "code",
   "execution_count": 349,
   "id": "109cf327",
   "metadata": {},
   "outputs": [
    {
     "name": "stdout",
     "output_type": "stream",
     "text": [
      "nan\n",
      "False\n",
      "False\n",
      "nan\n",
      "True\n",
      "False\n"
     ]
    }
   ],
   "source": [
    "print(0 * nmp.nan)\n",
    "print(nmp.nan == nmp.nan)\n",
    "print(nmp.inf > nmp.nan)\n",
    "print(nmp.nan - nmp.nan)\n",
    "print(nmp.nan in set([nmp.nan]))\n",
    "print(0.3 == 3 * 0.1)"
   ]
  },
  {
   "cell_type": "markdown",
   "id": "6a235316",
   "metadata": {},
   "source": [
    "#### 18. Create a 5x5 matrix with values 1,2,3,4 just below the diagonal (★☆☆)"
   ]
  },
  {
   "cell_type": "code",
   "execution_count": 350,
   "id": "f2e6cfa6",
   "metadata": {},
   "outputs": [
    {
     "name": "stdout",
     "output_type": "stream",
     "text": [
      "[[0 0 0 0 0]\n",
      " [1 0 0 0 0]\n",
      " [0 2 0 0 0]\n",
      " [0 0 3 0 0]\n",
      " [0 0 0 4 0]]\n"
     ]
    }
   ],
   "source": [
    "print(nmp.diag(1+nmp.arange(4),k=-1))"
   ]
  },
  {
   "cell_type": "markdown",
   "id": "25362e98",
   "metadata": {},
   "source": [
    "#### 19. Create a 8x8 matrix and fill it with a checkerboard pattern (★☆☆)"
   ]
  },
  {
   "cell_type": "code",
   "execution_count": 351,
   "id": "cabdf298",
   "metadata": {},
   "outputs": [
    {
     "name": "stdout",
     "output_type": "stream",
     "text": [
      "[[0 1 0 ... 1 0 1]\n",
      " [1 0 1 ... 0 1 0]\n",
      " [0 1 0 ... 1 0 1]\n",
      " ...\n",
      " [1 0 1 ... 0 1 0]\n",
      " [0 1 0 ... 1 0 1]\n",
      " [1 0 1 ... 0 1 0]]\n"
     ]
    }
   ],
   "source": [
    "checkerboard = nmp.zeros((8,8),dtype=int)\n",
    "checkerboard[1::2,::2] = 1\n",
    "checkerboard[::2,1::2] = 1\n",
    "print(checkerboard)"
   ]
  },
  {
   "cell_type": "markdown",
   "id": "6431e977",
   "metadata": {},
   "source": [
    "#### 20. Consider a (6,7,8) shape array, what is the index (x,y,vector) of the 100th element? (★☆☆)"
   ]
  },
  {
   "cell_type": "code",
   "execution_count": 352,
   "id": "de8b0245",
   "metadata": {},
   "outputs": [
    {
     "name": "stdout",
     "output_type": "stream",
     "text": [
      "(1, 5, 4)\n"
     ]
    }
   ],
   "source": [
    "print(nmp.unravel_index(100,(6,7,8)))"
   ]
  },
  {
   "cell_type": "markdown",
   "id": "31abe6fe",
   "metadata": {},
   "source": [
    "#### 21. Create a checkerboard 8x8 matrix using the tile function (★☆☆)"
   ]
  },
  {
   "cell_type": "code",
   "execution_count": 353,
   "id": "6da26fd3",
   "metadata": {},
   "outputs": [
    {
     "name": "stdout",
     "output_type": "stream",
     "text": [
      "[[0 1 0 ... 1 0 1]\n",
      " [1 0 1 ... 0 1 0]\n",
      " [0 1 0 ... 1 0 1]\n",
      " ...\n",
      " [1 0 1 ... 0 1 0]\n",
      " [0 1 0 ... 1 0 1]\n",
      " [1 0 1 ... 0 1 0]]\n"
     ]
    }
   ],
   "source": [
    "checkerboard = nmp.tile( nmp.array([[0,1],[1,0]]), (4,4))\n",
    "print(checkerboard)"
   ]
  },
  {
   "cell_type": "markdown",
   "id": "fd88b3f4",
   "metadata": {},
   "source": [
    "#### 22. Normalivectore a 5x5 random matrix (★☆☆)"
   ]
  },
  {
   "cell_type": "code",
   "execution_count": 354,
   "id": "ee6ced60",
   "metadata": {},
   "outputs": [
    {
     "name": "stdout",
     "output_type": "stream",
     "text": [
      "[[0. 0. 0. 0.]\n",
      " [0. 1. 1. 0.]\n",
      " [0. 1. 1. 0.]\n",
      " [0. 0. 0. 0.]]\n"
     ]
    }
   ],
   "source": [
    "matrix = nmp.random.random((5,5))\n",
    "matrix  = (matrix  - nmp.mean (matrix)) / (nmp.std (matrix))\n",
    "print(vector)"
   ]
  },
  {
   "cell_type": "markdown",
   "id": "464d8590",
   "metadata": {},
   "source": [
    "#### 23. Create a custom dtype that describes a color as four unsigned bytes (RGBA) (★☆☆)"
   ]
  },
  {
   "cell_type": "code",
   "execution_count": 355,
   "id": "e2f9cfc6",
   "metadata": {},
   "outputs": [
    {
     "name": "stdout",
     "output_type": "stream",
     "text": [
      "[('r', 'u1'), ('g', 'u1'), ('b', 'u1'), ('a', 'u1')]\n"
     ]
    },
    {
     "name": "stderr",
     "output_type": "stream",
     "text": [
      "C:\\Users\\romac\\AppData\\Local\\Temp\\ipykernel_21428\\325070627.py:1: FutureWarning: Passing (type, 1) or '1type' as a synonym of type is deprecated; in a future version of numpy, it will be understood as (type, (1,)) / '(1,)type'.\n",
      "  custom_dtype = nmp.dtype([\n"
     ]
    }
   ],
   "source": [
    "custom_dtype = nmp.dtype([\n",
    "    ('r',nmp.ubyte,1),\n",
    "    ('g', nmp.ubyte, 1),\n",
    "    ('b', nmp.ubyte, 1),\n",
    "    ('a', nmp.ubyte, 1)])\n",
    "print(custom_dtype)"
   ]
  },
  {
   "cell_type": "markdown",
   "id": "06c63bb3",
   "metadata": {},
   "source": [
    "#### 24. Multiply a 5x3 matrix by a 3x2 matrix (real matrix product) (★☆☆)"
   ]
  },
  {
   "cell_type": "code",
   "execution_count": 356,
   "id": "9fc0d553",
   "metadata": {},
   "outputs": [
    {
     "name": "stdout",
     "output_type": "stream",
     "text": [
      "[[3. 3.]\n",
      " [3. 3.]\n",
      " [3. 3.]\n",
      " [3. 3.]\n",
      " [3. 3.]]\n"
     ]
    }
   ],
   "source": [
    "multiply_matrix = nmp.dot(nmp.ones((5,3)),nmp.ones((3,2)))\n",
    "print(multiply_matrix)"
   ]
  },
  {
   "cell_type": "markdown",
   "id": "76fa6285",
   "metadata": {},
   "source": [
    "#### 25. Given a 1D array, negate all elements which are between 3 and 8, in place. (★☆☆)"
   ]
  },
  {
   "cell_type": "code",
   "execution_count": 357,
   "id": "0e25eca7",
   "metadata": {},
   "outputs": [
    {
     "name": "stdout",
     "output_type": "stream",
     "text": [
      "[ 0  1  2 ... -8  9 10]\n"
     ]
    }
   ],
   "source": [
    "_1d_array = nmp.arange(11)\n",
    "_1d_array[(3<_1d_array)&(_1d_array<=8)]*=-1\n",
    "print(_1d_array)"
   ]
  },
  {
   "cell_type": "markdown",
   "id": "930ed8bb",
   "metadata": {},
   "source": [
    "#### 26. What is the output of the following script? (★☆☆)\n",
    "```python\n",
    "# Author: Jake VanderPlas\n",
    "\n",
    "print(sum(range(5),-1))\n",
    "from numpy import *\n",
    "print(sum(range(5),-1))\n",
    "```"
   ]
  },
  {
   "cell_type": "code",
   "execution_count": 358,
   "id": "f02eedba",
   "metadata": {},
   "outputs": [
    {
     "data": {
      "text/plain": "10"
     },
     "execution_count": 358,
     "metadata": {},
     "output_type": "execute_result"
    }
   ],
   "source": [
    "9\n",
    "10"
   ]
  },
  {
   "cell_type": "markdown",
   "id": "177120e7",
   "metadata": {},
   "source": [
    "#### 27. Consider an integer vector Z, which of these expressions are legal? (★☆☆)\n",
    "```python\n",
    "Z**Z\n",
    "2 << Z >> 2\n",
    "Z <- Z\n",
    "1j*Z\n",
    "Z/1/1\n",
    "Z<Z>Z\n",
    "```"
   ]
  },
  {
   "cell_type": "code",
   "execution_count": 359,
   "id": "86d6cbef",
   "metadata": {},
   "outputs": [],
   "source": [
    "Z = vector = nmp.zeros((5,5))"
   ]
  },
  {
   "cell_type": "markdown",
   "id": "a6eaf0e8",
   "metadata": {},
   "source": [
    "#### 28. What are the result of the following expressions? (★☆☆)\n",
    "```python\n",
    "nmp.array(0) / nmp.array(0)\n",
    "nmp.array(0) // nmp.array(0)\n",
    "nmp.array([nmp.nan]).astype(int).astype(float)\n",
    "```"
   ]
  },
  {
   "cell_type": "markdown",
   "source": [
    "print(nmp.array(0) / nmp.array(0))\n",
    "print(nmp.array(0) // nmp.array(0))\n",
    "print(nmp.array([nmp.nan]).astype(int).astype(float))"
   ],
   "metadata": {
    "collapsed": false
   }
  },
  {
   "cell_type": "markdown",
   "id": "524b65f8",
   "metadata": {},
   "source": [
    "#### 29. How to round away from zero a float array ? (★☆☆)"
   ]
  },
  {
   "cell_type": "code",
   "execution_count": 360,
   "id": "61fbb78e",
   "metadata": {},
   "outputs": [
    {
     "data": {
      "text/plain": "array([ 1.,  1.,  1., ...,  1., -1., -1.])"
     },
     "execution_count": 360,
     "metadata": {},
     "output_type": "execute_result"
    }
   ],
   "source": [
    "vector=nmp.zeros(10);\n",
    "vector=nmp.random.uniform(-1,+1,10)\n",
    "nmp.copysign(nmp.ceil(nmp.abs(vector)),vector)"
   ]
  },
  {
   "cell_type": "code",
   "execution_count": 361,
   "outputs": [],
   "source": [
    "#### 30. How to find common values between two arrays? (★☆☆)"
   ],
   "metadata": {
    "collapsed": false
   }
  },
  {
   "cell_type": "code",
   "execution_count": 362,
   "id": "54399cbe",
   "metadata": {},
   "outputs": [
    {
     "data": {
      "text/plain": "array([2, 3, 5])"
     },
     "execution_count": 362,
     "metadata": {},
     "output_type": "execute_result"
    }
   ],
   "source": [
    "arr1 = [1,2,3,4,5]\n",
    "arr2=[5,7,5,3,2]\n",
    "nmp.intersect1d(arr1,arr2)"
   ]
  },
  {
   "cell_type": "markdown",
   "id": "b7f38e21",
   "metadata": {},
   "source": [
    "#### 31. How to ignore all numpy warnings (not recommended)? (★☆☆)"
   ]
  },
  {
   "cell_type": "code",
   "execution_count": 363,
   "id": "2ca3289c",
   "metadata": {},
   "outputs": [],
   "source": [
    "#nmp.seterr(all=\"ignore\")"
   ]
  },
  {
   "cell_type": "markdown",
   "id": "2d850aab",
   "metadata": {},
   "source": [
    "#### 32. Is the following expressions true? (★☆☆)\n",
    "```python\n",
    "nmp.sqrt(-1) == nmp.emath.sqrt(-1)\n",
    "```"
   ]
  },
  {
   "cell_type": "code",
   "execution_count": 364,
   "id": "5c83ffce",
   "metadata": {},
   "outputs": [
    {
     "data": {
      "text/plain": "False"
     },
     "execution_count": 364,
     "metadata": {},
     "output_type": "execute_result"
    }
   ],
   "source": [
    "False"
   ]
  },
  {
   "cell_type": "markdown",
   "id": "5c4a556f",
   "metadata": {},
   "source": [
    "#### 33. How to get the dates of yesterday, today and tomorrow? (★☆☆)"
   ]
  },
  {
   "cell_type": "code",
   "execution_count": 365,
   "id": "c3b683a0",
   "metadata": {},
   "outputs": [
    {
     "name": "stdout",
     "output_type": "stream",
     "text": [
      "2022-12-04\n",
      "2022-12-05\n",
      "2022-12-06\n"
     ]
    }
   ],
   "source": [
    "yesterday = nmp.datetime64('today', 'D') - nmp.timedelta64(1, 'D')\n",
    "today     = nmp.datetime64('today', 'D')\n",
    "tomorrow  = nmp.datetime64('today', 'D') + nmp.timedelta64(1, 'D')\n",
    "print(yesterday)\n",
    "print(today)\n",
    "print(tomorrow)"
   ]
  },
  {
   "cell_type": "markdown",
   "id": "453cdd64",
   "metadata": {},
   "source": [
    "#### 34. How to get all the dates corresponding to the month of July 2016? (★★☆)"
   ]
  },
  {
   "cell_type": "code",
   "execution_count": 366,
   "id": "4ba4d37c",
   "metadata": {},
   "outputs": [
    {
     "data": {
      "text/plain": "array(['2016-07-01', '2016-07-02', '2016-07-03', ..., '2016-07-29',\n       '2016-07-30', '2016-07-31'], dtype='datetime64[D]')"
     },
     "execution_count": 366,
     "metadata": {},
     "output_type": "execute_result"
    }
   ],
   "source": [
    "july_days = nmp.arange('2016-07','2016-08',dtype='datetime64[D]')\n",
    "july_days"
   ]
  },
  {
   "cell_type": "markdown",
   "id": "52667b6e",
   "metadata": {},
   "source": [
    "#### 35. How to compute ((A+B)*(-A/2)) in place (without copy)? (★★☆)"
   ]
  },
  {
   "cell_type": "code",
   "execution_count": 367,
   "id": "e6e7c030",
   "metadata": {},
   "outputs": [
    {
     "data": {
      "text/plain": "-6.0"
     },
     "execution_count": 367,
     "metadata": {},
     "output_type": "execute_result"
    }
   ],
   "source": [
    "A = 2\n",
    "B= 4\n",
    "nmp.multiply(nmp.add(A,B),(nmp.divide(nmp.negative(A),2)))"
   ]
  },
  {
   "cell_type": "markdown",
   "id": "9a8f3738",
   "metadata": {},
   "source": [
    "#### 36. Extract the integer part of a random array of positive numbers using 4 different methods (★★☆)"
   ]
  },
  {
   "cell_type": "code",
   "execution_count": 368,
   "id": "368a801a",
   "metadata": {},
   "outputs": [
    {
     "name": "stdout",
     "output_type": "stream",
     "text": [
      "[7. 8. 3. ... 4. 5. 8.]\n",
      "[7. 8. 3. ... 4. 5. 8.]\n",
      "[7. 8. 3. ... 4. 5. 8.]\n",
      "[7 8 3 ... 4 5 8]\n",
      "[7. 8. 3. ... 4. 5. 8.]\n"
     ]
    }
   ],
   "source": [
    "vector=nmp.random.uniform(0,10,10)\n",
    "\n",
    "print (vector - vector%1)\n",
    "print (nmp.floor(vector))\n",
    "print (nmp.ceil(vector)-1)\n",
    "print (vector.astype(int))\n",
    "print (nmp.trunc(vector))"
   ]
  },
  {
   "cell_type": "markdown",
   "id": "cab1eed1",
   "metadata": {},
   "source": [
    "#### 37. Create a 5x5 matrix with row values ranging from 0 to 4 (★★☆)"
   ]
  },
  {
   "cell_type": "code",
   "execution_count": 369,
   "id": "f1b579ba",
   "metadata": {},
   "outputs": [
    {
     "name": "stdout",
     "output_type": "stream",
     "text": [
      "[[0. 1. 2. 3. 4.]\n",
      " [0. 1. 2. 3. 4.]\n",
      " [0. 1. 2. 3. 4.]\n",
      " [0. 1. 2. 3. 4.]\n",
      " [0. 1. 2. 3. 4.]]\n"
     ]
    }
   ],
   "source": [
    "vector = nmp.zeros((5,5))\n",
    "vector += nmp.arange(5)\n",
    "print(vector)"
   ]
  },
  {
   "cell_type": "markdown",
   "id": "cd0ce6b1",
   "metadata": {},
   "source": [
    "#### 38. Consider a generator function that generates 10 integers and use it to build an array (★☆☆)"
   ]
  },
  {
   "cell_type": "code",
   "execution_count": 370,
   "id": "aab193a6",
   "metadata": {},
   "outputs": [
    {
     "name": "stdout",
     "output_type": "stream",
     "text": [
      "[0. 1. 2. ... 7. 8. 9.]\n"
     ]
    }
   ],
   "source": [
    "def generator():\n",
    "    for x in range(10):\n",
    "        yield x\n",
    "vector = nmp.fromiter(generator(),dtype=float,count=-1)\n",
    "print(vector)"
   ]
  },
  {
   "cell_type": "markdown",
   "id": "c4c942d1",
   "metadata": {},
   "source": [
    "#### 39. Create a vector of size 10 with values ranging from 0 to 1, both excluded (★★☆)"
   ]
  },
  {
   "cell_type": "code",
   "execution_count": 371,
   "id": "e42eaa4b",
   "metadata": {},
   "outputs": [
    {
     "name": "stdout",
     "output_type": "stream",
     "text": [
      "[0.09090909 0.18181818 0.27272727 ... 0.72727273 0.81818182 0.90909091]\n"
     ]
    }
   ],
   "source": [
    "vector = nmp.linspace(0,1,11,endpoint=False)[1:]\n",
    "print(vector)"
   ]
  },
  {
   "cell_type": "markdown",
   "id": "9b3cb8d2",
   "metadata": {},
   "source": [
    "#### 40. Create a random vector of size 10 and sort it (★★☆)"
   ]
  },
  {
   "cell_type": "code",
   "execution_count": 372,
   "id": "37d2b341",
   "metadata": {},
   "outputs": [
    {
     "data": {
      "text/plain": "array([0.00309746, 0.00377643, 0.0062032 , ..., 0.70225428, 0.89837342,\n       0.92281662])"
     },
     "execution_count": 372,
     "metadata": {},
     "output_type": "execute_result"
    }
   ],
   "source": [
    "vector = nmp.random.random(10)\n",
    "vector.sort()\n",
    "vector"
   ]
  },
  {
   "cell_type": "markdown",
   "id": "2facfddc",
   "metadata": {},
   "source": [
    "#### 41. How to sum a small array faster than nmp.sum? (★★☆)"
   ]
  },
  {
   "cell_type": "code",
   "execution_count": 373,
   "id": "4bb8864f",
   "metadata": {},
   "outputs": [
    {
     "data": {
      "text/plain": "45"
     },
     "execution_count": 373,
     "metadata": {},
     "output_type": "execute_result"
    }
   ],
   "source": [
    "vector = nmp.arange(10)\n",
    "nmp.add.reduce(vector)"
   ]
  },
  {
   "cell_type": "markdown",
   "id": "539cd2a5",
   "metadata": {},
   "source": [
    "#### 42. Consider two random array A and B, check if they are equal (★★☆)"
   ]
  },
  {
   "cell_type": "code",
   "execution_count": 374,
   "id": "5246d7bf",
   "metadata": {},
   "outputs": [
    {
     "name": "stdout",
     "output_type": "stream",
     "text": [
      "False\n",
      "False\n"
     ]
    }
   ],
   "source": [
    "A = [1,2,3]\n",
    "B  = [1,2,4]\n",
    "\n",
    "equal = nmp.allclose(A,B)\n",
    "print(equal)\n",
    "\n",
    "equal = nmp.array_equal(A,B)\n",
    "print(equal)"
   ]
  },
  {
   "cell_type": "markdown",
   "id": "448f8274",
   "metadata": {},
   "source": [
    "#### 43. Make an array immutable (read-only) (★★☆)"
   ]
  },
  {
   "cell_type": "code",
   "execution_count": 375,
   "id": "7cf2b3dd",
   "metadata": {},
   "outputs": [],
   "source": [
    "vector.flags.writeable = False"
   ]
  },
  {
   "cell_type": "markdown",
   "id": "d7b7aaf3",
   "metadata": {},
   "source": [
    "#### 44. Consider a random 10x2 matrix representing cartesian coordinates, convert them to polar coordinates (★★☆)"
   ]
  },
  {
   "cell_type": "code",
   "execution_count": 376,
   "id": "e2337585",
   "metadata": {},
   "outputs": [
    {
     "name": "stdout",
     "output_type": "stream",
     "text": [
      "[1.37746076 0.8467144  0.8659385  ... 0.70638438 0.37706065 1.13923467]\n",
      "[0.7911396  0.20839746 0.85241475 ... 0.93460172 0.83209013 0.90501123]\n"
     ]
    }
   ],
   "source": [
    "vector = nmp.random.random((10,2))\n",
    "X,Y = vector[:,0], vector[:,1]\n",
    "R = nmp.sqrt(X**2+Y**2)\n",
    "T = nmp.arctan2(Y,X)\n",
    "print(R)\n",
    "print(T)"
   ]
  },
  {
   "cell_type": "markdown",
   "id": "a556027a",
   "metadata": {},
   "source": [
    "#### 45. Create random vector of size 10 and replace the maximum value by 0 (★★☆)"
   ]
  },
  {
   "cell_type": "code",
   "execution_count": 377,
   "id": "9e07cb87",
   "metadata": {},
   "outputs": [
    {
     "name": "stdout",
     "output_type": "stream",
     "text": [
      "[1 2 3 0]\n"
     ]
    }
   ],
   "source": [
    "vector = nmp.array([1,2,3,4])\n",
    "vector[vector.argmax()] = 0\n",
    "print(vector)"
   ]
  },
  {
   "cell_type": "markdown",
   "id": "004f3da1",
   "metadata": {},
   "source": [
    "#### 46. Create a structured array with `x` and `y` coordinates covering the [0,1]x[0,1] area (★★☆)"
   ]
  },
  {
   "cell_type": "code",
   "execution_count": 378,
   "id": "b3824741",
   "metadata": {},
   "outputs": [
    {
     "name": "stdout",
     "output_type": "stream",
     "text": [
      "[[(0.  , 0.  ) (0.25, 0.  ) (0.5 , 0.  ) (0.75, 0.  ) (1.  , 0.  )]\n",
      " [(0.  , 0.25) (0.25, 0.25) (0.5 , 0.25) (0.75, 0.25) (1.  , 0.25)]\n",
      " [(0.  , 0.5 ) (0.25, 0.5 ) (0.5 , 0.5 ) (0.75, 0.5 ) (1.  , 0.5 )]\n",
      " [(0.  , 0.75) (0.25, 0.75) (0.5 , 0.75) (0.75, 0.75) (1.  , 0.75)]\n",
      " [(0.  , 1.  ) (0.25, 1.  ) (0.5 , 1.  ) (0.75, 1.  ) (1.  , 1.  )]]\n"
     ]
    }
   ],
   "source": [
    "vector = nmp.zeros((5,5), [('x',float),('y',float)])\n",
    "vector['x'], vector['y'] = nmp.meshgrid(nmp.linspace(0,1,5),\n",
    "                             nmp.linspace(0,1,5))\n",
    "print(vector)"
   ]
  },
  {
   "cell_type": "markdown",
   "id": "1c0adc0d",
   "metadata": {},
   "source": [
    "#### 47. Given two arrays, X and Y, construct the Cauchy matrix C (Cij =1/(xi - yj)) (★★☆)"
   ]
  },
  {
   "cell_type": "code",
   "execution_count": 379,
   "id": "01b3bbb7",
   "metadata": {},
   "outputs": [
    {
     "name": "stdout",
     "output_type": "stream",
     "text": [
      "3638.163637117973\n"
     ]
    }
   ],
   "source": [
    "X = nmp.arange(8)\n",
    "Y = X + 0.5\n",
    "C = 1.0 / nmp.subtract.outer(X, Y)\n",
    "print(nmp.linalg.det(C))"
   ]
  },
  {
   "cell_type": "markdown",
   "id": "c8a2f65a",
   "metadata": {},
   "source": [
    "#### 48. Print the minimum and maximum representable value for each numpy scalar type (★★☆)"
   ]
  },
  {
   "cell_type": "code",
   "execution_count": 380,
   "id": "35d844d6",
   "metadata": {},
   "outputs": [
    {
     "name": "stdout",
     "output_type": "stream",
     "text": [
      "-128\n",
      "127\n",
      "-2147483648\n",
      "2147483647\n",
      "-9223372036854775808\n",
      "9223372036854775807\n",
      "-3.4028235e+38\n",
      "3.4028235e+38\n",
      "1.1920929e-07\n",
      "-1.7976931348623157e+308\n",
      "1.7976931348623157e+308\n",
      "2.220446049250313e-16\n"
     ]
    }
   ],
   "source": [
    "for dtype in [nmp.int8, nmp.int32, nmp.int64]:\n",
    "   print(nmp.iinfo(dtype).min)\n",
    "   print(nmp.iinfo(dtype).max)\n",
    "for dtype in [nmp.float32, nmp.float64]:\n",
    "   print(nmp.finfo(dtype).min)\n",
    "   print(nmp.finfo(dtype).max)\n",
    "   print(nmp.finfo(dtype).eps)"
   ]
  },
  {
   "cell_type": "markdown",
   "id": "11727a69",
   "metadata": {},
   "source": [
    "#### 49. How to print all the values of an array? (★★☆)"
   ]
  },
  {
   "cell_type": "code",
   "execution_count": 381,
   "id": "47e98473",
   "metadata": {},
   "outputs": [
    {
     "name": "stdout",
     "output_type": "stream",
     "text": [
      "[[0. 0. 0. 0.]\n",
      " [0. 0. 0. 0.]\n",
      " [0. 0. 0. 0.]\n",
      " [0. 0. 0. 0.]]\n"
     ]
    }
   ],
   "source": [
    "nmp.set_printoptions(threshold=0)\n",
    "matrix = nmp.zeros((4,4))\n",
    "print(matrix)"
   ]
  },
  {
   "cell_type": "markdown",
   "id": "e0e7d741",
   "metadata": {},
   "source": [
    "#### 50. How to find the closest value (to a given scalar) in a vector? (★★☆)"
   ]
  },
  {
   "cell_type": "code",
   "execution_count": 382,
   "id": "62cabf6f",
   "metadata": {},
   "outputs": [
    {
     "name": "stdout",
     "output_type": "stream",
     "text": [
      "2\n"
     ]
    }
   ],
   "source": [
    "vector = nmp.arange(100)\n",
    "\n",
    "num = nmp.random.uniform(0,100);\n",
    "\n",
    "index = (nmp.abs(vector-num)).argmin()\n",
    "print(vector[index])\n"
   ]
  },
  {
   "cell_type": "markdown",
   "id": "c5611b9e",
   "metadata": {},
   "source": [
    "#### 51. Create a structured array representing a position (x,y) and a color (r,g,b) (★★☆)"
   ]
  },
  {
   "cell_type": "code",
   "execution_count": 383,
   "id": "f622939d",
   "metadata": {},
   "outputs": [
    {
     "name": "stdout",
     "output_type": "stream",
     "text": [
      "[((0., 0.), (0., 0., 0.)) ((0., 0.), (0., 0., 0.))\n",
      " ((0., 0.), (0., 0., 0.)) ... ((0., 0.), (0., 0., 0.))\n",
      " ((0., 0.), (0., 0., 0.)) ((0., 0.), (0., 0., 0.))]\n"
     ]
    },
    {
     "name": "stderr",
     "output_type": "stream",
     "text": [
      "C:\\Users\\romac\\AppData\\Local\\Temp\\ipykernel_21428\\1562268534.py:1: FutureWarning: Passing (type, 1) or '1type' as a synonym of type is deprecated; in a future version of numpy, it will be understood as (type, (1,)) / '(1,)type'.\n",
      "  array = nmp.zeros(10, [ ('position', [ ('x', float, 1),\n"
     ]
    }
   ],
   "source": [
    "\n",
    "\n",
    "array = nmp.zeros(10, [ ('position', [ ('x', float, 1),\n",
    "                                  ('y', float, 1)]),\n",
    "                   ('color',    [ ('r', float, 1),\n",
    "                                  ('g', float, 1),\n",
    "                                  ('b', float, 1)])])\n",
    "print(array)"
   ]
  },
  {
   "cell_type": "markdown",
   "id": "d22b8574",
   "metadata": {},
   "source": [
    "#### 52. Consider a random vector with shape (100,2) representing coordinates, find point by point distances (★★☆)"
   ]
  },
  {
   "cell_type": "code",
   "execution_count": 384,
   "id": "d5c9cdf8",
   "metadata": {},
   "outputs": [
    {
     "name": "stdout",
     "output_type": "stream",
     "text": [
      "[[0.         0.83566494 0.59712507 ... 0.71525499 0.45066003 0.72477342]\n",
      " [0.83566494 0.         0.89717174 ... 0.28228435 0.47433469 0.25618178]\n",
      " [0.59712507 0.89717174 0.         ... 0.62968945 0.81716169 0.95942798]\n",
      " ...\n",
      " [0.71525499 0.28228435 0.62968945 ... 0.         0.5095467  0.4459628 ]\n",
      " [0.45066003 0.47433469 0.81716169 ... 0.5095467  0.         0.28849708]\n",
      " [0.72477342 0.25618178 0.95942798 ... 0.4459628  0.28849708 0.        ]]\n"
     ]
    }
   ],
   "source": [
    "vector = nmp.random.random((100,2))\n",
    "X,Y = nmp.atleast_2d(vector[:,0], vector[:,1])\n",
    "distance = nmp.sqrt( (X-X.T)**2 + (Y-Y.T)**2)\n",
    "\n",
    "print(distance)\n"
   ]
  },
  {
   "cell_type": "markdown",
   "id": "f5c164f2",
   "metadata": {},
   "source": [
    "#### 53. How to convert a float (32 bits) array into an integer (32 bits) in place?"
   ]
  },
  {
   "cell_type": "code",
   "execution_count": 385,
   "id": "ea262de8",
   "metadata": {},
   "outputs": [
    {
     "name": "stdout",
     "output_type": "stream",
     "text": [
      "[0. 1. 2. 3. 4.]\n",
      "[0 1 2 3 4]\n"
     ]
    }
   ],
   "source": [
    "\n",
    "array = nmp.arange(5, dtype=nmp.float32)\n",
    "print(array)\n",
    "array = array.astype(nmp.int32, copy=False)\n",
    "print(array)"
   ]
  },
  {
   "cell_type": "markdown",
   "id": "a8b7e6f5",
   "metadata": {},
   "source": [
    "#### 54. How to read the following file? (★★☆)\n",
    "```\n",
    "1, 2, 3, 4, 5\n",
    "6,  ,  , 7, 8\n",
    " ,  , 9,10,11\n",
    "```"
   ]
  },
  {
   "cell_type": "code",
   "execution_count": 386,
   "id": "bde0538a",
   "metadata": {},
   "outputs": [
    {
     "data": {
      "text/plain": "array([[ 1,  2,  3,  4,  5],\n       [ 6, -1, -1,  7,  8],\n       [-1, -1,  9, 10, 11]])"
     },
     "execution_count": 386,
     "metadata": {},
     "output_type": "execute_result"
    }
   ],
   "source": [
    "from io import StringIO\n",
    "file = StringIO(\"\"\"1, 2, 3, 4, 5\\n\n",
    "                6,  ,  , 7, 8\\n\n",
    "                 ,  , 9,10,11\\n\"\"\")\n",
    "matrix = nmp.genfromtxt(file, delimiter=\",\", dtype=int)\n",
    "matrix"
   ]
  },
  {
   "cell_type": "markdown",
   "id": "c6b32834",
   "metadata": {},
   "source": [
    "#### 55. What is the equivalent of enumerate for numpy arrays? (★★☆)"
   ]
  },
  {
   "cell_type": "code",
   "execution_count": 387,
   "id": "ab02472a",
   "metadata": {},
   "outputs": [
    {
     "name": "stdout",
     "output_type": "stream",
     "text": [
      "(0, 0) 0\n",
      "(0, 1) 1\n",
      "(1, 0) 2\n",
      "(1, 1) 3\n",
      "--------\n",
      "(0, 0) 0\n",
      "(0, 1) 1\n",
      "(1, 0) 2\n",
      "(1, 1) 3\n"
     ]
    }
   ],
   "source": [
    "\n",
    "matrix = nmp.arange(4).reshape(2,2)\n",
    "for index, value in nmp.ndenumerate(matrix):\n",
    "    print(index, value)\n",
    "\n",
    "print('--------')\n",
    "for index in nmp.ndindex(matrix.shape):\n",
    "        print(index, matrix[index])"
   ]
  },
  {
   "cell_type": "markdown",
   "id": "a2121a05",
   "metadata": {},
   "source": [
    "#### 56. Generate a generic 2D Gaussian-like array (★★☆)"
   ]
  },
  {
   "cell_type": "code",
   "execution_count": 388,
   "id": "18507102",
   "metadata": {},
   "outputs": [
    {
     "name": "stdout",
     "output_type": "stream",
     "text": [
      "[[0.36787944 0.60653066 0.36787944]\n",
      " [0.60653066 1.         0.60653066]\n",
      " [0.36787944 0.60653066 0.36787944]]\n"
     ]
    }
   ],
   "source": [
    "X, Y = nmp.meshgrid(nmp.linspace(-1,1,3), nmp.linspace(-1,1,3))\n",
    "\n",
    "D = nmp.sqrt(X*X+Y*Y)\n",
    "sigma, mu = 1.0, 0.0\n",
    "G = nmp.exp(-( (D-mu)**2 / ( 2.0 * sigma**2 ) ) )\n",
    "print(G)"
   ]
  },
  {
   "cell_type": "markdown",
   "id": "97055efa",
   "metadata": {},
   "source": [
    "#### 57. How to randomly place p elements in a 2D array? (★★☆)"
   ]
  },
  {
   "cell_type": "code",
   "execution_count": 389,
   "id": "292e842f",
   "metadata": {},
   "outputs": [
    {
     "name": "stdout",
     "output_type": "stream",
     "text": [
      "[[0. 0. 1. 0.]\n",
      " [0. 0. 0. 0.]\n",
      " [0. 0. 0. 0.]\n",
      " [0. 0. 0. 0.]]\n"
     ]
    }
   ],
   "source": [
    "N = 4\n",
    "p = 1\n",
    "matrix = nmp.zeros((N,N))\n",
    "nmp.put(matrix, nmp.random.choice(range(N*N), p, replace=False),1)\n",
    "print(matrix)"
   ]
  },
  {
   "cell_type": "markdown",
   "id": "bfd2513c",
   "metadata": {},
   "source": [
    "#### 58. Subtract the mean of each row of a matrix (★★☆)"
   ]
  },
  {
   "cell_type": "code",
   "execution_count": 390,
   "id": "f306ab72",
   "metadata": {},
   "outputs": [
    {
     "name": "stdout",
     "output_type": "stream",
     "text": [
      "[[ 0.13453863 -0.13453863]\n",
      " [ 0.03446841 -0.03446841]]\n"
     ]
    }
   ],
   "source": [
    "X = nmp.random.rand(2, 2)\n",
    "Y = X - X.mean(axis=1, keepdims=True)\n",
    "print(Y)\n"
   ]
  },
  {
   "cell_type": "markdown",
   "id": "da9f2f9b",
   "metadata": {},
   "source": [
    "#### 59. How to sort an array by the nth column? (★★☆)"
   ]
  },
  {
   "cell_type": "code",
   "execution_count": 391,
   "id": "68cde57f",
   "metadata": {},
   "outputs": [
    {
     "name": "stdout",
     "output_type": "stream",
     "text": [
      "[[2 5 6]\n",
      " [1 7 7]\n",
      " [5 5 2]]\n",
      "[[2 5 6]\n",
      " [5 5 2]\n",
      " [1 7 7]]\n"
     ]
    }
   ],
   "source": [
    "matrix = nmp.random.randint(0,10,(3,3))\n",
    "print(matrix)\n",
    "print(matrix[matrix[:,1].argsort()])"
   ]
  },
  {
   "cell_type": "markdown",
   "id": "5b7be45c",
   "metadata": {},
   "source": [
    "#### 60. How to tell if a given 2D array has null columns? (★★☆)"
   ]
  },
  {
   "cell_type": "code",
   "execution_count": 392,
   "id": "7dbe2c27",
   "metadata": {},
   "outputs": [
    {
     "name": "stdout",
     "output_type": "stream",
     "text": [
      "[[0 0 0]\n",
      " [0 0 0]\n",
      " [0 0 0]]\n",
      "True\n"
     ]
    }
   ],
   "source": [
    "array = nmp.random.randint(0,1,(3,3))\n",
    "print (array)\n",
    "print((~array.any(axis=0)).any())"
   ]
  },
  {
   "cell_type": "markdown",
   "id": "7c18c02e",
   "metadata": {},
   "source": [
    "#### 61. Find the nearest value from a given value in an array (★★☆)"
   ]
  },
  {
   "cell_type": "code",
   "execution_count": 393,
   "id": "b78ae9c4",
   "metadata": {},
   "outputs": [
    {
     "name": "stdout",
     "output_type": "stream",
     "text": [
      "[0.58428356 0.16092278 0.61475696 ... 0.31806619 0.32610482 0.88228726]\n",
      "0.8822872648331274\n"
     ]
    }
   ],
   "source": [
    "array = nmp.random.uniform(0,1,10)\n",
    "print(array)\n",
    "given_value = 0.9\n",
    "nearest_value = array.flat[nmp.abs(array - given_value).argmin()]\n",
    "print(nearest_value)"
   ]
  },
  {
   "cell_type": "markdown",
   "id": "8174ba2c",
   "metadata": {},
   "source": [
    "#### 62. Considering two arrays with shape (1,3) and (3,1), how to compute their sum using an iterator? (★★☆)"
   ]
  },
  {
   "cell_type": "code",
   "execution_count": 394,
   "id": "8a18fe57",
   "metadata": {},
   "outputs": [
    {
     "name": "stdout",
     "output_type": "stream",
     "text": [
      "[[0]\n",
      " [1]\n",
      " [2]]\n",
      "[[0 1 2]]\n",
      "[[0 1 2]\n",
      " [1 2 3]\n",
      " [2 3 4]]\n"
     ]
    }
   ],
   "source": [
    "array1 = nmp.arange(3).reshape(3,1)\n",
    "print(array1)\n",
    "array2 = nmp.arange(3).reshape(1,3)\n",
    "print(array2)\n",
    "it = nmp.nditer([array1,array2,None])\n",
    "for x,y,z in it: z[...] = x + y\n",
    "print(it.operands[2])"
   ]
  },
  {
   "cell_type": "markdown",
   "id": "9189bd7c",
   "metadata": {},
   "source": [
    "#### 63. Create an array class that has a name attribute (★★☆)"
   ]
  },
  {
   "cell_type": "code",
   "execution_count": 395,
   "id": "1c01ed42",
   "metadata": {},
   "outputs": [
    {
     "name": "stdout",
     "output_type": "stream",
     "text": [
      "123\n"
     ]
    }
   ],
   "source": [
    "class MyArray(nmp.ndarray):\n",
    "    def __new__(cls, array, name=\"empty\"):\n",
    "        obj = nmp.asarray(array).view(cls)\n",
    "        obj.name = name\n",
    "        return obj\n",
    "\n",
    "    def __array_finalize__(self, obj):\n",
    "        if obj is None: return\n",
    "        self.info = getattr(obj, 'name', \"empty\")\n",
    "arr = MyArray(nmp.arange(3),'123');\n",
    "print(arr.name)\n"
   ]
  },
  {
   "cell_type": "markdown",
   "id": "f30162d2",
   "metadata": {},
   "source": [
    "#### 64. Consider a given vector, how to add 1 to each element indexed by a second vector (be careful with repeated indices)? (★★★)"
   ]
  },
  {
   "cell_type": "code",
   "execution_count": 396,
   "id": "093ba36f",
   "metadata": {},
   "outputs": [
    {
     "name": "stdout",
     "output_type": "stream",
     "text": [
      "[4. 3. 3. ... 2. 1. 4.]\n"
     ]
    }
   ],
   "source": [
    "vector = nmp.ones(10)\n",
    "I = nmp.random.randint(0,len(vector),20)\n",
    "nmp.add.at(vector, I, 1)\n",
    "print(vector)"
   ]
  },
  {
   "cell_type": "markdown",
   "id": "f5b1c584",
   "metadata": {},
   "source": [
    "#### 65. How to accumulate elements of a vector (X) to an array (F) based on an index list (I)? (★★★)"
   ]
  },
  {
   "cell_type": "code",
   "execution_count": 397,
   "id": "c9d92a75",
   "metadata": {},
   "outputs": [
    {
     "name": "stdout",
     "output_type": "stream",
     "text": [
      "[6. 5. 4. 3. 2. 1.]\n"
     ]
    }
   ],
   "source": [
    "\n",
    "vector = [1,2,3,4,5,6]\n",
    "index_list = [5,4,3,2,1,0]\n",
    "array = nmp.bincount(index_list,vector)\n",
    "print(array)"
   ]
  },
  {
   "cell_type": "markdown",
   "id": "994c452d",
   "metadata": {},
   "source": [
    "#### 66. Considering a (w,h,3) image of (dtype=ubyte), compute the number of unique colors (★★☆)"
   ]
  },
  {
   "cell_type": "code",
   "execution_count": 398,
   "id": "269cdaea",
   "metadata": {},
   "outputs": [
    {
     "name": "stdout",
     "output_type": "stream",
     "text": [
      "[[[0 0 1]\n",
      "  [0 0 1]\n",
      "  [0 1 1]\n",
      "  ...\n",
      "  [1 0 0]\n",
      "  [1 0 1]\n",
      "  [0 0 0]]\n",
      "\n",
      " [[0 1 0]\n",
      "  [1 1 1]\n",
      "  [1 0 0]\n",
      "  ...\n",
      "  [0 1 0]\n",
      "  [1 1 0]\n",
      "  [0 0 0]]\n",
      "\n",
      " [[1 0 0]\n",
      "  [1 1 1]\n",
      "  [1 1 1]\n",
      "  ...\n",
      "  [0 1 1]\n",
      "  [0 1 0]\n",
      "  [1 1 0]]\n",
      "\n",
      " ...\n",
      "\n",
      " [[1 1 0]\n",
      "  [0 1 0]\n",
      "  [0 0 1]\n",
      "  ...\n",
      "  [1 0 1]\n",
      "  [1 1 1]\n",
      "  [0 1 0]]\n",
      "\n",
      " [[0 1 1]\n",
      "  [0 1 0]\n",
      "  [1 1 0]\n",
      "  ...\n",
      "  [1 1 0]\n",
      "  [0 0 1]\n",
      "  [1 0 0]]\n",
      "\n",
      " [[1 1 1]\n",
      "  [1 0 0]\n",
      "  [0 1 0]\n",
      "  ...\n",
      "  [1 1 1]\n",
      "  [1 1 1]\n",
      "  [1 0 1]]]\n",
      "[[    1     1   257 ... 65536 65537     0]\n",
      " [  256 65793 65536 ...   256 65792     0]\n",
      " [65536 65793 65793 ...   257   256 65792]\n",
      " ...\n",
      " [65792   256     1 ... 65537 65793   256]\n",
      " [  257   256 65792 ... 65792     1 65536]\n",
      " [65793 65536   256 ... 65793 65793 65537]]\n",
      "8\n"
     ]
    }
   ],
   "source": [
    "width,height = 16,16\n",
    "I = nmp.random.randint(0,2,(height,width,3)).astype(nmp.ubyte)\n",
    "print(I)\n",
    "F = I[...,0]*(256*256) + I[...,1]*256 +I[...,2]\n",
    "print(F)\n",
    "\n",
    "n = len(nmp.unique(F))\n",
    "print(n)"
   ]
  },
  {
   "cell_type": "markdown",
   "id": "4bddeb31",
   "metadata": {},
   "source": [
    "#### 67. Considering a four dimensions array, how to get sum over the last two axis at once? (★★★)"
   ]
  },
  {
   "cell_type": "code",
   "execution_count": 399,
   "id": "32af15f5",
   "metadata": {},
   "outputs": [
    {
     "name": "stdout",
     "output_type": "stream",
     "text": [
      "[[12  7]\n",
      " [ 2  9]\n",
      " [12  7]]\n"
     ]
    }
   ],
   "source": [
    "array4D = nmp.random.randint(0,4,(3,2,3,2))\n",
    "sum = array4D.sum(axis=(-2,-1))\n",
    "print(sum)"
   ]
  },
  {
   "cell_type": "markdown",
   "id": "c4cf083c",
   "metadata": {},
   "source": [
    "#### 68. Considering a one-dimensional vector D, how to compute means of subsets of D using a vector S of same size describing subset  indices? (★★★)"
   ]
  },
  {
   "cell_type": "code",
   "execution_count": 400,
   "id": "9600a2dd",
   "metadata": {},
   "outputs": [
    {
     "name": "stdout",
     "output_type": "stream",
     "text": [
      "[0.46798307 0.39009102 0.65941139 ... 0.8400445  0.41889796 0.03904621]\n",
      "[9 0 3 ... 0 0 6]\n",
      "0    0.549678\n",
      "1    0.140268\n",
      "2    0.553756\n",
      "3    0.760467\n",
      "6    0.039046\n",
      "9    0.467983\n",
      "dtype: float64\n"
     ]
    }
   ],
   "source": [
    "import pandas as pd;\n",
    "vector1D = nmp.random.uniform(0,1,10);\n",
    "print(vector1D)\n",
    "S = nmp.random.randint(0,10,10)\n",
    "print(S)\n",
    "print(pd.Series(vector1D).groupby(S).mean())"
   ]
  },
  {
   "cell_type": "markdown",
   "id": "a5e316db",
   "metadata": {},
   "source": [
    "#### 69. How to get the diagonal of a dot product? (★★★)"
   ]
  },
  {
   "cell_type": "code",
   "execution_count": 401,
   "id": "94735dbd",
   "metadata": {},
   "outputs": [
    {
     "data": {
      "text/plain": "array([0.38414867, 1.03908051, 1.23601243])"
     },
     "execution_count": 401,
     "metadata": {},
     "output_type": "execute_result"
    }
   ],
   "source": [
    "A = nmp.random.uniform(0,1,(3,3))\n",
    "B = nmp.random.uniform(0,1,(3,3))\n",
    "nmp.diag(nmp.dot(A, B))"
   ]
  },
  {
   "cell_type": "markdown",
   "id": "de727a7b",
   "metadata": {},
   "source": [
    "#### 70. Consider the vector [1, 2, 3, 4, 5], how to build a new vector with 3 consecutive zeros interleaved between each value? (★★★)"
   ]
  },
  {
   "cell_type": "code",
   "execution_count": 402,
   "id": "982be812",
   "metadata": {},
   "outputs": [
    {
     "name": "stdout",
     "output_type": "stream",
     "text": [
      "[1. 0. 0. ... 0. 0. 5.]\n"
     ]
    }
   ],
   "source": [
    "vector = nmp.array([1,2,3,4,5])\n",
    "numberOfZeros = 3\n",
    "vector_zeros = nmp.zeros(len(vector) + (len(vector)-1)*(numberOfZeros))\n",
    "vector_zeros[::numberOfZeros+1] = vector\n",
    "print(vector_zeros)"
   ]
  },
  {
   "cell_type": "markdown",
   "id": "a9a73d6b",
   "metadata": {},
   "source": [
    "#### 71. Consider an array of dimension (5,5,3), how to mulitply it by an array with dimensions (5,5)? (★★★)"
   ]
  },
  {
   "cell_type": "code",
   "execution_count": 403,
   "id": "282a90cc",
   "metadata": {},
   "outputs": [
    {
     "name": "stdout",
     "output_type": "stream",
     "text": [
      "[[[2. 2. 2.]\n",
      "  [2. 2. 2.]\n",
      "  [2. 2. 2.]\n",
      "  [2. 2. 2.]\n",
      "  [2. 2. 2.]]\n",
      "\n",
      " [[2. 2. 2.]\n",
      "  [2. 2. 2.]\n",
      "  [2. 2. 2.]\n",
      "  [2. 2. 2.]\n",
      "  [2. 2. 2.]]\n",
      "\n",
      " [[2. 2. 2.]\n",
      "  [2. 2. 2.]\n",
      "  [2. 2. 2.]\n",
      "  [2. 2. 2.]\n",
      "  [2. 2. 2.]]\n",
      "\n",
      " [[2. 2. 2.]\n",
      "  [2. 2. 2.]\n",
      "  [2. 2. 2.]\n",
      "  [2. 2. 2.]\n",
      "  [2. 2. 2.]]\n",
      "\n",
      " [[2. 2. 2.]\n",
      "  [2. 2. 2.]\n",
      "  [2. 2. 2.]\n",
      "  [2. 2. 2.]\n",
      "  [2. 2. 2.]]]\n"
     ]
    }
   ],
   "source": [
    "array1 = nmp.ones((5,5,3))\n",
    "array2 = 2*nmp.ones((5,5))\n",
    "print(array1 * array2[:,:,None])"
   ]
  },
  {
   "cell_type": "markdown",
   "id": "a951c78f",
   "metadata": {},
   "source": [
    "#### 72. How to swap two rows of an array? (★★★)"
   ]
  },
  {
   "cell_type": "code",
   "execution_count": 404,
   "id": "e29b3fde",
   "metadata": {},
   "outputs": [
    {
     "name": "stdout",
     "output_type": "stream",
     "text": [
      "[[3 4 5]\n",
      " [0 1 2]\n",
      " [6 7 8]]\n"
     ]
    }
   ],
   "source": [
    "array = nmp.arange(9).reshape(3,3)\n",
    "array[[0,1]] = array[[1,0]]\n",
    "print(array)"
   ]
  },
  {
   "cell_type": "markdown",
   "id": "43b639e8",
   "metadata": {},
   "source": [
    "#### 73. Consider a set of 10 triplets describing 10 triangles (with shared vertices), find the set of unique line segments composing all the  triangles (★★★)"
   ]
  },
  {
   "cell_type": "code",
   "execution_count": 405,
   "id": "147e1034",
   "metadata": {},
   "outputs": [
    {
     "name": "stdout",
     "output_type": "stream",
     "text": [
      "[( 0, 27) ( 0, 57) ( 0, 81) ... (75, 90) (82, 93) (97, 99)]\n"
     ]
    }
   ],
   "source": [
    "setOfTriplets = nmp.random.randint(0,100,(10,3))\n",
    "F = nmp.roll(setOfTriplets.repeat(2,axis=1),-1,axis=1)\n",
    "F = F.reshape(len(F)*3,2)\n",
    "F = nmp.sort(F,axis=1)\n",
    "G = F.view( dtype=[('p0',F.dtype),('p1',F.dtype)] )\n",
    "setOfUnique = nmp.unique(G)\n",
    "print(setOfUnique)"
   ]
  },
  {
   "cell_type": "markdown",
   "id": "d41de585",
   "metadata": {},
   "source": [
    "#### 74. Given a sorted array C that corresponds to a bincount, how to produce an array A such that nmp.bincount(A) == C? (★★★)"
   ]
  },
  {
   "cell_type": "code",
   "execution_count": 406,
   "id": "5f5d6e36",
   "metadata": {},
   "outputs": [
    {
     "name": "stdout",
     "output_type": "stream",
     "text": [
      "[ True  True  True  True  True  True]\n"
     ]
    }
   ],
   "source": [
    "C = nmp.bincount([1,2,3,4,5])\n",
    "A = nmp.repeat(nmp.arange(len(C)), C)\n",
    "print(nmp.bincount(A) == C)"
   ]
  },
  {
   "cell_type": "markdown",
   "id": "b50adf7c",
   "metadata": {},
   "source": [
    "#### 75. How to compute averages using a sliding window over an array? (★★★)"
   ]
  },
  {
   "cell_type": "code",
   "execution_count": 407,
   "id": "e631a9d2",
   "metadata": {},
   "outputs": [
    {
     "name": "stdout",
     "output_type": "stream",
     "text": [
      "[1. 2. 3. ... 6. 7. 8.]\n"
     ]
    }
   ],
   "source": [
    "def func_75(a, n) :\n",
    "    ret = nmp.cumsum(a, dtype=float)\n",
    "    ret[n:] = ret[n:] - ret[:-n]\n",
    "    return ret[n - 1:] / n\n",
    "array = nmp.arange(10)\n",
    "print(func_75(array, n=3))"
   ]
  },
  {
   "cell_type": "markdown",
   "id": "1ab4c50d",
   "metadata": {},
   "source": [
    "#### 76. Consider a one-dimensional array Z, build a two-dimensional array whose first row is (Z[0],Z[1],Z[2]) and each subsequent row is  shifted by 1 (last row should be (Z[-3],Z[-2],Z[-1]) (★★★)"
   ]
  },
  {
   "cell_type": "code",
   "execution_count": 408,
   "id": "3ccfe2c0",
   "metadata": {},
   "outputs": [
    {
     "name": "stdout",
     "output_type": "stream",
     "text": [
      "[[0 1 2]\n",
      " [1 2 3]\n",
      " [2 3 4]\n",
      " ...\n",
      " [5 6 7]\n",
      " [6 7 8]\n",
      " [7 8 9]]\n"
     ]
    }
   ],
   "source": [
    "from numpy.lib import stride_tricks\n",
    "def func_76(a, window):\n",
    "    shape = (a.size - window + 1, window)\n",
    "    strides = (a.itemsize, a.itemsize)\n",
    "    return stride_tricks.as_strided(a, shape=shape, strides=strides)\n",
    "arrayZ = func_76(nmp.arange(10), 3)\n",
    "print(arrayZ)"
   ]
  },
  {
   "cell_type": "markdown",
   "id": "5b4fe59d",
   "metadata": {},
   "source": [
    "#### 77. How to negate a boolean, or to change the sign of a float inmplace? (★★★)"
   ]
  },
  {
   "cell_type": "code",
   "execution_count": 409,
   "id": "3c2373ff",
   "metadata": {},
   "outputs": [
    {
     "name": "stdout",
     "output_type": "stream",
     "text": [
      "[0 1 2 ... 7 8 9]\n",
      "[1 0 0 ... 0 0 0]\n",
      "[ 0.1977174   0.54663659  0.11808045 ... -0.83473802  0.24328217\n",
      " -0.76951538]\n",
      "[-0.1977174  -0.54663659 -0.11808045 ...  0.83473802 -0.24328217\n",
      "  0.76951538]\n"
     ]
    }
   ],
   "source": [
    "rray = nmp.random.randint(0,2,100)\n",
    "print(array)\n",
    "array=nmp.logical_not(array, out=array)\n",
    "print(array)\n",
    "\n",
    "array = nmp.random.uniform(-1.0,1.0,100)\n",
    "print(array)\n",
    "nmp.negative(array, out=array)\n",
    "print(array)"
   ]
  },
  {
   "cell_type": "markdown",
   "id": "119ab5af",
   "metadata": {},
   "source": [
    "#### 78. Consider 2 sets of points P0,P1 describing lines (2d) and a point p, how to compute distance from p to each line i (P0[i],P1[i])? (★★★)"
   ]
  },
  {
   "cell_type": "code",
   "execution_count": 410,
   "id": "1d8d06dc",
   "metadata": {},
   "outputs": [
    {
     "name": "stdout",
     "output_type": "stream",
     "text": [
      "[[ 8.29483685 -6.52476488]\n",
      " [ 4.58603596  8.31519885]\n",
      " [ 8.55807573  4.60959299]]\n",
      "[[ 2.48441008 -2.14719923]\n",
      " [ 5.4605484   9.91721624]\n",
      " [ 8.35388959  2.5515635 ]]\n",
      "[[-1.984821    5.27812683]]\n",
      "[ 3.24127719  4.31230307 10.55739134]\n"
     ]
    }
   ],
   "source": [
    "def distanceFromP(P0, P1, p):\n",
    "    T = P1 - P0\n",
    "    L = (T**2).sum(axis=1)\n",
    "    U = -((P0[:,0]-p[...,0])*T[:,0] + (P0[:,1]-p[...,1])*T[:,1]) / L\n",
    "    U = U.reshape(len(U),1)\n",
    "    D = P0 + U*T - p\n",
    "    return nmp.sqrt((D**2).sum(axis=1))\n",
    "\n",
    "P0 = nmp.random.uniform(-10,10,(3,2))\n",
    "P1 = nmp.random.uniform(-10,10,(3,2))\n",
    "p  = nmp.random.uniform(-10,10,( 1,2))\n",
    "\n",
    "print(P0)\n",
    "print(P1)\n",
    "print(p)\n",
    "print(distanceFromP(P0, P1, p))"
   ]
  },
  {
   "cell_type": "markdown",
   "id": "e5e7f323",
   "metadata": {},
   "source": [
    "#### 79. Consider 2 sets of points P0,P1 describing lines (2d) and a set of points P, how to compute distance from each point j (P[j]) to each line i (P0[i],P1[i])? (★★★)"
   ]
  },
  {
   "cell_type": "code",
   "execution_count": 411,
   "id": "d0ce77e2",
   "metadata": {},
   "outputs": [
    {
     "name": "stdout",
     "output_type": "stream",
     "text": [
      "[[ 2.0097763   0.65117198 12.17326965]\n",
      " [10.03845227  3.63919232 12.30496917]]\n"
     ]
    }
   ],
   "source": [
    "def distanceFromP(P0, P1, p):\n",
    "    T = P1 - P0\n",
    "    L = (T**2).sum(axis=1)\n",
    "    U = -((P0[:,0]-p[...,0])*T[:,0] + (P0[:,1]-p[...,1])*T[:,1]) / L\n",
    "    U = U.reshape(len(U),1)\n",
    "    D = P0 + U*T - p\n",
    "    return nmp.sqrt((D**2).sum(axis=1))\n",
    "\n",
    "P0 = nmp.random.uniform(-10, 10, (3,2))\n",
    "P1 = nmp.random.uniform(-10,10,(3,2))\n",
    "p = nmp.random.uniform(-10, 10, (2,2))\n",
    "print(nmp.array([distanceFromP(P0,P1,p_i) for p_i in p]))"
   ]
  },
  {
   "cell_type": "markdown",
   "id": "9b9d03eb",
   "metadata": {},
   "source": [
    "#### 80. Consider an arbitrary array, write a function that extract a subpart with a fixed shape and centered on a given element (pad with a `fill` value when necessary) (★★★)"
   ]
  },
  {
   "cell_type": "code",
   "execution_count": 411,
   "id": "ec2b7ae3",
   "metadata": {},
   "outputs": [],
   "source": []
  },
  {
   "cell_type": "markdown",
   "id": "27794913",
   "metadata": {},
   "source": [
    "#### 81. Consider an array Z = [1,2,3,4,5,6,7,8,9,10,11,12,13,14], how to generate an array R = [[1,2,3,4], [2,3,4,5], [3,4,5,6], ..., [11,12,13,14]]? (★★★)"
   ]
  },
  {
   "cell_type": "code",
   "execution_count": 412,
   "id": "f3e7878b",
   "metadata": {},
   "outputs": [
    {
     "name": "stdout",
     "output_type": "stream",
     "text": [
      "[[ 1  2  3  4]\n",
      " [ 2  3  4  5]\n",
      " [ 3  4  5  6]\n",
      " ...\n",
      " [ 9 10 11 12]\n",
      " [10 11 12 13]\n",
      " [11 12 13 14]]\n"
     ]
    }
   ],
   "source": [
    "from numpy.lib import stride_tricks\n",
    "array = nmp.arange(1,15,dtype=nmp.uint32)\n",
    "R = stride_tricks.as_strided(array,(11,4),(4,4))\n",
    "print(R)"
   ]
  },
  {
   "cell_type": "markdown",
   "id": "fae786f5",
   "metadata": {},
   "source": [
    "#### 82. Compute a matrix rank (★★★)"
   ]
  },
  {
   "cell_type": "code",
   "execution_count": 413,
   "id": "64b9615b",
   "metadata": {},
   "outputs": [
    {
     "name": "stdout",
     "output_type": "stream",
     "text": [
      "[[0.810704   0.07220663 0.96775974 0.5275966  0.79068256]\n",
      " [0.53275916 0.79769448 0.73865624 0.41060613 0.35002555]\n",
      " [0.92167618 0.58640799 0.81766253 0.15309    0.39682452]\n",
      " [0.74854258 0.51398092 0.21794864 0.72753428 0.95411392]\n",
      " [0.28972156 0.73880111 0.46066318 0.89784855 0.18630152]]\n",
      "5\n"
     ]
    }
   ],
   "source": [
    "M = nmp.random.uniform(0,1,(5,5))\n",
    "print(M)\n",
    "U, S, V = nmp.linalg.svd(M)\n",
    "rank = nmp.sum(S > 1e-10)\n",
    "print(rank)"
   ]
  },
  {
   "cell_type": "markdown",
   "id": "c85aa0b9",
   "metadata": {},
   "source": [
    "#### 83. How to find the most frequent value in an array?"
   ]
  },
  {
   "cell_type": "code",
   "execution_count": 414,
   "id": "056be85b",
   "metadata": {},
   "outputs": [
    {
     "name": "stdout",
     "output_type": "stream",
     "text": [
      "6\n"
     ]
    }
   ],
   "source": [
    "array = nmp.random.randint(0,10,50)\n",
    "print(nmp.bincount(array).argmax())"
   ]
  },
  {
   "cell_type": "markdown",
   "id": "0ff2344d",
   "metadata": {},
   "source": [
    "#### 84. Extract all the contiguous 3x3 blocks from a random 10x10 matrix (★★★)"
   ]
  },
  {
   "cell_type": "code",
   "execution_count": 415,
   "id": "d58b1318",
   "metadata": {},
   "outputs": [
    {
     "name": "stdout",
     "output_type": "stream",
     "text": [
      "[[[[3 4 0]\n",
      "   [0 4 1]\n",
      "   [0 2 4]]\n",
      "\n",
      "  [[4 0 2]\n",
      "   [4 1 0]\n",
      "   [2 4 3]]\n",
      "\n",
      "  [[0 2 2]\n",
      "   [1 0 2]\n",
      "   [4 3 4]]\n",
      "\n",
      "  ...\n",
      "\n",
      "  [[3 2 0]\n",
      "   [3 0 0]\n",
      "   [4 0 2]]\n",
      "\n",
      "  [[2 0 3]\n",
      "   [0 0 4]\n",
      "   [0 2 4]]\n",
      "\n",
      "  [[0 3 0]\n",
      "   [0 4 4]\n",
      "   [2 4 3]]]\n",
      "\n",
      "\n",
      " [[[0 4 1]\n",
      "   [0 2 4]\n",
      "   [0 2 4]]\n",
      "\n",
      "  [[4 1 0]\n",
      "   [2 4 3]\n",
      "   [2 4 4]]\n",
      "\n",
      "  [[1 0 2]\n",
      "   [4 3 4]\n",
      "   [4 4 4]]\n",
      "\n",
      "  ...\n",
      "\n",
      "  [[3 0 0]\n",
      "   [4 0 2]\n",
      "   [0 3 0]]\n",
      "\n",
      "  [[0 0 4]\n",
      "   [0 2 4]\n",
      "   [3 0 1]]\n",
      "\n",
      "  [[0 4 4]\n",
      "   [2 4 3]\n",
      "   [0 1 1]]]\n",
      "\n",
      "\n",
      " [[[0 2 4]\n",
      "   [0 2 4]\n",
      "   [1 4 4]]\n",
      "\n",
      "  [[2 4 3]\n",
      "   [2 4 4]\n",
      "   [4 4 0]]\n",
      "\n",
      "  [[4 3 4]\n",
      "   [4 4 4]\n",
      "   [4 0 3]]\n",
      "\n",
      "  ...\n",
      "\n",
      "  [[4 0 2]\n",
      "   [0 3 0]\n",
      "   [2 1 0]]\n",
      "\n",
      "  [[0 2 4]\n",
      "   [3 0 1]\n",
      "   [1 0 0]]\n",
      "\n",
      "  [[2 4 3]\n",
      "   [0 1 1]\n",
      "   [0 0 1]]]\n",
      "\n",
      "\n",
      " ...\n",
      "\n",
      "\n",
      " [[[1 3 1]\n",
      "   [2 2 1]\n",
      "   [4 3 4]]\n",
      "\n",
      "  [[3 1 0]\n",
      "   [2 1 2]\n",
      "   [3 4 1]]\n",
      "\n",
      "  [[1 0 3]\n",
      "   [1 2 4]\n",
      "   [4 1 0]]\n",
      "\n",
      "  ...\n",
      "\n",
      "  [[1 3 4]\n",
      "   [4 1 0]\n",
      "   [3 3 4]]\n",
      "\n",
      "  [[3 4 3]\n",
      "   [1 0 0]\n",
      "   [3 4 3]]\n",
      "\n",
      "  [[4 3 2]\n",
      "   [0 0 0]\n",
      "   [4 3 3]]]\n",
      "\n",
      "\n",
      " [[[2 2 1]\n",
      "   [4 3 4]\n",
      "   [4 0 2]]\n",
      "\n",
      "  [[2 1 2]\n",
      "   [3 4 1]\n",
      "   [0 2 1]]\n",
      "\n",
      "  [[1 2 4]\n",
      "   [4 1 0]\n",
      "   [2 1 3]]\n",
      "\n",
      "  ...\n",
      "\n",
      "  [[4 1 0]\n",
      "   [3 3 4]\n",
      "   [0 0 0]]\n",
      "\n",
      "  [[1 0 0]\n",
      "   [3 4 3]\n",
      "   [0 0 3]]\n",
      "\n",
      "  [[0 0 0]\n",
      "   [4 3 3]\n",
      "   [0 3 4]]]\n",
      "\n",
      "\n",
      " [[[4 3 4]\n",
      "   [4 0 2]\n",
      "   [0 3 0]]\n",
      "\n",
      "  [[3 4 1]\n",
      "   [0 2 1]\n",
      "   [3 0 2]]\n",
      "\n",
      "  [[4 1 0]\n",
      "   [2 1 3]\n",
      "   [0 2 0]]\n",
      "\n",
      "  ...\n",
      "\n",
      "  [[3 3 4]\n",
      "   [0 0 0]\n",
      "   [2 2 2]]\n",
      "\n",
      "  [[3 4 3]\n",
      "   [0 0 3]\n",
      "   [2 2 0]]\n",
      "\n",
      "  [[4 3 3]\n",
      "   [0 3 4]\n",
      "   [2 0 4]]]]\n"
     ]
    }
   ],
   "source": [
    "array = nmp.random.randint(0,5,(10,10))\n",
    "n = 3\n",
    "i = 1 + (array.shape[0]-3)\n",
    "j = 1 + (array.shape[1]-3)\n",
    "C = stride_tricks.as_strided(array, shape=(i, j, n, n), strides=array.strides + array.strides)\n",
    "print(C)"
   ]
  },
  {
   "cell_type": "markdown",
   "id": "1a18b263",
   "metadata": {},
   "source": [
    "#### 85. Create a 2D array subclass such that Z[i,j] == Z[j,i] (★★★)"
   ]
  },
  {
   "cell_type": "code",
   "execution_count": 416,
   "id": "87f17adc",
   "metadata": {},
   "outputs": [
    {
     "name": "stdout",
     "output_type": "stream",
     "text": [
      "[[ 2  5  2  6  4  3]\n",
      " [ 5  4  4  4  0  6]\n",
      " [ 2  4  4 42  1  5]\n",
      " [ 6  4 42  1  0  8]\n",
      " [ 4  0  1  0  4  5]\n",
      " [ 3  6  5  8  5  4]]\n"
     ]
    }
   ],
   "source": [
    "class Sym(nmp.ndarray):\n",
    "    def __setitem__(self, index, value):\n",
    "        i,j = index\n",
    "        super(Sym, self).__setitem__((i,j), value)\n",
    "        super(Sym, self).__setitem__((j,i), value)\n",
    "\n",
    "def symetric(x):\n",
    "    return nmp.asarray(x + x.T - nmp.diag(x.diagonal())).view(Sym)\n",
    "\n",
    "S = symetric(nmp.random.randint(0,5,(6,6)))\n",
    "S[2,3] = 42\n",
    "print(S)"
   ]
  },
  {
   "cell_type": "markdown",
   "id": "f85f2cad",
   "metadata": {},
   "source": [
    "#### 86. Consider a set of p matrices wich shape (n,n) and a set of p vectors with shape (n,1). How to compute the sum of of the p matrix products at once? (result has shape (n,1)) (★★★)"
   ]
  },
  {
   "cell_type": "code",
   "execution_count": 417,
   "id": "8d230557",
   "metadata": {},
   "outputs": [
    {
     "name": "stdout",
     "output_type": "stream",
     "text": [
      "[[200.]\n",
      " [200.]\n",
      " [200.]\n",
      " ...\n",
      " [200.]\n",
      " [200.]\n",
      " [200.]]\n"
     ]
    }
   ],
   "source": [
    "p, n = 10, 20\n",
    "M = nmp.ones((p,n,n))\n",
    "V = nmp.ones((p,n,1))\n",
    "S = nmp.tensordot(M, V, axes=[[0, 2], [0, 1]])\n",
    "print(S)"
   ]
  },
  {
   "cell_type": "markdown",
   "id": "5afb72c8",
   "metadata": {},
   "source": [
    "#### 87. Consider a 16x16 array, how to get the block-sum (block size is 4x4)? (★★★)"
   ]
  },
  {
   "cell_type": "code",
   "execution_count": 418,
   "id": "e86f47a9",
   "metadata": {},
   "outputs": [],
   "source": [
    "array = nmp.ones((16,16))\n",
    "k = 4\n",
    "sum = nmp.add.reduceat(nmp.add.reduceat(array, nmp.arange(0, array.shape[0], k), axis=0),\n",
    "                                       nmp.arange(0, array.shape[1], k), axis=1)"
   ]
  },
  {
   "cell_type": "markdown",
   "id": "6094d37c",
   "metadata": {},
   "source": [
    "#### 88. How to implement the Game of Life using numpy arrays? (★★★)"
   ]
  },
  {
   "cell_type": "code",
   "execution_count": 419,
   "id": "a93e715f",
   "metadata": {},
   "outputs": [
    {
     "name": "stdout",
     "output_type": "stream",
     "text": [
      "[[0 0 0 ... 0 0 0]\n",
      " [0 0 1 ... 0 0 0]\n",
      " [0 1 0 ... 0 0 0]\n",
      " ...\n",
      " [0 0 0 ... 0 0 0]\n",
      " [0 0 0 ... 0 0 0]\n",
      " [0 0 0 ... 0 0 0]]\n"
     ]
    }
   ],
   "source": [
    "def iterate(array):\n",
    "    \n",
    "    N = (array[0:-2, 0:-2] + array[0:-2, 1:-1] + array[0:-2, 2:] +\n",
    "         array[1:-1, 0:-2] + array[1:-1, 2:] +\n",
    "         array[2:, 0:-2] + array[2:, 1:-1] + array[2:, 2:])\n",
    "\n",
    "    \n",
    "    birth = (N == 3) & (array[1:-1, 1:-1] == 0)\n",
    "    survive = ((N == 2) | (N == 3)) & (array[1:-1, 1:-1] == 1)\n",
    "    array[...] = 0\n",
    "    array[1:-1, 1:-1][birth | survive] = 1\n",
    "    return array\n",
    "\n",
    "\n",
    "array = nmp.random.randint(0, 2, (50, 50))\n",
    "for i in range(100): array = iterate(array)\n",
    "print(array)\n"
   ]
  },
  {
   "cell_type": "markdown",
   "id": "a173cf96",
   "metadata": {},
   "source": [
    "#### 89. How to get the n largest values of an array (★★★)"
   ]
  },
  {
   "cell_type": "code",
   "execution_count": 420,
   "id": "b7c2ff35",
   "metadata": {},
   "outputs": [
    {
     "name": "stdout",
     "output_type": "stream",
     "text": [
      "[997 998 999]\n"
     ]
    }
   ],
   "source": [
    "\n",
    "array = nmp.arange(1000)\n",
    "nmp.random.shuffle(array)\n",
    "n = 3\n",
    "\n",
    "print(array[nmp.argsort(array)[-n:]])"
   ]
  },
  {
   "cell_type": "markdown",
   "id": "15db2d01",
   "metadata": {},
   "source": [
    "#### 90. Given an arbitrary number of vectors, build the cartesian product (every combinations of every item) (★★★)"
   ]
  },
  {
   "cell_type": "code",
   "execution_count": 421,
   "id": "a9a4633d",
   "metadata": {},
   "outputs": [
    {
     "name": "stdout",
     "output_type": "stream",
     "text": [
      "[[1 4 6]\n",
      " [1 4 7]\n",
      " [1 5 6]\n",
      " ...\n",
      " [3 4 7]\n",
      " [3 5 6]\n",
      " [3 5 7]]\n"
     ]
    }
   ],
   "source": [
    "def build_cartesian(arrays):\n",
    "    arrays = [nmp.asarray(a) for a in arrays]\n",
    "    shape = (len(x) for x in arrays)\n",
    "\n",
    "    ix = nmp.indices(shape, dtype=int)\n",
    "    ix = ix.reshape(len(arrays), -1).T\n",
    "\n",
    "    for n, arr in enumerate(arrays):\n",
    "        ix[:, n] = arrays[n][ix[:, n]]\n",
    "\n",
    "    return ix\n",
    "\n",
    "print (build_cartesian(([1, 2, 3], [4, 5], [6, 7])))"
   ]
  },
  {
   "cell_type": "markdown",
   "id": "5d94d1ef",
   "metadata": {},
   "source": [
    "#### 91. How to create a record array from a regular array? (★★★)"
   ]
  },
  {
   "cell_type": "code",
   "execution_count": 422,
   "id": "b1dae380",
   "metadata": {},
   "outputs": [
    {
     "data": {
      "text/plain": "rec.array([(b'Hello', 2.5, 3), (b'World', 3.6, 2)],\n          dtype=[('col1', 'S8'), ('col2', '<f8'), ('col3', '<i8')])"
     },
     "execution_count": 422,
     "metadata": {},
     "output_type": "execute_result"
    }
   ],
   "source": [
    "array = nmp.array([(\"Hello\", 2.5, 3),\n",
    "              (\"World\", 3.6, 2)])\n",
    "result = nmp.core.records.fromarrays(array.T,\n",
    "                               names='col1, col2, col3',\n",
    "                               formats = 'S8, f8, i8')\n",
    "result"
   ]
  },
  {
   "cell_type": "markdown",
   "id": "114ccc36",
   "metadata": {},
   "source": [
    "#### 92. Consider a large vector Z, compute Z to the power of 3 using 3 different methods (★★★)"
   ]
  },
  {
   "cell_type": "code",
   "execution_count": 423,
   "id": "877c65d6",
   "metadata": {},
   "outputs": [
    {
     "name": "stdout",
     "output_type": "stream",
     "text": [
      "6.58 µs ± 2.05 µs per loop (mean ± std. dev. of 7 runs, 100,000 loops each)\n",
      "877 ns ± 11 ns per loop (mean ± std. dev. of 7 runs, 1,000,000 loops each)\n",
      "2.65 µs ± 337 ns per loop (mean ± std. dev. of 7 runs, 100,000 loops each)\n"
     ]
    }
   ],
   "source": [
    "x = nmp.random.rand(123)\n",
    "\n",
    "%timeit nmp.power(x,3)\n",
    "%timeit x*x*x\n",
    "%timeit nmp.einsum('i,i,i->i',x,x,x)"
   ]
  },
  {
   "cell_type": "markdown",
   "id": "d614fee4",
   "metadata": {},
   "source": [
    "#### 93. Consider two arrays A and B of shape (8,3) and (2,2). How to find rows of A that contain elements of each row of B regardless of the order of the elements in B? (★★★)"
   ]
  },
  {
   "cell_type": "code",
   "execution_count": 424,
   "id": "e6807a84",
   "metadata": {},
   "outputs": [
    {
     "name": "stdout",
     "output_type": "stream",
     "text": [
      "[0 2 3 4 6]\n"
     ]
    }
   ],
   "source": [
    "array_A = nmp.random.randint(0,5,(8,3))\n",
    "array_B = nmp.random.randint(0,5,(2,2))\n",
    "\n",
    "array_C = (array_A[..., nmp.newaxis, nmp.newaxis] == array_B)\n",
    "rows = nmp.where(array_C.any((3,1)).all(1))[0]\n",
    "print(rows)\n"
   ]
  },
  {
   "cell_type": "markdown",
   "id": "b0eedca6",
   "metadata": {},
   "source": [
    "#### 94. Considering a 10x3 matrix, extract rows with unequal values (e.g. [2,2,3]) (★★★)"
   ]
  },
  {
   "cell_type": "code",
   "execution_count": 425,
   "id": "fc136ce2",
   "metadata": {},
   "outputs": [
    {
     "name": "stdout",
     "output_type": "stream",
     "text": [
      "[[3 1 2]\n",
      " [3 4 3]\n",
      " [1 1 1]\n",
      " ...\n",
      " [2 3 1]\n",
      " [4 0 3]\n",
      " [4 3 4]]\n",
      "[[3 1 2]\n",
      " [3 4 3]\n",
      " [3 1 2]\n",
      " ...\n",
      " [2 3 1]\n",
      " [4 0 3]\n",
      " [4 3 4]]\n"
     ]
    }
   ],
   "source": [
    "array = nmp.random.randint(0,5,(10,3))\n",
    "print(array)\n",
    "\n",
    "result = array[array.max(axis=1) != array.min(axis=1),:]\n",
    "print(result)"
   ]
  },
  {
   "cell_type": "markdown",
   "id": "a65ec1cf",
   "metadata": {},
   "source": [
    "#### 95. Convert a vector of ints into a matrix binary representation (★★★)"
   ]
  },
  {
   "cell_type": "code",
   "execution_count": 425,
   "id": "323cdf4c",
   "metadata": {},
   "outputs": [],
   "source": []
  },
  {
   "cell_type": "markdown",
   "id": "75b9397f",
   "metadata": {},
   "source": [
    "#### 96. Given a two dimensional array, how to extract unique rows? (★★★)"
   ]
  },
  {
   "cell_type": "code",
   "execution_count": 426,
   "id": "9bb56a47",
   "metadata": {},
   "outputs": [
    {
     "name": "stdout",
     "output_type": "stream",
     "text": [
      "[[1 1 1 0 0]\n",
      " [0 1 0 1 0]\n",
      " [0 1 0 0 1]\n",
      " ...\n",
      " [0 0 1 1 0]\n",
      " [1 1 0 0 1]\n",
      " [1 0 0 0 1]]\n",
      "[[0 0 1 1 0]\n",
      " [0 1 0 0 1]\n",
      " [0 1 0 1 0]\n",
      " ...\n",
      " [1 0 1 0 1]\n",
      " [1 1 0 0 1]\n",
      " [1 1 1 0 0]]\n"
     ]
    }
   ],
   "source": [
    "array=nmp.random.randint(0,2,(8,5))\n",
    "print(array)\n",
    "result = nmp.unique(array, axis=0)\n",
    "print(result)"
   ]
  },
  {
   "cell_type": "markdown",
   "id": "82aaf21b",
   "metadata": {},
   "source": [
    "#### 97. Considering 2 vectors A & B, write the einsum equivalent of inner, outer, sum, and mul function (★★★)"
   ]
  },
  {
   "cell_type": "code",
   "execution_count": 427,
   "id": "cedcefd9",
   "metadata": {},
   "outputs": [
    {
     "data": {
      "text/plain": "array([[0.16347446, 0.25544983, 0.12402589, 0.10719941, 0.23627217],\n       [0.42822919, 0.6691631 , 0.32489178, 0.28081402, 0.61892631],\n       [0.22346687, 0.34919568, 0.16954134, 0.14653982, 0.32298014],\n       [0.31199161, 0.48752694, 0.23670387, 0.20459048, 0.45092632],\n       [0.11157046, 0.17434317, 0.08464702, 0.07316304, 0.16125452]])"
     },
     "execution_count": 427,
     "metadata": {},
     "output_type": "execute_result"
    }
   ],
   "source": [
    "\n",
    "A = nmp.random.uniform(0,1,5)\n",
    "B = nmp.random.uniform(0,1,5)\n",
    "\n",
    "nmp.einsum('i->', A)\n",
    "nmp.einsum('i,i->i', A, B)\n",
    "nmp.einsum('i,i', A, B)\n",
    "nmp.einsum('i,j->ij', A, B)"
   ]
  },
  {
   "cell_type": "markdown",
   "id": "7741e17f",
   "metadata": {},
   "source": [
    "#### 98. Considering a path described by two vectors (X,Y), how to sample it using equidistant samples (★★★)?"
   ]
  },
  {
   "cell_type": "code",
   "execution_count": 428,
   "id": "0b2432fe",
   "metadata": {},
   "outputs": [],
   "source": [
    "F = nmp.arange(0, 10*nmp.pi, 0.1)\n",
    "a = 1\n",
    "x = a*F*nmp.cos(F)\n",
    "y = a*F*nmp.sin(F)\n",
    "\n",
    "diff_r = (nmp.diff(x)**2 + nmp.diff(y)**2)**.5\n",
    "r = nmp.zeros_like(x)\n",
    "r[1:] = nmp.cumsum(diff_r)\n",
    "r_int = nmp.linspace(0, r.max(), 200)\n",
    "x_int = nmp.interp(r_int, r, x)\n",
    "y_int = nmp.interp(r_int, r, y)\n"
   ]
  },
  {
   "cell_type": "markdown",
   "id": "340d6f36",
   "metadata": {},
   "source": [
    "#### 99. Given an integer n and a 2D array X, select from X the rows which can be interpreted as draws from a multinomial distribution with n degrees, i.e., the rows which only contain integers and which sum to n. (★★★)"
   ]
  },
  {
   "cell_type": "code",
   "execution_count": 429,
   "id": "a75323ae",
   "metadata": {},
   "outputs": [
    {
     "name": "stdout",
     "output_type": "stream",
     "text": [
      "[[2. 0. 1. 1.]]\n"
     ]
    }
   ],
   "source": [
    "array = nmp.asarray([[1.0, 0.0, 3.0, 8.0],\n",
    "                [2.0, 0.0, 1.0, 1.0],\n",
    "                [1.5, 2.5, 1.0, 0.0]])\n",
    "n = 4\n",
    "M = nmp.logical_and.reduce(nmp.mod(array, 1) == 0, axis=-1)\n",
    "M &= (array.sum(axis=-1) == n)\n",
    "print(array[M])"
   ]
  },
  {
   "cell_type": "markdown",
   "id": "19721849",
   "metadata": {},
   "source": [
    "#### 100. Compute bootstrapped 95% confidence intervals for the mean of a 1D array X (i.e., resample the elements of an array with replacement N times, compute the mean of each sample, and then compute percentiles over the means). (★★★)"
   ]
  },
  {
   "cell_type": "code",
   "execution_count": 430,
   "id": "87309c6f",
   "metadata": {},
   "outputs": [
    {
     "name": "stdout",
     "output_type": "stream",
     "text": [
      "[-0.21698435  0.16500888]\n"
     ]
    }
   ],
   "source": [
    "array = nmp.random.randn(100)\n",
    "bootstrap_samples = 1000\n",
    "idx = nmp.random.randint(0, array.size, (bootstrap_samples, array.size))\n",
    "means = array[idx].mean(axis=1)\n",
    "confint = nmp.percentile(means, [2.5, 97.5])\n",
    "print(confint)"
   ]
  }
 ],
 "metadata": {
  "kernelspec": {
   "display_name": "Python 3 (ipykernel)",
   "language": "python",
   "name": "python3"
  },
  "language_info": {
   "codemirror_mode": {
    "name": "ipython",
    "version": 3
   },
   "file_extension": ".py",
   "mimetype": "text/x-python",
   "name": "python",
   "nbconvert_exporter": "python",
   "pygments_lexer": "ipython3",
   "version": "3.9.12"
  }
 },
 "nbformat": 4,
 "nbformat_minor": 5
}
