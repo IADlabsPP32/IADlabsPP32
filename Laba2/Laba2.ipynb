{
 "cells": [
  {
   "cell_type": "markdown",
   "id": "f44a2f2b",
   "metadata": {},
   "source": [
    "# 100 numpy exercises\n",
    "\n",
    "This is a collection of exercises that have been collected in the numpy mailing list, on stack overflow\n",
    "and in the numpy documentation. The goal of this collection is to offer a quick reference for both old\n",
    "and new users but also to provide a set of exercises for those who teach."
   ]
  },
  {
   "cell_type": "markdown",
   "id": "96443564",
   "metadata": {},
   "source": [
    "#### 1. Import the numpy package under the name `np` (★☆☆)"
   ]
  },
  {
   "cell_type": "code",
   "execution_count": 3,
   "id": "ffe1047e",
   "metadata": {},
   "outputs": [],
   "source": [
    "import numpy as nmp"
   ]
  },
  {
   "cell_type": "markdown",
   "id": "c807bf1d",
   "metadata": {},
   "source": [
    "#### 2. Print the numpy version and the configuration (★☆☆)"
   ]
  },
  {
   "cell_type": "code",
   "execution_count": 4,
   "id": "f396b717",
   "metadata": {},
   "outputs": [
    {
     "name": "stdout",
     "output_type": "stream",
     "text": [
      "1.23.4\n",
      "openblas64__info:\n",
      "    library_dirs = ['D:\\\\a\\\\numpy\\\\numpy\\\\build\\\\openblas64__info']\n",
      "    libraries = ['openblas64__info']\n",
      "    language = f77\n",
      "    define_macros = [('HAVE_CBLAS', None), ('BLAS_SYMBOL_SUFFIX', '64_'), ('HAVE_BLAS_ILP64', None)]\n",
      "blas_ilp64_opt_info:\n",
      "    library_dirs = ['D:\\\\a\\\\numpy\\\\numpy\\\\build\\\\openblas64__info']\n",
      "    libraries = ['openblas64__info']\n",
      "    language = f77\n",
      "    define_macros = [('HAVE_CBLAS', None), ('BLAS_SYMBOL_SUFFIX', '64_'), ('HAVE_BLAS_ILP64', None)]\n",
      "openblas64__lapack_info:\n",
      "    library_dirs = ['D:\\\\a\\\\numpy\\\\numpy\\\\build\\\\openblas64__lapack_info']\n",
      "    libraries = ['openblas64__lapack_info']\n",
      "    language = f77\n",
      "    define_macros = [('HAVE_CBLAS', None), ('BLAS_SYMBOL_SUFFIX', '64_'), ('HAVE_BLAS_ILP64', None), ('HAVE_LAPACKE', None)]\n",
      "lapack_ilp64_opt_info:\n",
      "    library_dirs = ['D:\\\\a\\\\numpy\\\\numpy\\\\build\\\\openblas64__lapack_info']\n",
      "    libraries = ['openblas64__lapack_info']\n",
      "    language = f77\n",
      "    define_macros = [('HAVE_CBLAS', None), ('BLAS_SYMBOL_SUFFIX', '64_'), ('HAVE_BLAS_ILP64', None), ('HAVE_LAPACKE', None)]\n",
      "Supported SIMD extensions in this NumPy install:\n",
      "    baseline = SSE,SSE2,SSE3\n",
      "    found = SSSE3,SSE41,POPCNT,SSE42,AVX,F16C,FMA3,AVX2\n",
      "    not found = AVX512F,AVX512CD,AVX512_SKX,AVX512_CLX,AVX512_CNL,AVX512_ICL\n",
      "None\n"
     ]
    }
   ],
   "source": [
    "print(nmp.__version__)\n",
    "print(nmp.show_config())"
   ]
  },
  {
   "cell_type": "markdown",
   "id": "572c1bdb",
   "metadata": {},
   "source": [
    "#### 3. Create a null vector of sivectore 10 (★☆☆)"
   ]
  },
  {
   "cell_type": "code",
   "execution_count": 5,
   "id": "31c9f6a5",
   "metadata": {},
   "outputs": [
    {
     "name": "stdout",
     "output_type": "stream",
     "text": [
      "[0. 0. 0. 0. 0. 0. 0. 0. 0. 0.]\n"
     ]
    }
   ],
   "source": [
    "nullVector = nmp.zeros(10)\n",
    "print(nullVector)"
   ]
  },
  {
   "cell_type": "markdown",
   "id": "337e6e36",
   "metadata": {},
   "source": [
    "#### 4. How to find the memory sivectore of any array (★☆☆)"
   ]
  },
  {
   "cell_type": "code",
   "execution_count": 6,
   "id": "31e8ec2e",
   "metadata": {},
   "outputs": [
    {
     "name": "stdout",
     "output_type": "stream",
     "text": [
      "80\n"
     ]
    }
   ],
   "source": [
    "Memmory_vector_null=nullVector.size*nullVector.itemsize\n",
    "print(Memmory_vector_null)"
   ]
  },
  {
   "cell_type": "markdown",
   "id": "166079c8",
   "metadata": {},
   "source": [
    "#### 5. How to get the documentation of the numpy add function from the command line? (★☆☆)"
   ]
  },
  {
   "cell_type": "code",
   "execution_count": 7,
   "id": "593cd80f",
   "metadata": {},
   "outputs": [
    {
     "name": "stdout",
     "output_type": "stream",
     "text": [
      "add(x1, x2, /, out=None, *, where=True, casting='same_kind', order='K', dtype=None, subok=True[, signature, extobj])\n",
      "\n",
      "Add arguments element-wise.\n",
      "\n",
      "Parameters\n",
      "----------\n",
      "x1, x2 : array_like\n",
      "    The arrays to be added.\n",
      "    If ``x1.shape != x2.shape``, they must be broadcastable to a common\n",
      "    shape (which becomes the shape of the output).\n",
      "out : ndarray, None, or tuple of ndarray and None, optional\n",
      "    A location into which the result is stored. If provided, it must have\n",
      "    a shape that the inputs broadcast to. If not provided or None,\n",
      "    a freshly-allocated array is returned. A tuple (possible only as a\n",
      "    keyword argument) must have length equal to the number of outputs.\n",
      "where : array_like, optional\n",
      "    This condition is broadcast over the input. At locations where the\n",
      "    condition is True, the `out` array will be set to the ufunc result.\n",
      "    Elsewhere, the `out` array will retain its original value.\n",
      "    Note that if an uninitialized `out` array is created via the default\n",
      "    ``out=None``, locations within it where the condition is False will\n",
      "    remain uninitialized.\n",
      "**kwargs\n",
      "    For other keyword-only arguments, see the\n",
      "    :ref:`ufunc docs <ufuncs.kwargs>`.\n",
      "\n",
      "Returns\n",
      "-------\n",
      "add : ndarray or scalar\n",
      "    The sum of `x1` and `x2`, element-wise.\n",
      "    This is a scalar if both `x1` and `x2` are scalars.\n",
      "\n",
      "Notes\n",
      "-----\n",
      "Equivalent to `x1` + `x2` in terms of array broadcasting.\n",
      "\n",
      "Examples\n",
      "--------\n",
      ">>> np.add(1.0, 4.0)\n",
      "5.0\n",
      ">>> x1 = np.arange(9.0).reshape((3, 3))\n",
      ">>> x2 = np.arange(3.0)\n",
      ">>> np.add(x1, x2)\n",
      "array([[  0.,   2.,   4.],\n",
      "       [  3.,   5.,   7.],\n",
      "       [  6.,   8.,  10.]])\n",
      "\n",
      "The ``+`` operator can be used as a shorthand for ``np.add`` on ndarrays.\n",
      "\n",
      ">>> x1 = np.arange(9.0).reshape((3, 3))\n",
      ">>> x2 = np.arange(3.0)\n",
      ">>> x1 + x2\n",
      "array([[ 0.,  2.,  4.],\n",
      "       [ 3.,  5.,  7.],\n",
      "       [ 6.,  8., 10.]])\n"
     ]
    }
   ],
   "source": [
    "!python -c \"import numpy; numpy.info(numpy.add)\""
   ]
  },
  {
   "cell_type": "markdown",
   "id": "3add7101",
   "metadata": {},
   "source": [
    "#### 6. Create a null vector of sivectore 10 but the fifth value which is 1 (★☆☆)"
   ]
  },
  {
   "cell_type": "code",
   "execution_count": 8,
   "id": "2edf3c42",
   "metadata": {},
   "outputs": [
    {
     "name": "stdout",
     "output_type": "stream",
     "text": [
      "[0. 0. 0. 0. 0. 1. 0. 0. 0. 0.]\n"
     ]
    }
   ],
   "source": [
    "vector = nmp.zeros(10)\n",
    "vector[5] = 1\n",
    "\n",
    "print(vector)"
   ]
  },
  {
   "cell_type": "markdown",
   "id": "cfc46304",
   "metadata": {},
   "source": [
    "#### 7. Create a vector with values ranging from 10 to 49 (★☆☆)"
   ]
  },
  {
   "cell_type": "code",
   "execution_count": 9,
   "id": "d8b86640",
   "metadata": {},
   "outputs": [
    {
     "name": "stdout",
     "output_type": "stream",
     "text": [
      "[10 11 12 13 14 15 16 17 18 19 20 21 22 23 24 25 26 27 28 29 30 31 32 33\n",
      " 34 35 36 37 38 39 40 41 42 43 44 45 46 47 48 49]\n"
     ]
    }
   ],
   "source": [
    "vector = nmp.arange(10,50)\n",
    "\n",
    "print(vector)"
   ]
  },
  {
   "cell_type": "markdown",
   "id": "0cc200be",
   "metadata": {},
   "source": [
    "#### 8. Reverse a vector (first element becomes last) (★☆☆)"
   ]
  },
  {
   "cell_type": "code",
   "execution_count": 13,
   "id": "ec044bb5",
   "metadata": {},
   "outputs": [
    {
     "name": "stdout",
     "output_type": "stream",
     "text": [
      "[49 11 12 13 14 15 16 17 18 19 20 21 22 23 24 25 26 27 28 29 30 31 32 33\n",
      " 34 35 36 37 38 39 40 41 42 43 44 45 46 47 48 10]\n"
     ]
    }
   ],
   "source": [
    "first = vector[0]\n",
    "last = vector[39]\n",
    "\n",
    "vector[0] = last\n",
    "vector[39] = first\n",
    "print(vector)"
   ]
  },
  {
   "cell_type": "markdown",
   "id": "29d9ede4",
   "metadata": {},
   "source": [
    "#### 9. Create a 3x3 matrix with values ranging from 0 to 8 (★☆☆)"
   ]
  },
  {
   "cell_type": "code",
   "execution_count": 14,
   "id": "d9e39043",
   "metadata": {},
   "outputs": [
    {
     "name": "stdout",
     "output_type": "stream",
     "text": [
      "[[0 1 2]\n",
      " [3 4 5]\n",
      " [6 7 8]]\n"
     ]
    }
   ],
   "source": [
    "vector = nmp.arange(9).reshape(3,3)\n",
    "\n",
    "print(vector)"
   ]
  },
  {
   "cell_type": "markdown",
   "id": "88905ceb",
   "metadata": {},
   "source": [
    "#### 10. Find indices of non-vectorero elements from [1,2,0,0,4,0] (★☆☆)"
   ]
  },
  {
   "cell_type": "code",
   "execution_count": 16,
   "id": "b2f3c90a",
   "metadata": {},
   "outputs": [
    {
     "name": "stdout",
     "output_type": "stream",
     "text": [
      "(array([0, 1, 4], dtype=int64),)\n"
     ]
    }
   ],
   "source": [
    "nonZero = nmp.nonzero([1,2,0,0,4,0])\n",
    "\n",
    "print(nonZero)"
   ]
  },
  {
   "cell_type": "markdown",
   "id": "49603e91",
   "metadata": {},
   "source": [
    "#### 11. Create a 3x3 identity matrix (★☆☆)"
   ]
  },
  {
   "cell_type": "code",
   "execution_count": 18,
   "id": "5b607b5c",
   "metadata": {},
   "outputs": [
    {
     "name": "stdout",
     "output_type": "stream",
     "text": [
      "[[0 1 2]\n",
      " [3 4 5]\n",
      " [6 7 8]]\n"
     ]
    }
   ],
   "source": [
    "matrix = nmp.arange(9).reshape(3,3)\n",
    "\n",
    "print(matrix)"
   ]
  },
  {
   "cell_type": "markdown",
   "id": "e15c249a",
   "metadata": {},
   "source": [
    "#### 12. Create a 3x3x3 array with random values (★☆☆)"
   ]
  },
  {
   "cell_type": "code",
   "execution_count": 20,
   "id": "ab21ed50",
   "metadata": {},
   "outputs": [
    {
     "name": "stdout",
     "output_type": "stream",
     "text": [
      "[[[0.40193936 0.80664632 0.7293359 ]\n",
      "  [0.45581043 0.45379848 0.46009462]\n",
      "  [0.13997308 0.88781419 0.96797509]]\n",
      "\n",
      " [[0.8733697  0.95966258 0.05593087]\n",
      "  [0.70901157 0.57348163 0.00217634]\n",
      "  [0.72642088 0.25569815 0.02308228]]\n",
      "\n",
      " [[0.30281443 0.9799811  0.64765846]\n",
      "  [0.60338567 0.87811019 0.01532874]\n",
      "  [0.76232416 0.56178701 0.56486271]]]\n"
     ]
    }
   ],
   "source": [
    "matrix = nmp.random.random((3,3,3))\n",
    "\n",
    "print(matrix)"
   ]
  },
  {
   "cell_type": "markdown",
   "id": "157a129c",
   "metadata": {},
   "source": [
    "#### 13. Create a 10x10 array with random values and find the minimum and maximum values (★☆☆)"
   ]
  },
  {
   "cell_type": "code",
   "execution_count": 23,
   "id": "c0066de5",
   "metadata": {},
   "outputs": [
    {
     "name": "stdout",
     "output_type": "stream",
     "text": [
      "0.015055641266375486 0.9869114375598784\n"
     ]
    }
   ],
   "source": [
    "matrix = nmp.random.random((10,10))\n",
    "\n",
    "min, max = matrix.min(), matrix.max()\n",
    "\n",
    "print(min, max)"
   ]
  },
  {
   "cell_type": "markdown",
   "id": "d92d7b32",
   "metadata": {},
   "source": [
    "#### 14. Create a random vector of sivectore 30 and find the mean value (★☆☆)"
   ]
  },
  {
   "cell_type": "code",
   "execution_count": 24,
   "id": "9672d023",
   "metadata": {},
   "outputs": [
    {
     "name": "stdout",
     "output_type": "stream",
     "text": [
      "0.45182188114953786\n"
     ]
    }
   ],
   "source": [
    "vector = nmp.random.random(30)\n",
    "\n",
    "print(vector.mean())"
   ]
  },
  {
   "cell_type": "markdown",
   "id": "f361efc0",
   "metadata": {},
   "source": [
    "#### 15. Create a 2d array with 1 on the border and 0 inside (★☆☆)"
   ]
  },
  {
   "cell_type": "code",
   "execution_count": 25,
   "id": "a55b6666",
   "metadata": {},
   "outputs": [
    {
     "name": "stdout",
     "output_type": "stream",
     "text": [
      "[[1. 1. 1.]\n",
      " [1. 0. 1.]\n",
      " [1. 1. 1.]]\n"
     ]
    }
   ],
   "source": [
    "vector=nmp.ones((3,3))\n",
    "\n",
    "vector[1:-1,1:-1] = 0\n",
    "\n",
    "print(vector)"
   ]
  },
  {
   "cell_type": "markdown",
   "id": "475808cb",
   "metadata": {},
   "source": [
    "#### 16. How to add a border (filled with 0's) around an existing array? (★☆☆)"
   ]
  },
  {
   "cell_type": "code",
   "execution_count": 26,
   "id": "b2df3a8a",
   "metadata": {},
   "outputs": [
    {
     "name": "stdout",
     "output_type": "stream",
     "text": [
      "[[0. 0. 0. 0.]\n",
      " [0. 1. 1. 0.]\n",
      " [0. 1. 1. 0.]\n",
      " [0. 0. 0. 0.]]\n"
     ]
    }
   ],
   "source": [
    "vector = nmp.ones((2,2))\n",
    "\n",
    "vector = nmp.pad(vector, pad_width=1, mode='constant', constant_values=0)\n",
    "\n",
    "print(vector)"
   ]
  },
  {
   "cell_type": "markdown",
   "id": "1af07d85",
   "metadata": {},
   "source": [
    "#### 17. What is the result of the following expression? (★☆☆)\n",
    "```python\n",
    "0 * np.nan\n",
    "np.nan == np.nan\n",
    "np.inf > np.nan\n",
    "np.nan - np.nan\n",
    "np.nan in set([np.nan])\n",
    "0.3 == 3 * 0.1\n",
    "```"
   ]
  },
  {
   "cell_type": "code",
   "execution_count": 27,
   "id": "109cf327",
   "metadata": {},
   "outputs": [
    {
     "name": "stdout",
     "output_type": "stream",
     "text": [
      "nan\n",
      "False\n",
      "False\n",
      "nan\n",
      "True\n",
      "False\n"
     ]
    }
   ],
   "source": [
    "print(0 * nmp.nan)\n",
    "print(nmp.nan == nmp.nan)\n",
    "print(nmp.inf > nmp.nan)\n",
    "print(nmp.nan - nmp.nan)\n",
    "print(nmp.nan in set([nmp.nan]))\n",
    "print(0.3 == 3 * 0.1)"
   ]
  },
  {
   "cell_type": "markdown",
   "id": "6a235316",
   "metadata": {},
   "source": [
    "#### 18. Create a 5x5 matrix with values 1,2,3,4 just below the diagonal (★☆☆)"
   ]
  },
  {
   "cell_type": "code",
   "execution_count": 29,
   "id": "f2e6cfa6",
   "metadata": {},
   "outputs": [
    {
     "name": "stdout",
     "output_type": "stream",
     "text": [
      "[[0 0 0 0 0]\n",
      " [0 0 0 0 0]\n",
      " [0 1 0 0 0]\n",
      " [0 0 2 0 0]\n",
      " [0 0 0 3 0]]\n"
     ]
    }
   ],
   "source": [
    "print(nmp.diag( nmp.arange(4), k=-1))"
   ]
  },
  {
   "cell_type": "markdown",
   "id": "25362e98",
   "metadata": {},
   "source": [
    "#### 19. Create a 8x8 matrix and fill it with a checkerboard pattern (★☆☆)"
   ]
  },
  {
   "cell_type": "code",
   "execution_count": 30,
   "id": "cabdf298",
   "metadata": {},
   "outputs": [
    {
     "name": "stdout",
     "output_type": "stream",
     "text": [
      "[[0 1 0 1 0 1 0 1]\n",
      " [1 0 1 0 1 0 1 0]\n",
      " [0 1 0 1 0 1 0 1]\n",
      " [1 0 1 0 1 0 1 0]\n",
      " [0 1 0 1 0 1 0 1]\n",
      " [1 0 1 0 1 0 1 0]\n",
      " [0 1 0 1 0 1 0 1]\n",
      " [1 0 1 0 1 0 1 0]]\n"
     ]
    }
   ],
   "source": [
    "board = nmp.zeros((8,8),dtype=int)\n",
    "\n",
    "board[1::2,::2] = 1\n",
    "board[::2,1::2] = 1\n",
    "\n",
    "print(board)"
   ]
  },
  {
   "cell_type": "markdown",
   "id": "6431e977",
   "metadata": {},
   "source": [
    "#### 20. Consider a (6,7,8) shape array, what is the index (x,y,vector) of the 100th element? (★☆☆)"
   ]
  },
  {
   "cell_type": "code",
   "execution_count": 31,
   "id": "de8b0245",
   "metadata": {},
   "outputs": [
    {
     "name": "stdout",
     "output_type": "stream",
     "text": [
      "(1, 5, 4)\n"
     ]
    }
   ],
   "source": [
    "print(nmp.unravel_index(100,(6,7,8)))"
   ]
  },
  {
   "cell_type": "markdown",
   "id": "31abe6fe",
   "metadata": {},
   "source": [
    "#### 21. Create a checkerboard 8x8 matrix using the tile function (★☆☆)"
   ]
  },
  {
   "cell_type": "code",
   "execution_count": 32,
   "id": "6da26fd3",
   "metadata": {},
   "outputs": [
    {
     "name": "stdout",
     "output_type": "stream",
     "text": [
      "[[0 1 0 1 0 1 0 1]\n",
      " [1 0 1 0 1 0 1 0]\n",
      " [0 1 0 1 0 1 0 1]\n",
      " [1 0 1 0 1 0 1 0]\n",
      " [0 1 0 1 0 1 0 1]\n",
      " [1 0 1 0 1 0 1 0]\n",
      " [0 1 0 1 0 1 0 1]\n",
      " [1 0 1 0 1 0 1 0]]\n"
     ]
    }
   ],
   "source": [
    "board = nmp.tile(nmp.array([[0,1],[1,0]]), (4,4))\n",
    "\n",
    "print(board)"
   ]
  },
  {
   "cell_type": "markdown",
   "id": "fd88b3f4",
   "metadata": {},
   "source": [
    "#### 22. Normalivectore a 5x5 random matrix (★☆☆)"
   ]
  },
  {
   "cell_type": "code",
   "execution_count": 34,
   "id": "ee6ced60",
   "metadata": {},
   "outputs": [
    {
     "name": "stdout",
     "output_type": "stream",
     "text": [
      "[[0. 0. 0. 0.]\n",
      " [0. 1. 1. 0.]\n",
      " [0. 1. 1. 0.]\n",
      " [0. 0. 0. 0.]]\n"
     ]
    }
   ],
   "source": [
    "matrix = nmp.random.random((5,5))\n",
    "\n",
    "print(vector)"
   ]
  },
  {
   "cell_type": "markdown",
   "id": "464d8590",
   "metadata": {},
   "source": [
    "#### 23. Create a custom dtype that describes a color as four unsigned bytes (RGBA) (★☆☆)"
   ]
  },
  {
   "cell_type": "code",
   "execution_count": 35,
   "id": "e2f9cfc6",
   "metadata": {},
   "outputs": [
    {
     "name": "stdout",
     "output_type": "stream",
     "text": [
      "[('r', 'u1'), ('g', 'u1'), ('b', 'u1'), ('a', 'u1')]\n"
     ]
    },
    {
     "name": "stderr",
     "output_type": "stream",
     "text": [
      "C:\\Users\\romac\\AppData\\Local\\Temp\\ipykernel_9312\\3851608873.py:1: FutureWarning: Passing (type, 1) or '1type' as a synonym of type is deprecated; in a future version of numpy, it will be understood as (type, (1,)) / '(1,)type'.\n",
      "  customType = nmp.dtype([\n"
     ]
    }
   ],
   "source": [
    "customType = nmp.dtype([\n",
    "    ('r',nmp.ubyte,1),\n",
    "    ('g', nmp.ubyte, 1),\n",
    "    ('b', nmp.ubyte, 1),\n",
    "    ('a', nmp.ubyte, 1)])\n",
    "\n",
    "print(customType)"
   ]
  },
  {
   "cell_type": "markdown",
   "id": "06c63bb3",
   "metadata": {},
   "source": [
    "#### 24. Multiply a 5x3 matrix by a 3x2 matrix (real matrix product) (★☆☆)"
   ]
  },
  {
   "cell_type": "code",
   "execution_count": 37,
   "id": "9fc0d553",
   "metadata": {},
   "outputs": [
    {
     "name": "stdout",
     "output_type": "stream",
     "text": [
      "[[3. 3.]\n",
      " [3. 3.]\n",
      " [3. 3.]\n",
      " [3. 3.]\n",
      " [3. 3.]]\n"
     ]
    }
   ],
   "source": [
    "mulMatrix = nmp.dot(nmp.ones((5,3)), nmp.ones((3,2)))\n",
    "\n",
    "print(mulMatrix)"
   ]
  },
  {
   "cell_type": "markdown",
   "id": "76fa6285",
   "metadata": {},
   "source": [
    "#### 25. Given a 1D array, negate all elements which are between 3 and 8, in place. (★☆☆)"
   ]
  },
  {
   "cell_type": "code",
   "execution_count": 41,
   "id": "0e25eca7",
   "metadata": {},
   "outputs": [
    {
     "name": "stdout",
     "output_type": "stream",
     "text": [
      "[ 0  1  2  3 -4 -5 -6 -7 -8  9 10]\n"
     ]
    }
   ],
   "source": [
    "OneDarray = nmp.arange(11)\n",
    "\n",
    "OneDarray[(3 < OneDarray)&(OneDarray <= 8)]*=-1\n",
    "\n",
    "print(OneDarray)"
   ]
  },
  {
   "cell_type": "markdown",
   "id": "930ed8bb",
   "metadata": {},
   "source": [
    "#### 26. What is the output of the following script? (★☆☆)\n",
    "```python\n",
    "# Author: Jake VanderPlas\n",
    "\n",
    "print(sum(range(5),-1))\n",
    "from numpy import *\n",
    "print(sum(range(5),-1))\n",
    "```"
   ]
  },
  {
   "cell_type": "code",
   "execution_count": 42,
   "id": "f02eedba",
   "metadata": {},
   "outputs": [
    {
     "name": "stdout",
     "output_type": "stream",
     "text": [
      "9\n",
      "10\n"
     ]
    }
   ],
   "source": [
    "print(sum(range(5),-1))\n",
    "from numpy import *\n",
    "print(sum(range(5),-1))"
   ]
  },
  {
   "cell_type": "markdown",
   "id": "177120e7",
   "metadata": {},
   "source": [
    "#### 27. Consider an integer vector Z, which of these expressions are legal? (★☆☆)\n",
    "```python\n",
    "Z**Z\n",
    "2 << Z >> 2\n",
    "Z <- Z\n",
    "1j*Z\n",
    "Z/1/1\n",
    "Z<Z>Z\n",
    "```"
   ]
  },
  {
   "cell_type": "code",
   "execution_count": null,
   "id": "86d6cbef",
   "metadata": {},
   "outputs": [],
   "source": [
    "Z = vector = nmp.zeros((5,5))"
   ]
  },
  {
   "cell_type": "markdown",
   "id": "a6eaf0e8",
   "metadata": {},
   "source": [
    "#### 28. What are the result of the following expressions? (★☆☆)\n",
    "```python\n",
    "nmp.array(0) / nmp.array(0)\n",
    "nmp.array(0) // nmp.array(0)\n",
    "nmp.array([nmp.nan]).astype(int).astype(float)\n",
    "```"
   ]
  },
  {
   "cell_type": "markdown",
   "source": [],
   "metadata": {
    "collapsed": false
   }
  },
  {
   "cell_type": "code",
   "execution_count": 43,
   "outputs": [
    {
     "name": "stderr",
     "output_type": "stream",
     "text": [
      "C:\\Users\\romac\\AppData\\Local\\Temp\\ipykernel_9312\\1390116473.py:1: RuntimeWarning: invalid value encountered in divide\n",
      "  nmp.array(0) / nmp.array(0)\n",
      "C:\\Users\\romac\\AppData\\Local\\Temp\\ipykernel_9312\\1390116473.py:2: RuntimeWarning: divide by zero encountered in floor_divide\n",
      "  nmp.array(0) // nmp.array(0)\n"
     ]
    },
    {
     "data": {
      "text/plain": "array([-2.14748365e+09])"
     },
     "execution_count": 43,
     "metadata": {},
     "output_type": "execute_result"
    }
   ],
   "source": [
    "nmp.array(0) / nmp.array(0)\n",
    "nmp.array(0) // nmp.array(0)\n",
    "nmp.array([nmp.nan]).astype(int).astype(float)"
   ],
   "metadata": {
    "collapsed": false
   }
  },
  {
   "cell_type": "markdown",
   "id": "524b65f8",
   "metadata": {},
   "source": [
    "#### 29. How to round away from zero a float array ? (★☆☆)"
   ]
  },
  {
   "cell_type": "code",
   "execution_count": 44,
   "id": "61fbb78e",
   "metadata": {},
   "outputs": [
    {
     "data": {
      "text/plain": "array([ 1., -1.,  1.,  1.,  1., -1.,  1.,  1., -1., -1.])"
     },
     "execution_count": 44,
     "metadata": {},
     "output_type": "execute_result"
    }
   ],
   "source": [
    "vector = nmp.zeros(10)\n",
    "\n",
    "vector = nmp.random.uniform(-1,+1,10)\n",
    "\n",
    "nmp.copysign( nmp.ceil( nmp.abs(vector) ), vector)"
   ]
  },
  {
   "cell_type": "code",
   "execution_count": null,
   "outputs": [],
   "source": [
    "#### 30. How to find common values between two arrays? (★☆☆)"
   ],
   "metadata": {
    "collapsed": false
   }
  },
  {
   "cell_type": "code",
   "execution_count": 45,
   "id": "54399cbe",
   "metadata": {},
   "outputs": [
    {
     "data": {
      "text/plain": "array([ 5,  7, 10])"
     },
     "execution_count": 45,
     "metadata": {},
     "output_type": "execute_result"
    }
   ],
   "source": [
    "array1 = [5,6,7,9,10]\n",
    "array2=[7,-2,4,5,10]\n",
    "\n",
    "nmp.intersect1d(array1,array2)"
   ]
  },
  {
   "cell_type": "markdown",
   "id": "b7f38e21",
   "metadata": {},
   "source": [
    "#### 31. How to ignore all numpy warnings (not recommended)? (★☆☆)"
   ]
  },
  {
   "cell_type": "code",
   "execution_count": null,
   "id": "2ca3289c",
   "metadata": {},
   "outputs": [],
   "source": [
    "#nmp(all=\"ignore\")"
   ]
  },
  {
   "cell_type": "markdown",
   "id": "2d850aab",
   "metadata": {},
   "source": [
    "#### 32. Is the following expressions true? (★☆☆)\n",
    "```python\n",
    "nmp.sqrt(-1) == nmp.emath.sqrt(-1)\n",
    "```"
   ]
  },
  {
   "cell_type": "code",
   "execution_count": 46,
   "id": "5c83ffce",
   "metadata": {},
   "outputs": [
    {
     "name": "stderr",
     "output_type": "stream",
     "text": [
      "C:\\Users\\romac\\AppData\\Local\\Temp\\ipykernel_9312\\3316053369.py:1: RuntimeWarning: invalid value encountered in sqrt\n",
      "  nmp.sqrt(-1) == nmp.emath.sqrt(-1)\n"
     ]
    },
    {
     "data": {
      "text/plain": "False"
     },
     "execution_count": 46,
     "metadata": {},
     "output_type": "execute_result"
    }
   ],
   "source": [
    "nmp.sqrt(-1) == nmp.emath.sqrt(-1)"
   ]
  },
  {
   "cell_type": "markdown",
   "id": "5c4a556f",
   "metadata": {},
   "source": [
    "#### 33. How to get the dates of yesterday, today and tomorrow? (★☆☆)"
   ]
  },
  {
   "cell_type": "code",
   "execution_count": 50,
   "id": "c3b683a0",
   "metadata": {},
   "outputs": [
    {
     "name": "stdout",
     "output_type": "stream",
     "text": [
      "2022-12-05   2022-12-06   2022-12-07\n"
     ]
    }
   ],
   "source": [
    "yest = nmp.datetime64('today', 'D') - nmp.timedelta64(1, 'D')\n",
    "tod     = nmp.datetime64('today', 'D')\n",
    "tom = nmp.datetime64('today', 'D') + nmp.timedelta64(1, 'D')\n",
    "\n",
    "print(yest, ' ', tod, ' ', tom)"
   ]
  },
  {
   "cell_type": "markdown",
   "id": "453cdd64",
   "metadata": {},
   "source": [
    "#### 34. How to get all the dates corresponding to the month of July 2016? (★★☆)"
   ]
  },
  {
   "cell_type": "code",
   "execution_count": 52,
   "id": "4ba4d37c",
   "metadata": {},
   "outputs": [
    {
     "name": "stdout",
     "output_type": "stream",
     "text": [
      "['2016-07-01' '2016-07-02' '2016-07-03' '2016-07-04' '2016-07-05'\n",
      " '2016-07-06' '2016-07-07' '2016-07-08' '2016-07-09' '2016-07-10'\n",
      " '2016-07-11' '2016-07-12' '2016-07-13' '2016-07-14' '2016-07-15'\n",
      " '2016-07-16' '2016-07-17' '2016-07-18' '2016-07-19' '2016-07-20'\n",
      " '2016-07-21' '2016-07-22' '2016-07-23' '2016-07-24' '2016-07-25'\n",
      " '2016-07-26' '2016-07-27' '2016-07-28' '2016-07-29' '2016-07-30'\n",
      " '2016-07-31']\n"
     ]
    }
   ],
   "source": [
    "julyDays = nmp.arange('2016-07','2016-08', dtype='datetime64[D]')\n",
    "\n",
    "print(julyDays)"
   ]
  },
  {
   "cell_type": "markdown",
   "id": "52667b6e",
   "metadata": {},
   "source": [
    "#### 35. How to compute ((A+B)*(-A/2)) in place (without copy)? (★★☆)"
   ]
  },
  {
   "cell_type": "code",
   "execution_count": 53,
   "id": "e6e7c030",
   "metadata": {},
   "outputs": [
    {
     "data": {
      "text/plain": "-27.5"
     },
     "execution_count": 53,
     "metadata": {},
     "output_type": "execute_result"
    }
   ],
   "source": [
    "A = 5\n",
    "B = 6\n",
    "\n",
    "nmp.multiply(nmp.add(A,B), (nmp.divide( nmp.negative(A),2 )))"
   ]
  },
  {
   "cell_type": "markdown",
   "id": "9a8f3738",
   "metadata": {},
   "source": [
    "#### 36. Extract the integer part of a random array of positive numbers using 4 different methods (★★☆)"
   ]
  },
  {
   "cell_type": "code",
   "execution_count": 54,
   "id": "368a801a",
   "metadata": {},
   "outputs": [
    {
     "name": "stdout",
     "output_type": "stream",
     "text": [
      "[7. 9. 3. 9. 6. 8. 2. 3. 4. 5.]\n",
      "[7. 9. 3. 9. 6. 8. 2. 3. 4. 5.]\n",
      "[7 9 3 9 6 8 2 3 4 5]\n",
      "[7. 9. 3. 9. 6. 8. 2. 3. 4. 5.]\n"
     ]
    }
   ],
   "source": [
    "vector = nmp.random.uniform(0,10,10)\n",
    "\n",
    "print (vector - vector % 1)\n",
    "print (nmp.ceil(vector) - 1)\n",
    "print (vector.astype(int))\n",
    "print (nmp.trunc(vector))"
   ]
  },
  {
   "cell_type": "markdown",
   "id": "cab1eed1",
   "metadata": {},
   "source": [
    "#### 37. Create a 5x5 matrix with row values ranging from 0 to 4 (★★☆)"
   ]
  },
  {
   "cell_type": "code",
   "execution_count": 56,
   "id": "f1b579ba",
   "metadata": {},
   "outputs": [
    {
     "name": "stdout",
     "output_type": "stream",
     "text": [
      "[[0. 1. 2. 3. 4.]\n",
      " [0. 1. 2. 3. 4.]\n",
      " [0. 1. 2. 3. 4.]\n",
      " [0. 1. 2. 3. 4.]\n",
      " [0. 1. 2. 3. 4.]]\n"
     ]
    }
   ],
   "source": [
    "matrix = nmp.zeros((5, 5))\n",
    "matrix += nmp.arange(5)\n",
    "print(matrix)"
   ]
  },
  {
   "cell_type": "markdown",
   "id": "cd0ce6b1",
   "metadata": {},
   "source": [
    "#### 38. Consider a generator function that generates 10 integers and use it to build an array (★☆☆)"
   ]
  },
  {
   "cell_type": "code",
   "execution_count": 60,
   "id": "aab193a6",
   "metadata": {},
   "outputs": [
    {
     "name": "stdout",
     "output_type": "stream",
     "text": [
      "[0. 1. 2. 3. 4. 5. 6. 7. 8. 9.]\n"
     ]
    }
   ],
   "source": [
    "def generator():\n",
    "    for i in range(10): yield i\n",
    "\n",
    "arr = nmp.fromiter(generator(),dtype=float,count=-1)\n",
    "print(arr)"
   ]
  },
  {
   "cell_type": "markdown",
   "id": "c4c942d1",
   "metadata": {},
   "source": [
    "#### 39. Create a vector of size 10 with values ranging from 0 to 1, both excluded (★★☆)"
   ]
  },
  {
   "cell_type": "code",
   "execution_count": 64,
   "id": "e42eaa4b",
   "metadata": {},
   "outputs": [
    {
     "name": "stdout",
     "output_type": "stream",
     "text": [
      "[0.         0.09090909 0.18181818 0.27272727 0.36363636 0.45454545\n",
      " 0.54545455 0.63636364 0.72727273 0.81818182 0.90909091]\n"
     ]
    }
   ],
   "source": [
    "v = nmp.linspace(0, 1, 11, endpoint=False)\n",
    "print(v)"
   ]
  },
  {
   "cell_type": "markdown",
   "id": "9b3cb8d2",
   "metadata": {},
   "source": [
    "#### 40. Create a random vector of size 10 and sort it (★★☆)"
   ]
  },
  {
   "cell_type": "code",
   "execution_count": 65,
   "id": "37d2b341",
   "metadata": {},
   "outputs": [
    {
     "name": "stdout",
     "output_type": "stream",
     "text": [
      "[0.21688699 0.22866521 0.35461339 0.57135135 0.61479143 0.77377934\n",
      " 0.83902378 0.8591345  0.89408739 0.9276177 ]\n"
     ]
    }
   ],
   "source": [
    "v = nmp.random.random(10)\n",
    "v.sort()\n",
    "\n",
    "print(v)"
   ]
  },
  {
   "cell_type": "markdown",
   "id": "2facfddc",
   "metadata": {},
   "source": [
    "#### 41. How to sum a small array faster than nmp.sum? (★★☆)"
   ]
  },
  {
   "cell_type": "code",
   "execution_count": 66,
   "id": "4bb8864f",
   "metadata": {},
   "outputs": [
    {
     "data": {
      "text/plain": "45"
     },
     "execution_count": 66,
     "metadata": {},
     "output_type": "execute_result"
    }
   ],
   "source": [
    "v = nmp.arange(10)\n",
    "\n",
    "nmp.add.reduce(v)"
   ]
  },
  {
   "cell_type": "markdown",
   "id": "539cd2a5",
   "metadata": {},
   "source": [
    "#### 42. Consider two random array A and B, check if they are equal (★★☆)"
   ]
  },
  {
   "cell_type": "code",
   "execution_count": 69,
   "id": "5246d7bf",
   "metadata": {},
   "outputs": [
    {
     "name": "stdout",
     "output_type": "stream",
     "text": [
      "True\n",
      "True\n"
     ]
    }
   ],
   "source": [
    "A=[5,2,3]\n",
    "B=[5,2,3]\n",
    "\n",
    "e = nmp.allclose(A,B)\n",
    "print(e)\n",
    "e = nmp.array_equal(A,B)\n",
    "print(e)"
   ]
  },
  {
   "cell_type": "markdown",
   "id": "448f8274",
   "metadata": {},
   "source": [
    "#### 43. Make an array immutable (read-only) (★★☆)"
   ]
  },
  {
   "cell_type": "code",
   "execution_count": 72,
   "id": "7cf2b3dd",
   "metadata": {},
   "outputs": [],
   "source": [
    "array = nmp.arange(10)\n",
    "array.flags.writeable = False"
   ]
  },
  {
   "cell_type": "markdown",
   "id": "d7b7aaf3",
   "metadata": {},
   "source": [
    "#### 44. Consider a random 10x2 matrix representing cartesian coordinates, convert them to polar coordinates (★★☆)"
   ]
  },
  {
   "cell_type": "code",
   "execution_count": 75,
   "id": "e2337585",
   "metadata": {},
   "outputs": [
    {
     "name": "stdout",
     "output_type": "stream",
     "text": [
      "[0.92682261 1.02299359 0.20228605 0.64561663 0.91687737 1.20476368\n",
      " 0.91400264 1.2793685  0.92661719 1.22518365]\n",
      "[0.64074353 0.8354506  0.44836113 0.18178647 1.20164828 0.6124464\n",
      " 0.438321   0.84252196 0.61379689 0.80983329]\n"
     ]
    }
   ],
   "source": [
    "matrix = nmp.random.random((10,2))\n",
    "\n",
    "X,Y = vector[:,1], vector[:,0]\n",
    "\n",
    "R = nmp.sqrt(X**2 + Y**2)\n",
    "T = nmp.arctan2(Y, X)\n",
    "\n",
    "print(R)\n",
    "print(T)"
   ]
  },
  {
   "cell_type": "markdown",
   "id": "a556027a",
   "metadata": {},
   "source": [
    "#### 45. Create random vector of size 10 and replace the maximum value by 0 (★★☆)"
   ]
  },
  {
   "cell_type": "code",
   "execution_count": 78,
   "id": "9e07cb87",
   "metadata": {},
   "outputs": [
    {
     "name": "stdout",
     "output_type": "stream",
     "text": [
      "[0.23861208 0.55066287 0.41229576 0.         0.11569027 0.07674102\n",
      " 0.35635577 0.64718326 0.76795553 0.55805338]\n"
     ]
    }
   ],
   "source": [
    "vector = nmp.random.random(10)\n",
    "vector[vector.argmax()] = 0\n",
    "\n",
    "print(vector)"
   ]
  },
  {
   "cell_type": "markdown",
   "id": "004f3da1",
   "metadata": {},
   "source": [
    "#### 46. Create a structured array with `x` and `y` coordinates covering the [0,1]x[0,1] area (★★☆)"
   ]
  },
  {
   "cell_type": "code",
   "execution_count": 79,
   "id": "b3824741",
   "metadata": {},
   "outputs": [
    {
     "name": "stdout",
     "output_type": "stream",
     "text": [
      "[0.42664907 0.70081246 0.16380386 0.98160776 0.9537773  0.06275857\n",
      " 0.96151275 0.25945005 0.99083387 0.07552503]\n"
     ]
    }
   ],
   "source": [
    "vector = nmp.random.random(10)\n",
    "print(vector)"
   ]
  },
  {
   "cell_type": "markdown",
   "id": "1c0adc0d",
   "metadata": {},
   "source": [
    "#### 47. Given two arrays, X and Y, construct the Cauchy matrix C (Cij =1/(xi - yj)) (★★☆)"
   ]
  },
  {
   "cell_type": "code",
   "execution_count": 84,
   "id": "01b3bbb7",
   "metadata": {},
   "outputs": [
    {
     "name": "stdout",
     "output_type": "stream",
     "text": [
      "[[-2.         -0.66666667 -0.4        -0.28571429 -0.22222222 -0.18181818\n",
      "  -0.15384615 -0.13333333 -0.11764706 -0.10526316]\n",
      " [ 2.         -2.         -0.66666667 -0.4        -0.28571429 -0.22222222\n",
      "  -0.18181818 -0.15384615 -0.13333333 -0.11764706]\n",
      " [ 0.66666667  2.         -2.         -0.66666667 -0.4        -0.28571429\n",
      "  -0.22222222 -0.18181818 -0.15384615 -0.13333333]\n",
      " [ 0.4         0.66666667  2.         -2.         -0.66666667 -0.4\n",
      "  -0.28571429 -0.22222222 -0.18181818 -0.15384615]\n",
      " [ 0.28571429  0.4         0.66666667  2.         -2.         -0.66666667\n",
      "  -0.4        -0.28571429 -0.22222222 -0.18181818]\n",
      " [ 0.22222222  0.28571429  0.4         0.66666667  2.         -2.\n",
      "  -0.66666667 -0.4        -0.28571429 -0.22222222]\n",
      " [ 0.18181818  0.22222222  0.28571429  0.4         0.66666667  2.\n",
      "  -2.         -0.66666667 -0.4        -0.28571429]\n",
      " [ 0.15384615  0.18181818  0.22222222  0.28571429  0.4         0.66666667\n",
      "   2.         -2.         -0.66666667 -0.4       ]\n",
      " [ 0.13333333  0.15384615  0.18181818  0.22222222  0.28571429  0.4\n",
      "   0.66666667  2.         -2.         -0.66666667]\n",
      " [ 0.11764706  0.13333333  0.15384615  0.18181818  0.22222222  0.28571429\n",
      "   0.4         0.66666667  2.         -2.        ]]\n"
     ]
    }
   ],
   "source": [
    "x = nmp.arange(10)\n",
    "y = x + 0.5\n",
    "\n",
    "c = 1 / nmp.subtract.outer(x, y)\n",
    "\n",
    "print(c)"
   ]
  },
  {
   "cell_type": "markdown",
   "id": "c8a2f65a",
   "metadata": {},
   "source": [
    "#### 48. Print the minimum and maximum representable value for each numpy scalar type (★★☆)"
   ]
  },
  {
   "cell_type": "code",
   "execution_count": 82,
   "id": "35d844d6",
   "metadata": {},
   "outputs": [
    {
     "name": "stdout",
     "output_type": "stream",
     "text": [
      "-2147483648\n",
      "2147483647\n",
      "-9223372036854775808\n",
      "9223372036854775807\n"
     ]
    }
   ],
   "source": [
    "for scalarType in [nmp.int32, nmp.int64]:\n",
    "   print(nmp.iinfo(scalarType).min)\n",
    "   print(nmp.iinfo(scalarType).max)"
   ]
  },
  {
   "cell_type": "markdown",
   "id": "11727a69",
   "metadata": {},
   "source": [
    "#### 49. How to print all the values of an array? (★★☆)"
   ]
  },
  {
   "cell_type": "code",
   "execution_count": 83,
   "id": "47e98473",
   "metadata": {},
   "outputs": [
    {
     "name": "stdout",
     "output_type": "stream",
     "text": [
      "[0 1 2 3 4 5 6 7 8 9]\n"
     ]
    }
   ],
   "source": [
    "matrix = nmp.arange(10)\n",
    "print(matrix)"
   ]
  },
  {
   "cell_type": "markdown",
   "id": "e0e7d741",
   "metadata": {},
   "source": [
    "#### 50. How to find the closest value (to a given scalar) in a vector? (★★☆)"
   ]
  },
  {
   "cell_type": "code",
   "execution_count": 85,
   "id": "62cabf6f",
   "metadata": {},
   "outputs": [
    {
     "name": "stdout",
     "output_type": "stream",
     "text": [
      "0\n"
     ]
    }
   ],
   "source": [
    "arr = nmp.arange(10)\n",
    "\n",
    "index = (nmp.abs(arr)).argmin()\n",
    "print(arr[index])\n"
   ]
  },
  {
   "cell_type": "markdown",
   "id": "c5611b9e",
   "metadata": {},
   "source": [
    "#### 51. Create a structured array representing a position (x,y) and a color (r,g,b) (★★☆)"
   ]
  },
  {
   "cell_type": "code",
   "execution_count": 90,
   "id": "f622939d",
   "metadata": {},
   "outputs": [
    {
     "name": "stdout",
     "output_type": "stream",
     "text": [
      "[((0., 0.), (0., 0., 0.)) ((0., 0.), (0., 0., 0.))\n",
      " ((0., 0.), (0., 0., 0.)) ((0., 0.), (0., 0., 0.))\n",
      " ((0., 0.), (0., 0., 0.)) ((0., 0.), (0., 0., 0.))\n",
      " ((0., 0.), (0., 0., 0.)) ((0., 0.), (0., 0., 0.))\n",
      " ((0., 0.), (0., 0., 0.)) ((0., 0.), (0., 0., 0.))\n",
      " ((0., 0.), (0., 0., 0.)) ((0., 0.), (0., 0., 0.))\n",
      " ((0., 0.), (0., 0., 0.)) ((0., 0.), (0., 0., 0.))\n",
      " ((0., 0.), (0., 0., 0.)) ((0., 0.), (0., 0., 0.))\n",
      " ((0., 0.), (0., 0., 0.)) ((0., 0.), (0., 0., 0.))\n",
      " ((0., 0.), (0., 0., 0.)) ((0., 0.), (0., 0., 0.))]\n"
     ]
    },
    {
     "name": "stderr",
     "output_type": "stream",
     "text": [
      "C:\\Users\\romac\\AppData\\Local\\Temp\\ipykernel_9312\\2230178053.py:1: FutureWarning: Passing (type, 1) or '1type' as a synonym of type is deprecated; in a future version of numpy, it will be understood as (type, (1,)) / '(1,)type'.\n",
      "  structuredArray = nmp.zeros(20, [ ('pos', [('x', float, 1),('y', float, 1)]),('clr',    [ ('r', float, 1),('g', float, 1),('b', float, 1)])])\n"
     ]
    }
   ],
   "source": [
    "\n",
    "\n",
    "structuredArray = nmp.zeros(20, [ ('pos', [('x', float, 1),('y', float, 1)]),('clr',    [ ('r', float, 1),('g', float, 1),('b', float, 1)])])\n",
    "print(structuredArray)"
   ]
  },
  {
   "cell_type": "markdown",
   "id": "d22b8574",
   "metadata": {},
   "source": [
    "#### 52. Consider a random vector with shape (100,2) representing coordinates, find point by point distances (★★☆)"
   ]
  },
  {
   "cell_type": "code",
   "execution_count": 91,
   "id": "d5c9cdf8",
   "metadata": {},
   "outputs": [
    {
     "name": "stdout",
     "output_type": "stream",
     "text": [
      "[[0.20246649 0.22078977 0.19221108 ... 0.37582499 0.1652072  0.63699185]\n",
      " [0.41395975 0.31007208 0.21528865 ... 0.32173099 0.25478572 0.39205657]\n",
      " [0.43296833 0.32466899 0.22909696 ... 0.32521501 0.27088008 0.3719023 ]\n",
      " ...\n",
      " [0.67651062 0.53866813 0.4450973  ... 0.45038363 0.49805949 0.12113692]\n",
      " [0.37609892 0.28280501 0.1909906  ... 0.3185096  0.22443048 0.43261051]\n",
      " [0.76782369 0.62492276 0.53295724 ... 0.52045142 0.58712447 0.03577425]]\n"
     ]
    }
   ],
   "source": [
    "radVector = nmp.random.random((100,2))\n",
    "\n",
    "x,y = nmp.atleast_2d(radVector[:, 0], radVector[:, 1])\n",
    "distance = nmp.sqrt( (x - y.T)**2 + (y - y.T)**2)\n",
    "\n",
    "print(distance)\n"
   ]
  },
  {
   "cell_type": "markdown",
   "id": "f5c164f2",
   "metadata": {},
   "source": [
    "#### 53. How to convert a float (32 bits) array into an integer (32 bits) in place?"
   ]
  },
  {
   "cell_type": "code",
   "execution_count": 92,
   "id": "ea262de8",
   "metadata": {},
   "outputs": [
    {
     "name": "stdout",
     "output_type": "stream",
     "text": [
      "[0 1 2 3 4 5 6 7 8 9]\n"
     ]
    }
   ],
   "source": [
    "\n",
    "array = nmp.arange(10)\n",
    "array = array.astype(nmp.int32, copy=False)\n",
    "\n",
    "print(array)"
   ]
  },
  {
   "cell_type": "markdown",
   "id": "a8b7e6f5",
   "metadata": {},
   "source": [
    "#### 54. How to read the following file? (★★☆)\n",
    "```\n",
    "1, 2, 3, 4, 5\n",
    "6,  ,  , 7, 8\n",
    " ,  , 9,10,11\n",
    "```"
   ]
  },
  {
   "cell_type": "code",
   "execution_count": 93,
   "id": "bde0538a",
   "metadata": {},
   "outputs": [
    {
     "name": "stdout",
     "output_type": "stream",
     "text": [
      "[[ 1  2  3  4  5]\n",
      " [ 6 -1 -1  7  8]\n",
      " [-1 -1  9 10 11]]\n"
     ]
    }
   ],
   "source": [
    "from io import StringIO\n",
    "f = StringIO('''1, 2, 3, 4, 5\\n\n",
    "                6,  ,  , 7, 8\\n\n",
    "                 ,  , 9,10,11\\n''')\n",
    "\n",
    "array = nmp.genfromtxt(f, delimiter=\",\", dtype=int)\n",
    "print(array)"
   ]
  },
  {
   "cell_type": "markdown",
   "id": "c6b32834",
   "metadata": {},
   "source": [
    "#### 55. What is the equivalent of enumerate for numpy arrays? (★★☆)"
   ]
  },
  {
   "cell_type": "code",
   "execution_count": 96,
   "id": "ab02472a",
   "metadata": {},
   "outputs": [
    {
     "name": "stdout",
     "output_type": "stream",
     "text": [
      "(0,) 0\n",
      "(1,) 1\n",
      "(2,) 2\n",
      "(3,) 3\n",
      "(4,) 4\n",
      "(5,) 5\n",
      "(6,) 6\n",
      "(7,) 7\n",
      "(8,) 8\n",
      "(9,) 9\n"
     ]
    }
   ],
   "source": [
    "\n",
    "m = nmp.arange(9).reshape(3,3)\n",
    "for index, value in nmp.ndenumerate(matrix):\n",
    "    print(index, value)"
   ]
  },
  {
   "cell_type": "markdown",
   "id": "a2121a05",
   "metadata": {},
   "source": [
    "#### 56. Generate a generic 2D Gaussian-like array (★★☆)"
   ]
  },
  {
   "cell_type": "code",
   "execution_count": 97,
   "id": "18507102",
   "metadata": {},
   "outputs": [
    {
     "name": "stdout",
     "output_type": "stream",
     "text": [
      "[0.65083438 0.59258679 0.97974806 0.81187376 0.65682868 0.48397222\n",
      " 0.65855949 0.44114049 0.65095829 0.47211273]\n"
     ]
    }
   ],
   "source": [
    "x, y = nmp.meshgrid(nmp.linspace(-1,1,3), nmp.linspace(-1,1,3))\n",
    "\n",
    "d = nmp.sqrt(X*X + Y*Y)\n",
    "sig, m = 1.0, 0.0\n",
    "\n",
    "gaus = nmp.exp(-( (d-m)**2 / ( 2.0 * sig**2 ) ) )\n",
    "\n",
    "print(gaus)"
   ]
  },
  {
   "cell_type": "markdown",
   "id": "97055efa",
   "metadata": {},
   "source": [
    "#### 57. How to randomly place p elements in a 2D array? (★★☆)"
   ]
  },
  {
   "cell_type": "code",
   "execution_count": 101,
   "id": "292e842f",
   "metadata": {},
   "outputs": [
    {
     "name": "stdout",
     "output_type": "stream",
     "text": [
      "[[0. 0. 0. 5.]\n",
      " [0. 0. 0. 5.]\n",
      " [0. 0. 0. 5.]\n",
      " [0. 0. 0. 0.]]\n"
     ]
    }
   ],
   "source": [
    "p = 3\n",
    "\n",
    "d2 = nmp.zeros((4,4))\n",
    "nmp.put(d2, nmp.random.choice(range(4*4), 3, replace=False),5)\n",
    "\n",
    "print(d2)"
   ]
  },
  {
   "cell_type": "markdown",
   "id": "bfd2513c",
   "metadata": {},
   "source": [
    "#### 58. Subtract the mean of each row of a matrix (★★☆)"
   ]
  },
  {
   "cell_type": "code",
   "execution_count": 104,
   "id": "f306ab72",
   "metadata": {},
   "outputs": [
    {
     "name": "stdout",
     "output_type": "stream",
     "text": [
      "[[-0.22654951  0.44941558 -0.22286607]\n",
      " [ 0.32702551 -0.01976718 -0.30725833]]\n"
     ]
    }
   ],
   "source": [
    "rows = nmp.random.rand(3, 2)\n",
    "singlerow = rows - rows.mean(axis=1, keepdims=True)\n",
    "\n",
    "print(Y)\n"
   ]
  },
  {
   "cell_type": "markdown",
   "id": "da9f2f9b",
   "metadata": {},
   "source": [
    "#### 59. How to sort an array by the nth column? (★★☆)"
   ]
  },
  {
   "cell_type": "code",
   "execution_count": 107,
   "id": "68cde57f",
   "metadata": {},
   "outputs": [
    {
     "name": "stdout",
     "output_type": "stream",
     "text": [
      "[[4 0 5 5]\n",
      " [4 1 8 6]\n",
      " [0 0 0 1]\n",
      " [6 2 1 0]]\n",
      "[[4 0 5 5]\n",
      " [0 0 0 1]\n",
      " [4 1 8 6]\n",
      " [6 2 1 0]]\n"
     ]
    }
   ],
   "source": [
    "array = nmp.random.randint(0,12,(4,4))\n",
    "\n",
    "print(array)\n",
    "print(array[array[:,1].argsort()])"
   ]
  },
  {
   "cell_type": "markdown",
   "id": "5b7be45c",
   "metadata": {},
   "source": [
    "#### 60. How to tell if a given 2D array has null columns? (★★☆)"
   ]
  },
  {
   "cell_type": "code",
   "execution_count": 108,
   "id": "7dbe2c27",
   "metadata": {},
   "outputs": [
    {
     "name": "stdout",
     "output_type": "stream",
     "text": [
      "[[1 0 1 0]\n",
      " [0 1 1 1]\n",
      " [1 1 1 1]\n",
      " [1 0 1 0]]\n",
      "False\n"
     ]
    }
   ],
   "source": [
    "Darray = nmp.random.randint(0,2,(4,4))\n",
    "\n",
    "print (Darray)\n",
    "\n",
    "print((~Darray.any(axis=0)).any())"
   ]
  },
  {
   "cell_type": "markdown",
   "id": "7c18c02e",
   "metadata": {},
   "source": [
    "#### 61. Find the nearest value from a given value in an array (★★☆)"
   ]
  },
  {
   "cell_type": "code",
   "execution_count": 109,
   "id": "b78ae9c4",
   "metadata": {},
   "outputs": [
    {
     "name": "stdout",
     "output_type": "stream",
     "text": [
      "1\n"
     ]
    }
   ],
   "source": [
    "matrix = nmp.random.uniform(0, 1, 12)\n",
    "\n",
    "given = 0.65\n",
    "near = array.flat[nmp.abs(array - given).argmin()]\n",
    "print(near)"
   ]
  },
  {
   "cell_type": "markdown",
   "id": "8174ba2c",
   "metadata": {},
   "source": [
    "#### 62. Considering two arrays with shape (1,3) and (3,1), how to compute their sum using an iterator? (★★☆)"
   ]
  },
  {
   "cell_type": "code",
   "execution_count": 110,
   "id": "8a18fe57",
   "metadata": {},
   "outputs": [
    {
     "name": "stdout",
     "output_type": "stream",
     "text": [
      "[12  4 11 14 20]\n"
     ]
    }
   ],
   "source": [
    "arr1 = nmp.arange(3).reshape(3,1)\n",
    "arr2 = nmp.arange(3).reshape(1,3)\n",
    "\n",
    "i = nmp.nditer([array1,array2,None])\n",
    "for x,y,z in i: z[...] = x + y\n",
    "\n",
    "print(i.operands[2])"
   ]
  },
  {
   "cell_type": "markdown",
   "id": "9189bd7c",
   "metadata": {},
   "source": [
    "#### 63. Create an array class that has a name attribute (★★☆)"
   ]
  },
  {
   "cell_type": "code",
   "execution_count": null,
   "id": "1c01ed42",
   "metadata": {},
   "outputs": [],
   "source": [
    "\n"
   ]
  },
  {
   "cell_type": "markdown",
   "id": "f30162d2",
   "metadata": {},
   "source": [
    "#### 64. Consider a given vector, how to add 1 to each element indexed by a second vector (be careful with repeated indices)? (★★★)"
   ]
  },
  {
   "cell_type": "code",
   "execution_count": 112,
   "id": "093ba36f",
   "metadata": {},
   "outputs": [
    {
     "name": "stdout",
     "output_type": "stream",
     "text": [
      "[2. 3. 3. 1. 5. 5. 2. 3. 4. 2.]\n"
     ]
    }
   ],
   "source": [
    "v = nmp.ones(10)\n",
    "s = nmp.random.randint(0,len(v),20)\n",
    "\n",
    "nmp.add.at(v, s, 1)\n",
    "print(v)"
   ]
  },
  {
   "cell_type": "markdown",
   "id": "f5b1c584",
   "metadata": {},
   "source": [
    "#### 65. How to accumulate elements of a vector (X) to an array (F) based on an index list (I)? (★★★)"
   ]
  },
  {
   "cell_type": "code",
   "execution_count": 113,
   "id": "c9d92a75",
   "metadata": {},
   "outputs": [
    {
     "name": "stdout",
     "output_type": "stream",
     "text": [
      "[7. 6. 4. 3. 2. 5.]\n"
     ]
    }
   ],
   "source": [
    "\n",
    "v = [2, 3, 4, 5, 6, 7]\n",
    "indexLs = [4, 3, 2, 5, 1, 0]\n",
    "arr= nmp.bincount(indexLs,v)\n",
    "\n",
    "print(arr)"
   ]
  },
  {
   "cell_type": "markdown",
   "id": "994c452d",
   "metadata": {},
   "source": [
    "#### 66. Considering a (w,h,3) image of (dtype=ubyte), compute the number of unique colors (★★☆)"
   ]
  },
  {
   "cell_type": "code",
   "execution_count": null,
   "id": "269cdaea",
   "metadata": {},
   "outputs": [],
   "source": []
  },
  {
   "cell_type": "markdown",
   "id": "4bddeb31",
   "metadata": {},
   "source": [
    "#### 67. Considering a four dimensions array, how to get sum over the last two axis at once? (★★★)"
   ]
  },
  {
   "cell_type": "code",
   "execution_count": 114,
   "id": "32af15f5",
   "metadata": {},
   "outputs": [
    {
     "name": "stdout",
     "output_type": "stream",
     "text": [
      "[[12 16]\n",
      " [12  8]]\n"
     ]
    }
   ],
   "source": [
    "array = nmp.random.randint(0, 5, (2,3,2,2))\n",
    "\n",
    "sum = array.sum(axis=(-2,-3))\n",
    "\n",
    "print(sum)"
   ]
  },
  {
   "cell_type": "markdown",
   "id": "c4cf083c",
   "metadata": {},
   "source": [
    "#### 68. Considering a one-dimensional vector D, how to compute means of subsets of D using a vector S of same size describing subset  indices? (★★★)"
   ]
  },
  {
   "cell_type": "code",
   "execution_count": 115,
   "id": "9600a2dd",
   "metadata": {},
   "outputs": [
    {
     "name": "stdout",
     "output_type": "stream",
     "text": [
      "[ 4  1  0  7  0 11  0  6  1  9  4  1]\n",
      "0     0.566554\n",
      "1     0.477120\n",
      "4     0.528470\n",
      "6     0.417524\n",
      "7     0.322432\n",
      "9     0.248169\n",
      "11    0.040122\n",
      "dtype: float64\n"
     ]
    }
   ],
   "source": [
    "import pandas as p;\n",
    "vector = nmp.random.uniform(0, 1, 12)\n",
    "\n",
    "s = nmp.random.randint(0, 12, 12)\n",
    "print(s)\n",
    "\n",
    "print(p.Series(vector).groupby(s).mean())"
   ]
  },
  {
   "cell_type": "markdown",
   "id": "a5e316db",
   "metadata": {},
   "source": [
    "#### 69. How to get the diagonal of a dot product? (★★★)"
   ]
  },
  {
   "cell_type": "code",
   "execution_count": 117,
   "id": "94735dbd",
   "metadata": {},
   "outputs": [
    {
     "data": {
      "text/plain": "array([0.5932085 , 0.8891815 , 0.37943555, 1.5245032 ])"
     },
     "execution_count": 117,
     "metadata": {},
     "output_type": "execute_result"
    }
   ],
   "source": [
    "x = nmp.random.uniform(0, 1, (4, 4))\n",
    "\n",
    "y = nmp.random.uniform(0, 1, (4, 4))\n",
    "\n",
    "nmp.diag(nmp.dot(x, y))"
   ]
  },
  {
   "cell_type": "markdown",
   "id": "de727a7b",
   "metadata": {},
   "source": [
    "#### 70. Consider the vector [1, 2, 3, 4, 5], how to build a new vector with 3 consecutive zeros interleaved between each value? (★★★)"
   ]
  },
  {
   "cell_type": "code",
   "execution_count": 118,
   "id": "982be812",
   "metadata": {},
   "outputs": [
    {
     "name": "stdout",
     "output_type": "stream",
     "text": [
      "[1. 0. 0. 0. 2. 0. 0. 0. 3. 0. 0. 0. 4. 0. 0. 0. 5.]\n"
     ]
    }
   ],
   "source": [
    "v = nmp.array([1, 2, 3, 4, 5])\n",
    "zer = 3\n",
    "v_zer = nmp.zeros(len(v) + (len(v) - 1) * (zer))\n",
    "v_zer[::zer+1] = v\n",
    "\n",
    "print(v_zer)"
   ]
  },
  {
   "cell_type": "markdown",
   "id": "a9a73d6b",
   "metadata": {},
   "source": [
    "#### 71. Consider an array of dimension (5,5,3), how to mulitply it by an array with dimensions (5,5)? (★★★)"
   ]
  },
  {
   "cell_type": "code",
   "execution_count": 124,
   "id": "282a90cc",
   "metadata": {},
   "outputs": [
    {
     "name": "stdout",
     "output_type": "stream",
     "text": [
      "[[[1. 1. 1.]\n",
      "  [1. 1. 1.]\n",
      "  [1. 1. 1.]\n",
      "  [1. 1. 1.]\n",
      "  [1. 1. 1.]]\n",
      "\n",
      " [[1. 1. 1.]\n",
      "  [1. 1. 1.]\n",
      "  [1. 1. 1.]\n",
      "  [1. 1. 1.]\n",
      "  [1. 1. 1.]]\n",
      "\n",
      " [[1. 1. 1.]\n",
      "  [1. 1. 1.]\n",
      "  [1. 1. 1.]\n",
      "  [1. 1. 1.]\n",
      "  [1. 1. 1.]]\n",
      "\n",
      " [[1. 1. 1.]\n",
      "  [1. 1. 1.]\n",
      "  [1. 1. 1.]\n",
      "  [1. 1. 1.]\n",
      "  [1. 1. 1.]]\n",
      "\n",
      " [[1. 1. 1.]\n",
      "  [1. 1. 1.]\n",
      "  [1. 1. 1.]\n",
      "  [1. 1. 1.]\n",
      "  [1. 1. 1.]]]\n"
     ]
    }
   ],
   "source": [
    "arr1 = nmp.ones((5,5,3))\n",
    "arr2 = nmp.ones((5,5))\n",
    "\n",
    "print(arr1 * arr2[:,:,None])"
   ]
  },
  {
   "cell_type": "markdown",
   "id": "a951c78f",
   "metadata": {},
   "source": [
    "#### 72. How to swap two rows of an array? (★★★)"
   ]
  },
  {
   "cell_type": "code",
   "execution_count": 125,
   "id": "e29b3fde",
   "metadata": {},
   "outputs": [
    {
     "name": "stdout",
     "output_type": "stream",
     "text": [
      "[[2 3]\n",
      " [0 1]]\n"
     ]
    }
   ],
   "source": [
    "arr = nmp.arange(4).reshape(2,2)\n",
    "arr[[0, 1]] = arr[[1, 0]]\n",
    "\n",
    "print(arr)"
   ]
  },
  {
   "cell_type": "markdown",
   "id": "43b639e8",
   "metadata": {},
   "source": [
    "#### 73. Consider a set of 10 triplets describing 10 triangles (with shared vertices), find the set of unique line segments composing all the  triangles (★★★)"
   ]
  },
  {
   "cell_type": "code",
   "execution_count": 127,
   "id": "147e1034",
   "metadata": {},
   "outputs": [],
   "source": []
  },
  {
   "cell_type": "markdown",
   "id": "d41de585",
   "metadata": {},
   "source": [
    "#### 74. Given a sorted array C that corresponds to a bincount, how to produce an array A such that nmp.bincount(A) == C? (★★★)"
   ]
  },
  {
   "cell_type": "code",
   "execution_count": 128,
   "id": "5f5d6e36",
   "metadata": {},
   "outputs": [
    {
     "name": "stdout",
     "output_type": "stream",
     "text": [
      "[ True  True  True  True  True  True  True  True]\n"
     ]
    }
   ],
   "source": [
    "c = nmp.bincount([2 ,3, 4, 5, 6, 7])\n",
    "a = nmp.repeat(nmp.arange(len(c)), c)\n",
    "\n",
    "print(nmp.bincount(a) == c)"
   ]
  },
  {
   "cell_type": "markdown",
   "id": "b50adf7c",
   "metadata": {},
   "source": [
    "#### 75. How to compute averages using a sliding window over an array? (★★★)"
   ]
  },
  {
   "cell_type": "code",
   "execution_count": null,
   "id": "e631a9d2",
   "metadata": {},
   "outputs": [],
   "source": []
  },
  {
   "cell_type": "markdown",
   "id": "1ab4c50d",
   "metadata": {},
   "source": [
    "#### 76. Consider a one-dimensional array Z, build a two-dimensional array whose first row is (Z[0],Z[1],Z[2]) and each subsequent row is  shifted by 1 (last row should be (Z[-3],Z[-2],Z[-1]) (★★★)"
   ]
  },
  {
   "cell_type": "code",
   "execution_count": null,
   "id": "3ccfe2c0",
   "metadata": {},
   "outputs": [],
   "source": [
    "from numpy.lib import stride_tricks"
   ]
  },
  {
   "cell_type": "markdown",
   "id": "5b4fe59d",
   "metadata": {},
   "source": [
    "#### 77. How to negate a boolean, or to change the sign of a float inmplace? (★★★)"
   ]
  },
  {
   "cell_type": "code",
   "execution_count": 132,
   "id": "3c2373ff",
   "metadata": {},
   "outputs": [
    {
     "ename": "ValueError",
     "evalue": "operands could not be broadcast together with shapes (2,3,2,2) (100,) ",
     "output_type": "error",
     "traceback": [
      "\u001B[1;31m---------------------------------------------------------------------------\u001B[0m",
      "\u001B[1;31mValueError\u001B[0m                                Traceback (most recent call last)",
      "Cell \u001B[1;32mIn [132], line 5\u001B[0m\n\u001B[0;32m      2\u001B[0m arr\u001B[38;5;241m=\u001B[39mnmp\u001B[38;5;241m.\u001B[39mlogical_not(array, out\u001B[38;5;241m=\u001B[39marray)\n\u001B[0;32m      4\u001B[0m arr \u001B[38;5;241m=\u001B[39m nmp\u001B[38;5;241m.\u001B[39mrandom\u001B[38;5;241m.\u001B[39muniform(\u001B[38;5;241m-\u001B[39m\u001B[38;5;241m1.0\u001B[39m,\u001B[38;5;241m1.0\u001B[39m,\u001B[38;5;241m100\u001B[39m)\n\u001B[1;32m----> 5\u001B[0m \u001B[43mnmp\u001B[49m\u001B[38;5;241;43m.\u001B[39;49m\u001B[43mnegative\u001B[49m\u001B[43m(\u001B[49m\u001B[43marray\u001B[49m\u001B[43m,\u001B[49m\u001B[43m \u001B[49m\u001B[43mout\u001B[49m\u001B[38;5;241;43m=\u001B[39;49m\u001B[43marr\u001B[49m\u001B[43m)\u001B[49m\n\u001B[0;32m      7\u001B[0m \u001B[38;5;28mprint\u001B[39m(arr)\n",
      "\u001B[1;31mValueError\u001B[0m: operands could not be broadcast together with shapes (2,3,2,2) (100,) "
     ]
    }
   ],
   "source": [
    "arr = nmp.random.randint(0,3,10)\n",
    "arr = nmp.logical_not(array, out=array)\n",
    "\n",
    "arr = nmp.random.uniform(-1.0,1.0,10)\n",
    "nmp.negative(array, out=arr)\n",
    "print(arr)"
   ]
  },
  {
   "cell_type": "markdown",
   "id": "119ab5af",
   "metadata": {},
   "source": [
    "#### 78. Consider 2 sets of points P0,P1 describing lines (2d) and a point p, how to compute distance from p to each line i (P0[i],P1[i])? (★★★)"
   ]
  },
  {
   "cell_type": "code",
   "execution_count": 135,
   "id": "1d8d06dc",
   "metadata": {},
   "outputs": [],
   "source": [
    "def distanceP(p0, p1, p):\n",
    "    t = 1 - P0\n",
    "    l = (T ** 2).sum(axis=1)\n",
    "    u = -((p0[:,0]-p[..., 0])*T[:, 0] + (p0[:, 1]-p[..., 1])*t[:, 1]) / l\n",
    "    u = u.reshape(len(U), 1)\n",
    "    d = p0 + u*u - p\n",
    "    return nmp.sqrt((d**2).sum(axis=1))"
   ]
  },
  {
   "cell_type": "markdown",
   "id": "e5e7f323",
   "metadata": {},
   "source": [
    "#### 79. Consider 2 sets of points P0,P1 describing lines (2d) and a set of points P, how to compute distance from each point j (P[j]) to each line i (P0[i],P1[i])? (★★★)"
   ]
  },
  {
   "cell_type": "code",
   "execution_count": null,
   "id": "d0ce77e2",
   "metadata": {},
   "outputs": [],
   "source": [
    "def distanceP(p0, p1, p):\n",
    "    t = 1 - P0\n",
    "    l = (T ** 2).sum(axis=1)\n",
    "    u = -((p0[:,0]-p[..., 0])*T[:, 0] + (p0[:, 1]-p[..., 1])*t[:, 1]) / l\n",
    "    u = u.reshape(len(U), 1)\n",
    "    d = p0 + u*u - p\n",
    "    return nmp.sqrt((d**2).sum(axis=1))"
   ]
  },
  {
   "cell_type": "markdown",
   "id": "9b9d03eb",
   "metadata": {},
   "source": [
    "#### 80. Consider an arbitrary array, write a function that extract a subpart with a fixed shape and centered on a given element (pad with a `fill` value when necessary) (★★★)"
   ]
  },
  {
   "cell_type": "code",
   "execution_count": null,
   "id": "ec2b7ae3",
   "metadata": {},
   "outputs": [],
   "source": []
  },
  {
   "cell_type": "markdown",
   "id": "27794913",
   "metadata": {},
   "source": [
    "#### 81. Consider an array Z = [1,2,3,4,5,6,7,8,9,10,11,12,13,14], how to generate an array R = [[1,2,3,4], [2,3,4,5], [3,4,5,6], ..., [11,12,13,14]]? (★★★)"
   ]
  },
  {
   "cell_type": "code",
   "execution_count": 138,
   "id": "f3e7878b",
   "metadata": {},
   "outputs": [
    {
     "name": "stdout",
     "output_type": "stream",
     "text": [
      "[[ 1  2  3  4]\n",
      " [ 2  3  4  5]\n",
      " [ 3  4  5  6]\n",
      " [ 4  5  6  7]\n",
      " [ 5  6  7  8]\n",
      " [ 6  7  8  9]\n",
      " [ 7  8  9 10]\n",
      " [ 8  9 10 11]\n",
      " [ 9 10 11 12]\n",
      " [10 11 12 13]\n",
      " [11 12 13 14]]\n"
     ]
    }
   ],
   "source": [
    "from numpy.lib import stride_tricks\n",
    "arr = [1,2,3,4,5,6,7,8,9,10,11,12,13,14]\n",
    "\n",
    "r = stride_tricks.as_strided(arr,(11,4),(4,4))\n",
    "print(r)"
   ]
  },
  {
   "cell_type": "markdown",
   "id": "fae786f5",
   "metadata": {},
   "source": [
    "#### 82. Compute a matrix rank (★★★)"
   ]
  },
  {
   "cell_type": "code",
   "execution_count": 139,
   "id": "64b9615b",
   "metadata": {},
   "outputs": [
    {
     "name": "stdout",
     "output_type": "stream",
     "text": [
      "[[0.80507903 0.72683071 0.10572994 0.84963243 0.2409262  0.84127633]\n",
      " [0.73514263 0.63825509 0.20841173 0.45184943 0.04048476 0.79471933]\n",
      " [0.13969593 0.15291707 0.85868595 0.66168278 0.47690154 0.83185497]\n",
      " [0.11748448 0.05969943 0.60585475 0.06712643 0.52967888 0.14919489]\n",
      " [0.76206632 0.93538061 0.35716165 0.11150046 0.69911837 0.49359573]\n",
      " [0.66049194 0.45840708 0.68687377 0.1046348  0.5543094  0.66360581]]\n",
      "6\n"
     ]
    }
   ],
   "source": [
    "matrix = nmp.random.uniform(0,1,(6,6))\n",
    "print(matrix)\n",
    "\n",
    "u, s, v = nmp.linalg.svd(matrix)\n",
    "\n",
    "r = nmp.sum(s > 1e-10)\n",
    "print(r)"
   ]
  },
  {
   "cell_type": "markdown",
   "id": "c85aa0b9",
   "metadata": {},
   "source": [
    "#### 83. How to find the most frequent value in an array?"
   ]
  },
  {
   "cell_type": "code",
   "execution_count": 140,
   "id": "056be85b",
   "metadata": {},
   "outputs": [
    {
     "name": "stdout",
     "output_type": "stream",
     "text": [
      "2\n"
     ]
    }
   ],
   "source": [
    "arr = [1, 2 ,3, 5, 6, 5, 2, 2]\n",
    "print(nmp.bincount(arr).argmax())"
   ]
  },
  {
   "cell_type": "markdown",
   "id": "0ff2344d",
   "metadata": {},
   "source": [
    "#### 84. Extract all the contiguous 3x3 blocks from a random 10x10 matrix (★★★)"
   ]
  },
  {
   "cell_type": "code",
   "execution_count": 141,
   "id": "d58b1318",
   "metadata": {},
   "outputs": [
    {
     "name": "stdout",
     "output_type": "stream",
     "text": [
      "[[[[          1           1           1]\n",
      "   [          1           1           1]\n",
      "   [          1           1           1]]\n",
      "\n",
      "  [[          1           1           1]\n",
      "   [          1           1           1]\n",
      "   [          1           1           1]]\n",
      "\n",
      "  [[          1           1           1]\n",
      "   [          1           1           0]\n",
      "   [          1           1   879112806]]\n",
      "\n",
      "  [[          1           1           1]\n",
      "   [          1           0           0]\n",
      "   [          1   879112806  1647600225]]\n",
      "\n",
      "  [[          1           1           0]\n",
      "   [          0           0           0]\n",
      "   [  879112806  1647600225  -203860964]]\n",
      "\n",
      "  [[          1           0           1]\n",
      "   [          0           0           1]\n",
      "   [ 1647600225  -203860964 -1879046783]]\n",
      "\n",
      "  [[          0           1           0]\n",
      "   [          0           1           1]\n",
      "   [ -203860964 -1879046783 -1915216904]]\n",
      "\n",
      "  [[          1           0           0]\n",
      "   [          1           1           0]\n",
      "   [-1879046783 -1915216904       32764]]]\n",
      "\n",
      "\n",
      " [[[          1           1           1]\n",
      "   [          1           1           1]\n",
      "   [  824641136         472         100]]\n",
      "\n",
      "  [[          1           1           1]\n",
      "   [          1           1           1]\n",
      "   [        472         100           0]]\n",
      "\n",
      "  [[          1           1           0]\n",
      "   [          1           1   879112806]\n",
      "   [        100           0   824641136]]\n",
      "\n",
      "  [[          1           0           0]\n",
      "   [          1   879112806  1647600225]\n",
      "   [          0   824641136         472]]\n",
      "\n",
      "  [[          0           0           0]\n",
      "   [  879112806  1647600225  -203860964]\n",
      "   [  824641136         472         100]]\n",
      "\n",
      "  [[          0           0           1]\n",
      "   [ 1647600225  -203860964 -1879046783]\n",
      "   [        472         100     5242972]]\n",
      "\n",
      "  [[          0           1           1]\n",
      "   [ -203860964 -1879046783 -1915216904]\n",
      "   [        100     5242972   824641136]]\n",
      "\n",
      "  [[          1           1           0]\n",
      "   [-1879046783 -1915216904       32764]\n",
      "   [    5242972   824641136         472]]]\n",
      "\n",
      "\n",
      " [[[          1           1           1]\n",
      "   [  824641136         472         100]\n",
      "   [        101   842216242           0]]\n",
      "\n",
      "  [[          1           1           1]\n",
      "   [        472         100           0]\n",
      "   [  842216242           0           0]]\n",
      "\n",
      "  [[          1           1   879112806]\n",
      "   [        100           0   824641136]\n",
      "   [          0           0   824647536]]\n",
      "\n",
      "  [[          1   879112806  1647600225]\n",
      "   [          0   824641136         472]\n",
      "   [          0   824647536         472]]\n",
      "\n",
      "  [[  879112806  1647600225  -203860964]\n",
      "   [  824641136         472         100]\n",
      "   [  824647536         472   824647536]]\n",
      "\n",
      "  [[ 1647600225  -203860964 -1879046783]\n",
      "   [        472         100     5242972]\n",
      "   [        472   824647536         472]]\n",
      "\n",
      "  [[ -203860964 -1879046783 -1915216904]\n",
      "   [        100     5242972   824641136]\n",
      "   [  824647536         472   824647536]]\n",
      "\n",
      "  [[-1879046783 -1915216904       32764]\n",
      "   [    5242972   824641136         472]\n",
      "   [        472   824647536         472]]]\n",
      "\n",
      "\n",
      " [[[  824641136         472         100]\n",
      "   [        101   842216242           0]\n",
      "   [          0           0   875770929]]\n",
      "\n",
      "  [[        472         100           0]\n",
      "   [  842216242           0           0]\n",
      "   [          0   875770929   808597811]]\n",
      "\n",
      "  [[        100           0   824641136]\n",
      "   [          0           0   824647536]\n",
      "   [  875770929   808597811  -204450809]]\n",
      "\n",
      "  [[          0   824641136         472]\n",
      "   [          0   824647536         472]\n",
      "   [  808597811  -204450809 -2013264255]]\n",
      "\n",
      "  [[  824641136         472         100]\n",
      "   [  824647536         472   824647536]\n",
      "   [ -204450809 -2013264255  1018923024]]\n",
      "\n",
      "  [[        472         100     5242972]\n",
      "   [        472   824647536         472]\n",
      "   [-2013264255  1018923024       32764]]\n",
      "\n",
      "  [[        100     5242972   824641136]\n",
      "   [  824647536         472   824647536]\n",
      "   [ 1018923024       32764           0]]\n",
      "\n",
      "  [[    5242972   824641136         472]\n",
      "   [        472   824647536         472]\n",
      "   [      32764           0   268388225]]]\n",
      "\n",
      "\n",
      " [[[        101   842216242           0]\n",
      "   [          0           0   875770929]\n",
      "   [  813003792         472          26]]\n",
      "\n",
      "  [[  842216242           0           0]\n",
      "   [          0   875770929   808597811]\n",
      "   [        472          26           0]]\n",
      "\n",
      "  [[          0           0   824647536]\n",
      "   [  875770929   808597811  -204450809]\n",
      "   [         26           0          30]]\n",
      "\n",
      "  [[          0   824647536         472]\n",
      "   [  808597811  -204450809 -2013264255]\n",
      "   [          0          30           0]]\n",
      "\n",
      "  [[  824647536         472   824647536]\n",
      "   [ -204450809 -2013264255  1018923024]\n",
      "   [         30           0 -1345386867]]\n",
      "\n",
      "  [[        472   824647536         472]\n",
      "   [-2013264255  1018923024       32764]\n",
      "   [          0 -1345386867   268388225]]\n",
      "\n",
      "  [[  824647536         472   824647536]\n",
      "   [ 1018923024       32764           0]\n",
      "   [-1345386867   268388225   812316800]]\n",
      "\n",
      "  [[        472   824647536         472]\n",
      "   [      32764           0   268388225]\n",
      "   [  268388225   812316800         472]]]\n",
      "\n",
      "\n",
      " [[[          0           0   875770929]\n",
      "   [  813003792         472          26]\n",
      "   [         59           0          59]]\n",
      "\n",
      "  [[          0   875770929   808597811]\n",
      "   [        472          26           0]\n",
      "   [          0          59           0]]\n",
      "\n",
      "  [[  875770929   808597811  -204450809]\n",
      "   [         26           0          30]\n",
      "   [         59           0 -1373174131]]\n",
      "\n",
      "  [[  808597811  -204450809 -2013264255]\n",
      "   [          0          30           0]\n",
      "   [          0 -1373174131   268388225]]\n",
      "\n",
      "  [[ -204450809 -2013264255  1018923024]\n",
      "   [         30           0 -1345386867]\n",
      "   [-1373174131   268388225 -1373043199]]\n",
      "\n",
      "  [[-2013264255  1018923024       32764]\n",
      "   [          0 -1345386867   268388225]\n",
      "   [  268388225 -1373043199   268388225]]\n",
      "\n",
      "  [[ 1018923024       32764           0]\n",
      "   [-1345386867   268388225   812316800]\n",
      "   [-1373043199   268388225  1019256186]]\n",
      "\n",
      "  [[      32764           0   268388225]\n",
      "   [  268388225   812316800         472]\n",
      "   [  268388225  1019256186       32764]]]\n",
      "\n",
      "\n",
      " [[[  813003792         472          26]\n",
      "   [         59           0          59]\n",
      "   [-1372256767   268388225  -204778482]]\n",
      "\n",
      "  [[        472          26           0]\n",
      "   [          0          59           0]\n",
      "   [  268388225  -204778482 -2013263999]]\n",
      "\n",
      "  [[         26           0          30]\n",
      "   [         59           0 -1373174131]\n",
      "   [ -204778482 -2013263999  1018923024]]\n",
      "\n",
      "  [[          0          30           0]\n",
      "   [          0 -1373174131   268388225]\n",
      "   [-2013263999  1018923024       32764]]\n",
      "\n",
      "  [[         30           0 -1345386867]\n",
      "   [-1373174131   268388225 -1373043199]\n",
      "   [ 1018923024       32764           0]]\n",
      "\n",
      "  [[          0 -1345386867   268388225]\n",
      "   [  268388225 -1373043199   268388225]\n",
      "   [      32764           0   268388225]]\n",
      "\n",
      "  [[-1345386867   268388225   812316800]\n",
      "   [-1373043199   268388225  1019256186]\n",
      "   [          0   268388225   813004080]]\n",
      "\n",
      "  [[  268388225   812316800         472]\n",
      "   [  268388225  1019256186       32764]\n",
      "   [  268388225   813004080         472]]]\n",
      "\n",
      "\n",
      " [[[         59           0          59]\n",
      "   [-1372256767   268388225  -204778482]\n",
      "   [         30           0          30]]\n",
      "\n",
      "  [[          0          59           0]\n",
      "   [  268388225  -204778482 -2013263999]\n",
      "   [          0          30           0]]\n",
      "\n",
      "  [[         59           0 -1373174131]\n",
      "   [ -204778482 -2013263999  1018923024]\n",
      "   [         30           0 -1369241971]]\n",
      "\n",
      "  [[          0 -1373174131   268388225]\n",
      "   [-2013263999  1018923024       32764]\n",
      "   [          0 -1369241971   268388225]]\n",
      "\n",
      "  [[-1373174131   268388225 -1373043199]\n",
      "   [ 1018923024       32764           0]\n",
      "   [-1369241971   268388225   813003408]]\n",
      "\n",
      "  [[  268388225 -1373043199   268388225]\n",
      "   [      32764           0   268388225]\n",
      "   [  268388225   813003408         472]]\n",
      "\n",
      "  [[-1373043199   268388225  1019256186]\n",
      "   [          0   268388225   813004080]\n",
      "   [  813003408         472          36]]\n",
      "\n",
      "  [[  268388225  1019256186       32764]\n",
      "   [  268388225   813004080         472]\n",
      "   [        472          36           0]]]]\n"
     ]
    }
   ],
   "source": [
    "arr= nmp.random.randint(0,10,(10,10))\n",
    "i = 3\n",
    "a = 1 + (arr.shape[0]-3)\n",
    "b = 1 + (arr.shape[1]-3)\n",
    "rez = stride_tricks.as_strided(array, shape=(a, b, i, i), strides=arr.strides + arr.strides)\n",
    "print(rez)"
   ]
  },
  {
   "cell_type": "markdown",
   "id": "1a18b263",
   "metadata": {},
   "source": [
    "#### 85. Create a 2D array subclass such that Z[i,j] == Z[j,i] (★★★)"
   ]
  },
  {
   "cell_type": "code",
   "execution_count": null,
   "id": "87f17adc",
   "metadata": {},
   "outputs": [],
   "source": []
  },
  {
   "cell_type": "markdown",
   "id": "f85f2cad",
   "metadata": {},
   "source": [
    "#### 86. Consider a set of p matrices wich shape (n,n) and a set of p vectors with shape (n,1). How to compute the sum of of the p matrix products at once? (result has shape (n,1)) (★★★)"
   ]
  },
  {
   "cell_type": "code",
   "execution_count": 142,
   "id": "8d230557",
   "metadata": {},
   "outputs": [
    {
     "name": "stdout",
     "output_type": "stream",
     "text": [
      "[[150.]\n",
      " [150.]\n",
      " [150.]\n",
      " [150.]\n",
      " [150.]\n",
      " [150.]\n",
      " [150.]\n",
      " [150.]\n",
      " [150.]\n",
      " [150.]]\n"
     ]
    }
   ],
   "source": [
    "p = 15\n",
    "n = 10\n",
    "m = nmp.ones((p,n,n))\n",
    "v = nmp.ones((p,n,1))\n",
    "\n",
    "s = nmp.tensordot(m, v, axes=[[0, 2], [0, 1]])\n",
    "print(s)"
   ]
  },
  {
   "cell_type": "markdown",
   "id": "5afb72c8",
   "metadata": {},
   "source": [
    "#### 87. Consider a 16x16 array, how to get the block-sum (block size is 4x4)? (★★★)"
   ]
  },
  {
   "cell_type": "code",
   "execution_count": 146,
   "id": "e86f47a9",
   "metadata": {},
   "outputs": [],
   "source": [
    "arr = nmp.random.random((16,16))\n",
    "blockSum = nmp.add.reduceat(nmp.add.reduceat(arr, nmp.arange(0, arr.shape[0], 4), axis=0), nmp.arange(0, arr.shape[1], 4), axis=1)"
   ]
  },
  {
   "cell_type": "markdown",
   "id": "6094d37c",
   "metadata": {},
   "source": [
    "#### 88. How to implement the Game of Life using numpy arrays? (★★★)"
   ]
  },
  {
   "cell_type": "code",
   "execution_count": null,
   "id": "a93e715f",
   "metadata": {},
   "outputs": [],
   "source": [
    "\n"
   ]
  },
  {
   "cell_type": "markdown",
   "id": "a173cf96",
   "metadata": {},
   "source": [
    "#### 89. How to get the n largest values of an array (★★★)"
   ]
  },
  {
   "cell_type": "code",
   "execution_count": 148,
   "id": "b7c2ff35",
   "metadata": {},
   "outputs": [
    {
     "name": "stdout",
     "output_type": "stream",
     "text": [
      "[94 95 96 97 98 99]\n"
     ]
    }
   ],
   "source": [
    "\n",
    "arr = nmp.arange(100)\n",
    "\n",
    "n = 6\n",
    "\n",
    "print( arr[nmp.argsort(arr)[-n:]])"
   ]
  },
  {
   "cell_type": "markdown",
   "id": "15db2d01",
   "metadata": {},
   "source": [
    "#### 90. Given an arbitrary number of vectors, build the cartesian product (every combinations of every item) (★★★)"
   ]
  },
  {
   "cell_type": "code",
   "execution_count": 150,
   "id": "a9a4633d",
   "metadata": {},
   "outputs": [
    {
     "name": "stdout",
     "output_type": "stream",
     "text": [
      "[[1 4 6]\n",
      " [1 4 7]\n",
      " [1 5 6]\n",
      " [1 5 7]\n",
      " [2 4 6]\n",
      " [2 4 7]\n",
      " [2 5 6]\n",
      " [2 5 7]\n",
      " [3 4 6]\n",
      " [3 4 7]\n",
      " [3 5 6]\n",
      " [3 5 7]]\n"
     ]
    }
   ],
   "source": [
    "def buildCar(arrays):\n",
    "    array = [nmp.asarray(a) for a in arrays]\n",
    "    shape = (len(x) for x in arrays)\n",
    "    x = nmp.indices(shape, dtype=int)\n",
    "    x = ix.reshape(len(arrays), -1).T\n",
    "    return ix\n",
    "\n",
    "print (buildCar(([1, 5, 5], [5, 3], [7, 8])))"
   ]
  },
  {
   "cell_type": "markdown",
   "id": "5d94d1ef",
   "metadata": {},
   "source": [
    "#### 91. How to create a record array from a regular array? (★★★)"
   ]
  },
  {
   "cell_type": "code",
   "execution_count": 153,
   "id": "b1dae380",
   "metadata": {},
   "outputs": [
    {
     "name": "stdout",
     "output_type": "stream",
     "text": [
      "[(b'Test', 2.6, 4) (b'Test', 3.7, 4)]\n"
     ]
    }
   ],
   "source": [
    "regArray = nmp.array([(\"Test\", 2.6, 4),\n",
    "              (\"Test\", 3.7, 4)])\n",
    "rez = nmp.core.records.fromarrays(regArray.T,\n",
    "                               names='co1, co2, co3',\n",
    "                               formats = 'S8, f8, i8')\n",
    "print(rez)"
   ]
  },
  {
   "cell_type": "markdown",
   "id": "114ccc36",
   "metadata": {},
   "source": [
    "#### 92. Consider a large vector Z, compute Z to the power of 3 using 3 different methods (★★★)"
   ]
  },
  {
   "cell_type": "code",
   "execution_count": 154,
   "id": "877c65d6",
   "metadata": {},
   "outputs": [
    {
     "name": "stdout",
     "output_type": "stream",
     "text": [
      "8.1 µs ± 806 ns per loop (mean ± std. dev. of 7 runs, 100,000 loops each)\n",
      "1.25 µs ± 68.2 ns per loop (mean ± std. dev. of 7 runs, 1,000,000 loops each)\n",
      "4.39 µs ± 617 ns per loop (mean ± std. dev. of 7 runs, 100,000 loops each)\n"
     ]
    }
   ],
   "source": [
    "z = nmp.random.rand(56)\n",
    "print(%timeit z * z * z)\n",
    "print(%timeit nmp.power(z, 4))"
   ]
  },
  {
   "cell_type": "markdown",
   "id": "d614fee4",
   "metadata": {},
   "source": [
    "#### 93. Consider two arrays A and B of shape (8,3) and (2,2). How to find rows of A that contain elements of each row of B regardless of the order of the elements in B? (★★★)"
   ]
  },
  {
   "cell_type": "code",
   "execution_count": 155,
   "id": "e6807a84",
   "metadata": {},
   "outputs": [
    {
     "name": "stdout",
     "output_type": "stream",
     "text": [
      "[]\n"
     ]
    }
   ],
   "source": [
    "a = nmp.random.randint(0, 10, (8, 3))\n",
    "b = nmp.random.randint(0, 10, (2, 2))\n",
    "c = (a[..., nmp.newaxis, nmp.newaxis] == b)\n",
    "row = nmp.where(c.any((3,1)).all(1))[0]\n",
    "print(row)\n"
   ]
  },
  {
   "cell_type": "markdown",
   "id": "b0eedca6",
   "metadata": {},
   "source": [
    "#### 94. Considering a 10x3 matrix, extract rows with unequal values (e.g. [2,2,3]) (★★★)"
   ]
  },
  {
   "cell_type": "code",
   "execution_count": 156,
   "id": "fc136ce2",
   "metadata": {},
   "outputs": [
    {
     "name": "stdout",
     "output_type": "stream",
     "text": [
      "[[0 4 2]\n",
      " [2 4 2]\n",
      " [0 0 1]\n",
      " [1 0 0]\n",
      " [0 4 3]\n",
      " [3 2 3]\n",
      " [1 1 1]\n",
      " [1 1 2]\n",
      " [4 1 2]\n",
      " [1 2 0]]\n",
      "[[0 4 2]\n",
      " [2 4 2]\n",
      " [0 0 1]\n",
      " [1 0 0]\n",
      " [0 4 3]\n",
      " [3 2 3]\n",
      " [1 1 2]\n",
      " [4 1 2]\n",
      " [1 2 0]]\n"
     ]
    }
   ],
   "source": [
    "arr = nmp.random.randint(0, 10, (10, 3))\n",
    "rez = array[array.max(axis = 1) != array.min(axis = 1),:]\n",
    "print(rez)"
   ]
  },
  {
   "cell_type": "markdown",
   "id": "a65ec1cf",
   "metadata": {},
   "source": [
    "#### 95. Convert a vector of ints into a matrix binary representation (★★★)"
   ]
  },
  {
   "cell_type": "code",
   "execution_count": null,
   "id": "323cdf4c",
   "metadata": {},
   "outputs": [],
   "source": []
  },
  {
   "cell_type": "markdown",
   "id": "75b9397f",
   "metadata": {},
   "source": [
    "#### 96. Given a two dimensional array, how to extract unique rows? (★★★)"
   ]
  },
  {
   "cell_type": "code",
   "execution_count": 159,
   "id": "9bb56a47",
   "metadata": {},
   "outputs": [
    {
     "name": "stdout",
     "output_type": "stream",
     "text": [
      "[[3 4 0 4]\n",
      " [0 2 4 3]\n",
      " [2 0 4 1]\n",
      " [3 0 0 0]\n",
      " [4 0 1 1]\n",
      " [4 0 4 0]\n",
      " [3 0 0 2]\n",
      " [3 0 0 0]\n",
      " [4 3 0 4]]\n",
      "[[0 2 4 3]\n",
      " [2 0 4 1]\n",
      " [3 0 0 0]\n",
      " [3 0 0 2]\n",
      " [3 4 0 4]\n",
      " [4 0 1 1]\n",
      " [4 0 4 0]\n",
      " [4 3 0 4]]\n"
     ]
    }
   ],
   "source": [
    "arr = nmp.random.randint(0,5,(9,4))\n",
    "print(arr)\n",
    "\n",
    "rez = nmp.unique(arr, axis=0)\n",
    "print(rez)"
   ]
  },
  {
   "cell_type": "markdown",
   "id": "82aaf21b",
   "metadata": {},
   "source": [
    "#### 97. Considering 2 vectors A & B, write the einsum equivalent of inner, outer, sum, and mul function (★★★)"
   ]
  },
  {
   "cell_type": "code",
   "execution_count": 160,
   "id": "cedcefd9",
   "metadata": {},
   "outputs": [
    {
     "data": {
      "text/plain": "array([[0.07688537, 0.15556958, 0.25717813, 0.39077809, 0.27349733],\n       [0.07811948, 0.15806667, 0.26130616, 0.39705057, 0.2778873 ],\n       [0.05917437, 0.11973319, 0.1979356 , 0.30076001, 0.21049557],\n       [0.09410305, 0.19040776, 0.31477048, 0.47828876, 0.3347442 ],\n       [0.01032173, 0.02088494, 0.03452571, 0.05246127, 0.03671654]])"
     },
     "execution_count": 160,
     "metadata": {},
     "output_type": "execute_result"
    }
   ],
   "source": [
    "\n",
    "a =nmp.random.uniform(1,2,5)\n",
    "b =nmp.random.uniform(1,2,5)\n",
    "nmp.einsum('i,i', a, b)\n",
    "nmp.einsum('i,j->ij', a, b)\n",
    "nmp.einsum('i->', a)\n",
    "nmp.einsum('i,i->i', a, b)"
   ]
  },
  {
   "cell_type": "markdown",
   "id": "7741e17f",
   "metadata": {},
   "source": [
    "#### 98. Considering a path described by two vectors (X,Y), how to sample it using equidistant samples (★★★)?"
   ]
  },
  {
   "cell_type": "code",
   "execution_count": 161,
   "id": "0b2432fe",
   "metadata": {},
   "outputs": [],
   "source": [
    "\n"
   ]
  },
  {
   "cell_type": "markdown",
   "id": "340d6f36",
   "metadata": {},
   "source": [
    "#### 99. Given an integer n and a 2D array X, select from X the rows which can be interpreted as draws from a multinomial distribution with n degrees, i.e., the rows which only contain integers and which sum to n. (★★★)"
   ]
  },
  {
   "cell_type": "code",
   "execution_count": 162,
   "outputs": [
    {
     "name": "stdout",
     "output_type": "stream",
     "text": [
      "[[2. 0. 1. 1.]]\n"
     ]
    }
   ],
   "source": [
    "arr = nmp.asarray([[2, 5, 3, 9],[2, 1, 5, 4],[7, 8, 9, 3]])\n",
    "k = 4\n",
    "mout = nmp.logical_and.reduce(nmp.mod(arr, 1) == 0, axis=-1)\n",
    "mout &= (arr.sum(axis=-1) == k)\n",
    "print(arr[mout])"
   ],
   "metadata": {
    "collapsed": false
   }
  },
  {
   "cell_type": "markdown",
   "id": "19721849",
   "metadata": {},
   "source": [
    "#### 100. Compute bootstrapped 95% confidence intervals for the mean of a 1D array X (i.e., resample the elements of an array with replacement N times, compute the mean of each sample, and then compute percentiles over the means). (★★★)"
   ]
  },
  {
   "cell_type": "code",
   "execution_count": 163,
   "id": "87309c6f",
   "metadata": {},
   "outputs": [
    {
     "name": "stdout",
     "output_type": "stream",
     "text": [
      "[-0.35330984  0.05483382]\n"
     ]
    }
   ],
   "source": [
    "arr = nmp.random(110)\n",
    "smpl = 150\n",
    "\n",
    "id = nmp.random.randint(0, arr.size, (smpl, arr.size))\n",
    "means = arr[id].mean(axis=1)\n",
    "\n",
    "coef = nmp.percentile(means, [2, 95.5])\n",
    "print(coef)"
   ]
  },
  {
   "cell_type": "code",
   "execution_count": null,
   "outputs": [],
   "source": [],
   "metadata": {
    "collapsed": false,
    "pycharm": {
     "is_executing": true
    }
   }
  },
  {
   "cell_type": "code",
   "execution_count": 163,
   "outputs": [],
   "source": [],
   "metadata": {
    "collapsed": false
   }
  }
 ],
 "metadata": {
  "kernelspec": {
   "display_name": "Python 3 (ipykernel)",
   "language": "python",
   "name": "python3"
  },
  "language_info": {
   "codemirror_mode": {
    "name": "ipython",
    "version": 3
   },
   "file_extension": ".py",
   "mimetype": "text/x-python",
   "name": "python",
   "nbconvert_exporter": "python",
   "pygments_lexer": "ipython3",
   "version": "3.9.12"
  }
 },
 "nbformat": 4,
 "nbformat_minor": 5
}
