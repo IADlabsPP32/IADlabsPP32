{
 "cells": [
  {
   "cell_type": "code",
   "execution_count": 1,
   "id": "548597f2",
   "metadata": {},
   "outputs": [
    {
     "name": "stdout",
     "output_type": "stream",
     "text": [
      "1.23.4\n",
      "openblas64__info:\n",
      "    library_dirs = ['D:\\\\a\\\\numpy\\\\numpy\\\\build\\\\openblas64__info']\n",
      "    libraries = ['openblas64__info']\n",
      "    language = f77\n",
      "    define_macros = [('HAVE_CBLAS', None), ('BLAS_SYMBOL_SUFFIX', '64_'), ('HAVE_BLAS_ILP64', None)]\n",
      "blas_ilp64_opt_info:\n",
      "    library_dirs = ['D:\\\\a\\\\numpy\\\\numpy\\\\build\\\\openblas64__info']\n",
      "    libraries = ['openblas64__info']\n",
      "    language = f77\n",
      "    define_macros = [('HAVE_CBLAS', None), ('BLAS_SYMBOL_SUFFIX', '64_'), ('HAVE_BLAS_ILP64', None)]\n",
      "openblas64__lapack_info:\n",
      "    library_dirs = ['D:\\\\a\\\\numpy\\\\numpy\\\\build\\\\openblas64__lapack_info']\n",
      "    libraries = ['openblas64__lapack_info']\n",
      "    language = f77\n",
      "    define_macros = [('HAVE_CBLAS', None), ('BLAS_SYMBOL_SUFFIX', '64_'), ('HAVE_BLAS_ILP64', None), ('HAVE_LAPACKE', None)]\n",
      "lapack_ilp64_opt_info:\n",
      "    library_dirs = ['D:\\\\a\\\\numpy\\\\numpy\\\\build\\\\openblas64__lapack_info']\n",
      "    libraries = ['openblas64__lapack_info']\n",
      "    language = f77\n",
      "    define_macros = [('HAVE_CBLAS', None), ('BLAS_SYMBOL_SUFFIX', '64_'), ('HAVE_BLAS_ILP64', None), ('HAVE_LAPACKE', None)]\n",
      "Supported SIMD extensions in this NumPy install:\n",
      "    baseline = SSE,SSE2,SSE3\n",
      "    found = SSSE3,SSE41,POPCNT,SSE42,AVX,F16C,FMA3,AVX2,AVX512F,AVX512CD,AVX512_SKX,AVX512_CLX,AVX512_CNL,AVX512_ICL\n",
      "    not found = \n"
     ]
    }
   ],
   "source": [
    "import numpy as np\n",
    "print(np.__version__)\n",
    "np.show_config()"
   ]
  },
  {
   "cell_type": "code",
   "execution_count": 9,
   "id": "ec0c7b2c",
   "metadata": {},
   "outputs": [
    {
     "name": "stdout",
     "output_type": "stream",
     "text": [
      "[0. 0. 0. 0. 0. 0. 0. 0. 0. 0.]\n",
      "80 bytes\n"
     ]
    }
   ],
   "source": [
    "#3-4\n",
    "vector0=np.zeros(10)\n",
    "print(vector0)\n",
    "print(\"%d bytes\" % (vector0.size * vector0.itemsize))"
   ]
  },
  {
   "cell_type": "code",
   "execution_count": 10,
   "id": "d8c1930e",
   "metadata": {},
   "outputs": [
    {
     "name": "stdout",
     "output_type": "stream",
     "text": [
      "add(x1, x2, /, out=None, *, where=True, casting='same_kind', order='K', dtype=None, subok=True[, signature, extobj])\n",
      "\n",
      "Add arguments element-wise.\n",
      "\n",
      "Parameters\n",
      "----------\n",
      "x1, x2 : array_like\n",
      "    The arrays to be added.\n",
      "    If ``x1.shape != x2.shape``, they must be broadcastable to a common\n",
      "    shape (which becomes the shape of the output).\n",
      "out : ndarray, None, or tuple of ndarray and None, optional\n",
      "    A location into which the result is stored. If provided, it must have\n",
      "    a shape that the inputs broadcast to. If not provided or None,\n",
      "    a freshly-allocated array is returned. A tuple (possible only as a\n",
      "    keyword argument) must have length equal to the number of outputs.\n",
      "where : array_like, optional\n",
      "    This condition is broadcast over the input. At locations where the\n",
      "    condition is True, the `out` array will be set to the ufunc result.\n",
      "    Elsewhere, the `out` array will retain its original value.\n",
      "    Note that if an uninitialized `out` array is created via the default\n",
      "    ``out=None``, locations within it where the condition is False will\n",
      "    remain uninitialized.\n",
      "**kwargs\n",
      "    For other keyword-only arguments, see the\n",
      "    :ref:`ufunc docs <ufuncs.kwargs>`.\n",
      "\n",
      "Returns\n",
      "-------\n",
      "add : ndarray or scalar\n",
      "    The sum of `x1` and `x2`, element-wise.\n",
      "    This is a scalar if both `x1` and `x2` are scalars.\n",
      "\n",
      "Notes\n",
      "-----\n",
      "Equivalent to `x1` + `x2` in terms of array broadcasting.\n",
      "\n",
      "Examples\n",
      "--------\n",
      ">>> np.add(1.0, 4.0)\n",
      "5.0\n",
      ">>> x1 = np.arange(9.0).reshape((3, 3))\n",
      ">>> x2 = np.arange(3.0)\n",
      ">>> np.add(x1, x2)\n",
      "array([[  0.,   2.,   4.],\n",
      "       [  3.,   5.,   7.],\n",
      "       [  6.,   8.,  10.]])\n",
      "\n",
      "The ``+`` operator can be used as a shorthand for ``np.add`` on ndarrays.\n",
      "\n",
      ">>> x1 = np.arange(9.0).reshape((3, 3))\n",
      ">>> x2 = np.arange(3.0)\n",
      ">>> x1 + x2\n",
      "array([[ 0.,  2.,  4.],\n",
      "       [ 3.,  5.,  7.],\n",
      "       [ 6.,  8., 10.]])\n"
     ]
    }
   ],
   "source": [
    "#5\n",
    "np.info(np.add)"
   ]
  },
  {
   "cell_type": "code",
   "execution_count": 11,
   "id": "7db8ae3b",
   "metadata": {},
   "outputs": [
    {
     "name": "stdout",
     "output_type": "stream",
     "text": [
      "[0. 0. 0. 0. 1. 0. 0. 0. 0. 0.]\n"
     ]
    }
   ],
   "source": [
    "#6\n",
    "vector0 = np.zeros(10)\n",
    "vector0[4] = 1\n",
    "print(vector0)"
   ]
  },
  {
   "cell_type": "code",
   "execution_count": 12,
   "id": "6d44139c",
   "metadata": {},
   "outputs": [
    {
     "name": "stdout",
     "output_type": "stream",
     "text": [
      "[10 11 12 13 14 15 16 17 18 19 20 21 22 23 24 25 26 27 28 29 30 31 32 33\n",
      " 34 35 36 37 38 39 40 41 42 43 44 45 46 47 48 49]\n"
     ]
    }
   ],
   "source": [
    "#7\n",
    "vector0 = np.arange(10,50)\n",
    "print(vector0)"
   ]
  },
  {
   "cell_type": "code",
   "execution_count": 13,
   "id": "ee2f726e",
   "metadata": {},
   "outputs": [
    {
     "name": "stdout",
     "output_type": "stream",
     "text": [
      "[10 11 12 13 14 15 16 17 18 19 20 21 22 23 24 25 26 27 28 29 30 31 32 33\n",
      " 34 35 36 37 38 39 40 41 42 43 44 45 46 47 48 49]\n"
     ]
    }
   ],
   "source": [
    "#8\n",
    "np.flip(vector0)\n",
    "print(vector0)"
   ]
  },
  {
   "cell_type": "code",
   "execution_count": 16,
   "id": "4c1c783b",
   "metadata": {},
   "outputs": [
    {
     "name": "stdout",
     "output_type": "stream",
     "text": [
      "[[0 1 2]\n",
      " [3 4 5]\n",
      " [6 7 8]]\n"
     ]
    }
   ],
   "source": [
    "#9\n",
    "matrix = np.arange(9).reshape(3,3)\n",
    "print(matrix)"
   ]
  },
  {
   "cell_type": "code",
   "execution_count": 17,
   "id": "5b2b7948",
   "metadata": {},
   "outputs": [
    {
     "name": "stdout",
     "output_type": "stream",
     "text": [
      "(array([0, 1, 4], dtype=int64),)\n"
     ]
    }
   ],
   "source": [
    "#10\n",
    "non_zero_array = np.nonzero([1,2,0,0,4,0])\n",
    "print(non_zero_array)"
   ]
  },
  {
   "cell_type": "code",
   "execution_count": 19,
   "id": "038070e3",
   "metadata": {},
   "outputs": [
    {
     "name": "stdout",
     "output_type": "stream",
     "text": [
      "[[1. 0. 0.]\n",
      " [0. 1. 0.]\n",
      " [0. 0. 1.]]\n"
     ]
    }
   ],
   "source": [
    "#11\n",
    "matrix = np.identity(3)\n",
    "print(matrix)"
   ]
  },
  {
   "cell_type": "code",
   "execution_count": 20,
   "id": "9aebb42f",
   "metadata": {},
   "outputs": [
    {
     "name": "stdout",
     "output_type": "stream",
     "text": [
      "[[[0.31211832 0.09988259 0.17808562]\n",
      "  [0.87343601 0.68739669 0.27345812]\n",
      "  [0.55889111 0.47972516 0.75976584]]\n",
      "\n",
      " [[0.85652068 0.7160108  0.6111867 ]\n",
      "  [0.69423422 0.82831623 0.78846367]\n",
      "  [0.43385045 0.90918304 0.31142587]]\n",
      "\n",
      " [[0.14928012 0.69562173 0.08543542]\n",
      "  [0.67823982 0.97768609 0.9896729 ]\n",
      "  [0.8683347  0.16269223 0.22892216]]]\n"
     ]
    }
   ],
   "source": [
    "#12\n",
    "matrix = np.random.random((3,3,3))\n",
    "print(matrix)"
   ]
  },
  {
   "cell_type": "code",
   "execution_count": 28,
   "id": "7912a20d",
   "metadata": {},
   "outputs": [
    {
     "name": "stdout",
     "output_type": "stream",
     "text": [
      "min:  0.002929038018836261 \n",
      "max:  0.9994101909269258\n"
     ]
    }
   ],
   "source": [
    "#13\n",
    "matrix = np.random.random((10,10))\n",
    "min = matrix.min()\n",
    "max = matrix.max()\n",
    "print(\"min: \",min, \"\\nmax: \",max)"
   ]
  },
  {
   "cell_type": "code",
   "execution_count": 30,
   "id": "ff0203d0",
   "metadata": {},
   "outputs": [
    {
     "name": "stdout",
     "output_type": "stream",
     "text": [
      "0.5083564137413642\n"
     ]
    }
   ],
   "source": [
    "#14\n",
    "vector_random = np.random.random(30)\n",
    "print(vector_random.mean())"
   ]
  },
  {
   "cell_type": "code",
   "execution_count": 36,
   "id": "e3a80000",
   "metadata": {},
   "outputs": [
    {
     "name": "stdout",
     "output_type": "stream",
     "text": [
      "[[1. 1. 1. 1. 1. 1. 1. 1. 1. 1.]\n",
      " [1. 0. 0. 0. 0. 0. 0. 0. 0. 1.]\n",
      " [1. 0. 0. 0. 0. 0. 0. 0. 0. 1.]\n",
      " [1. 0. 0. 0. 0. 0. 0. 0. 0. 1.]\n",
      " [1. 0. 0. 0. 0. 0. 0. 0. 0. 1.]\n",
      " [1. 0. 0. 0. 0. 0. 0. 0. 0. 1.]\n",
      " [1. 0. 0. 0. 0. 0. 0. 0. 0. 1.]\n",
      " [1. 0. 0. 0. 0. 0. 0. 0. 0. 1.]\n",
      " [1. 0. 0. 0. 0. 0. 0. 0. 0. 1.]\n",
      " [1. 1. 1. 1. 1. 1. 1. 1. 1. 1.]]\n",
      "\n",
      "**************************************\n",
      "\n",
      "[[0. 0. 0. 0. 0.]\n",
      " [0. 1. 1. 1. 0.]\n",
      " [0. 1. 1. 1. 0.]\n",
      " [0. 1. 1. 1. 0.]\n",
      " [0. 0. 0. 0. 0.]]\n"
     ]
    }
   ],
   "source": [
    "#15-16\n",
    "array = np.ones((10,10))\n",
    "array[1:-1,1:-1] = 0\n",
    "print(array)\n",
    "print(\"\\n**************************************\\n\")\n",
    "array = np.ones((3,3))\n",
    "array = np.pad(array, pad_width=1, mode='constant', constant_values=0)\n",
    "print(array)"
   ]
  },
  {
   "cell_type": "code",
   "execution_count": 37,
   "id": "60f14f95",
   "metadata": {},
   "outputs": [
    {
     "name": "stdout",
     "output_type": "stream",
     "text": [
      "nan\n",
      "False\n",
      "False\n",
      "nan\n",
      "True\n",
      "False\n"
     ]
    }
   ],
   "source": [
    "#17\n",
    "print(0 * np.nan)\n",
    "print(np.nan == np.nan)\n",
    "print(np.inf > np.nan)\n",
    "print(np.nan - np.nan)\n",
    "print(np.nan in set([np.nan]))\n",
    "print(0.3 == 3 * 0.1)"
   ]
  },
  {
   "cell_type": "code",
   "execution_count": 40,
   "id": "d3debf3a",
   "metadata": {},
   "outputs": [
    {
     "name": "stdout",
     "output_type": "stream",
     "text": [
      "[[0 0 0 0 0]\n",
      " [1 0 0 0 0]\n",
      " [0 2 0 0 0]\n",
      " [0 0 3 0 0]\n",
      " [0 0 0 4 0]]\n"
     ]
    }
   ],
   "source": [
    "#18\n",
    "matrix = np.diag(1+np.arange(4),k=-1)\n",
    "print(matrix)"
   ]
  },
  {
   "cell_type": "code",
   "execution_count": 41,
   "id": "77d96222",
   "metadata": {},
   "outputs": [
    {
     "name": "stdout",
     "output_type": "stream",
     "text": [
      "[[0 1 0 1 0 1 0 1]\n",
      " [1 0 1 0 1 0 1 0]\n",
      " [0 1 0 1 0 1 0 1]\n",
      " [1 0 1 0 1 0 1 0]\n",
      " [0 1 0 1 0 1 0 1]\n",
      " [1 0 1 0 1 0 1 0]\n",
      " [0 1 0 1 0 1 0 1]\n",
      " [1 0 1 0 1 0 1 0]]\n"
     ]
    }
   ],
   "source": [
    "#19\n",
    "matrix = np.zeros((8,8),dtype=int)\n",
    "matrix[1::2,::2] = 1\n",
    "matrix[::2,1::2] = 1\n",
    "print(matrix)"
   ]
  },
  {
   "cell_type": "code",
   "execution_count": 42,
   "id": "b6df42b5",
   "metadata": {},
   "outputs": [
    {
     "name": "stdout",
     "output_type": "stream",
     "text": [
      "(1, 5, 4)\n"
     ]
    }
   ],
   "source": [
    "#20\n",
    "print(np.unravel_index(100,(6,7,8)))"
   ]
  },
  {
   "cell_type": "code",
   "execution_count": 44,
   "id": "1d9bb9be",
   "metadata": {},
   "outputs": [
    {
     "name": "stdout",
     "output_type": "stream",
     "text": [
      "[[0 1 0 1 0 1 0 1]\n",
      " [1 0 1 0 1 0 1 0]\n",
      " [0 1 0 1 0 1 0 1]\n",
      " [1 0 1 0 1 0 1 0]\n",
      " [0 1 0 1 0 1 0 1]\n",
      " [1 0 1 0 1 0 1 0]\n",
      " [0 1 0 1 0 1 0 1]\n",
      " [1 0 1 0 1 0 1 0]]\n"
     ]
    }
   ],
   "source": [
    "#21\n",
    "matrix = np.tile(np.array([[0,1],[1,0]]), (4,4))\n",
    "print(matrix)"
   ]
  },
  {
   "cell_type": "code",
   "execution_count": 46,
   "id": "4315b57a",
   "metadata": {},
   "outputs": [
    {
     "name": "stdout",
     "output_type": "stream",
     "text": [
      "[[-0.97828086 -1.30159855  0.57498166  1.07741887  1.35994327]\n",
      " [-1.03755921 -0.36398821 -0.58809658  1.17957822 -0.80460707]\n",
      " [ 0.8186603  -1.58207735  0.47207563 -1.1904659   0.79568865]\n",
      " [ 1.32954102  1.11695719 -0.16122438  0.8802217  -1.48880841]\n",
      " [ 0.93165749  0.09313978 -0.3769356  -1.52497906  0.76875742]]\n"
     ]
    }
   ],
   "source": [
    "#22\n",
    "matrix = np.random.random((5,5))\n",
    "matrix = (matrix - np.mean (matrix)) / (np.std (matrix))\n",
    "print(matrix)"
   ]
  },
  {
   "cell_type": "code",
   "execution_count": 47,
   "id": "68b428ab",
   "metadata": {},
   "outputs": [
    {
     "name": "stdout",
     "output_type": "stream",
     "text": [
      "[(220, 140, 20, 75)]\n"
     ]
    }
   ],
   "source": [
    "#23\n",
    "colorrgba = np.dtype({'names': ['r', 'g', 'b', 'a'], 'formats': [np.uint8, np.uint8, np.uint8, np.uint8]})\n",
    "color = np.array([(220, 140, 20, 75)], dtype = colorrgba)\n",
    "print(color)"
   ]
  },
  {
   "cell_type": "code",
   "execution_count": 48,
   "id": "dc25157c",
   "metadata": {},
   "outputs": [
    {
     "name": "stdout",
     "output_type": "stream",
     "text": [
      "[[3. 3.]\n",
      " [3. 3.]\n",
      " [3. 3.]\n",
      " [3. 3.]\n",
      " [3. 3.]]\n"
     ]
    }
   ],
   "source": [
    "#24\n",
    "matrix = np.dot(np.ones((5,3)), np.ones((3,2)))\n",
    "print(matrix)"
   ]
  },
  {
   "cell_type": "code",
   "execution_count": 49,
   "id": "53545287",
   "metadata": {},
   "outputs": [
    {
     "name": "stdout",
     "output_type": "stream",
     "text": [
      "[ 0  1  2  3 -4 -5 -6 -7 -8  9 10]\n"
     ]
    }
   ],
   "source": [
    "#25\n",
    "array = np.arange(11)\n",
    "array[(3 < array) & (array <= 8)] *= -1\n",
    "print(array)"
   ]
  },
  {
   "cell_type": "code",
   "execution_count": 1,
   "id": "d83b50b9",
   "metadata": {},
   "outputs": [
    {
     "name": "stdout",
     "output_type": "stream",
     "text": [
      "9\n",
      "10\n"
     ]
    }
   ],
   "source": [
    "#26\n",
    "# Author: Jake VanderPlas\n",
    "\n",
    "print(sum(range(5),-1))\n",
    "from numpy import *\n",
    "print(sum(range(5),-1))"
   ]
  },
  {
   "cell_type": "code",
   "execution_count": 7,
   "id": "3c1957b4",
   "metadata": {},
   "outputs": [
    {
     "name": "stdout",
     "output_type": "stream",
     "text": [
      "[         1          1          4         27        256       3125\n",
      "      46656     823543   16777216  387420489 1410065408]\n",
      "[  0   1   2   4   8  16  32  64 128 256 512]\n",
      "[False False False False False False False False False False False]\n",
      "[0. +0.j 0. +1.j 0. +2.j 0. +3.j 0. +4.j 0. +5.j 0. +6.j 0. +7.j 0. +8.j\n",
      " 0. +9.j 0.+10.j]\n",
      "[ 0.  1.  2.  3.  4.  5.  6.  7.  8.  9. 10.]\n"
     ]
    }
   ],
   "source": [
    "#27\n",
    "Z = np.arange(11)\n",
    "print(Z**Z)\n",
    "print(2 << Z >> 2)\n",
    "print(Z <- Z)\n",
    "print(1j*Z)\n",
    "print(Z/1/1)\n"
   ]
  },
  {
   "cell_type": "code",
   "execution_count": 11,
   "id": "a2c9a72e",
   "metadata": {},
   "outputs": [
    {
     "name": "stdout",
     "output_type": "stream",
     "text": [
      "nan\n",
      "0\n",
      "[-2.14748365e+09]\n"
     ]
    },
    {
     "name": "stderr",
     "output_type": "stream",
     "text": [
      "C:\\Users\\София\\AppData\\Local\\Temp\\ipykernel_16772\\195352166.py:2: RuntimeWarning: invalid value encountered in divide\n",
      "  print(np.array(0) / np.array(0))\n",
      "C:\\Users\\София\\AppData\\Local\\Temp\\ipykernel_16772\\195352166.py:3: RuntimeWarning: divide by zero encountered in floor_divide\n",
      "  print(np.array(0) // np.array(0))\n"
     ]
    }
   ],
   "source": [
    "#28\n",
    "print(np.array(0) / np.array(0))\n",
    "print(np.array(0) // np.array(0))\n",
    "print(np.array([np.nan]).astype(int).astype(float))"
   ]
  },
  {
   "cell_type": "code",
   "execution_count": 12,
   "id": "74810387",
   "metadata": {},
   "outputs": [
    {
     "name": "stdout",
     "output_type": "stream",
     "text": [
      "[-3. -6.  8. -5. -4. -2.  3.  8. -9.  9.]\n"
     ]
    }
   ],
   "source": [
    "#29\n",
    "array = np.random.uniform(-10,+10,10)\n",
    "print (np.copysign(np.ceil(np.abs(array)), array))"
   ]
  },
  {
   "cell_type": "code",
   "execution_count": 13,
   "id": "c5d46bd9",
   "metadata": {},
   "outputs": [
    {
     "name": "stdout",
     "output_type": "stream",
     "text": [
      "[0 1 4 5 9]\n"
     ]
    }
   ],
   "source": [
    "#30\n",
    "array1 = np.random.randint(0,10,10)\n",
    "array2 = np.random.randint(0,10,10)\n",
    "print(np.intersect1d(array1,array2))"
   ]
  },
  {
   "cell_type": "code",
   "execution_count": 14,
   "id": "e9f504ad",
   "metadata": {},
   "outputs": [],
   "source": [
    "#31\n",
    "defaults = np.seterr(all=\"ignore\")"
   ]
  },
  {
   "cell_type": "code",
   "execution_count": 15,
   "id": "8c23dc37",
   "metadata": {},
   "outputs": [
    {
     "data": {
      "text/plain": [
       "False"
      ]
     },
     "execution_count": 15,
     "metadata": {},
     "output_type": "execute_result"
    }
   ],
   "source": [
    "#32\n",
    "np.sqrt(-1) == np.emath.sqrt(-1)"
   ]
  },
  {
   "cell_type": "code",
   "execution_count": 16,
   "id": "c7d3e009",
   "metadata": {},
   "outputs": [
    {
     "name": "stdout",
     "output_type": "stream",
     "text": [
      "2022-11-10 2022-11-11 2022-11-12\n"
     ]
    }
   ],
   "source": [
    "#33\n",
    "yesterday = np.datetime64('today', 'D') - np.timedelta64(1, 'D')\n",
    "today     = np.datetime64('today', 'D')\n",
    "tomorrow  = np.datetime64('today', 'D') + np.timedelta64(1, 'D')\n",
    "print(yesterday, today, tomorrow)"
   ]
  },
  {
   "cell_type": "code",
   "execution_count": 18,
   "id": "6de4d407",
   "metadata": {},
   "outputs": [
    {
     "name": "stdout",
     "output_type": "stream",
     "text": [
      "['2016-07-01' '2016-07-02' '2016-07-03' '2016-07-04' '2016-07-05'\n",
      " '2016-07-06' '2016-07-07' '2016-07-08' '2016-07-09' '2016-07-10'\n",
      " '2016-07-11' '2016-07-12' '2016-07-13' '2016-07-14' '2016-07-15'\n",
      " '2016-07-16' '2016-07-17' '2016-07-18' '2016-07-19' '2016-07-20'\n",
      " '2016-07-21' '2016-07-22' '2016-07-23' '2016-07-24' '2016-07-25'\n",
      " '2016-07-26' '2016-07-27' '2016-07-28' '2016-07-29' '2016-07-30'\n",
      " '2016-07-31']\n"
     ]
    }
   ],
   "source": [
    "#34\n",
    "print(np.arange('2016-07', '2016-08', dtype='datetime64[D]'))"
   ]
  },
  {
   "cell_type": "code",
   "execution_count": 19,
   "id": "7f258a02",
   "metadata": {},
   "outputs": [
    {
     "data": {
      "text/plain": [
       "array([-1.5, -1.5, -1.5])"
      ]
     },
     "execution_count": 19,
     "metadata": {},
     "output_type": "execute_result"
    }
   ],
   "source": [
    "#35\n",
    "A = np.ones(3)*1\n",
    "B = np.ones(3)*2\n",
    "C = np.ones(3)*3\n",
    "np.add(A,B,out=B)\n",
    "np.divide(A,2,out=A)\n",
    "np.negative(A,out=A)\n",
    "np.multiply(A,B,out=A)"
   ]
  },
  {
   "cell_type": "code",
   "execution_count": 20,
   "id": "d1bbb0ad",
   "metadata": {},
   "outputs": [
    {
     "name": "stdout",
     "output_type": "stream",
     "text": [
      "[1. 0. 4. 0. 3. 5. 5. 1. 7. 4.]\n",
      "[1. 0. 4. 0. 3. 5. 5. 1. 7. 4.]\n",
      "[1. 0. 4. 0. 3. 5. 5. 1. 7. 4.]\n",
      "[1. 0. 4. 0. 3. 5. 5. 1. 7. 4.]\n"
     ]
    }
   ],
   "source": [
    "#36\n",
    "array = np.random.uniform(0,10,10)\n",
    "print (np.trunc(array))\n",
    "print (array - array%1)\n",
    "print (np.ceil(array)-1)\n",
    "print (np.floor(array))"
   ]
  },
  {
   "cell_type": "code",
   "execution_count": 21,
   "id": "1152b014",
   "metadata": {},
   "outputs": [
    {
     "name": "stdout",
     "output_type": "stream",
     "text": [
      "[[0. 1. 2. 3. 4.]\n",
      " [0. 1. 2. 3. 4.]\n",
      " [0. 1. 2. 3. 4.]\n",
      " [0. 1. 2. 3. 4.]\n",
      " [0. 1. 2. 3. 4.]]\n"
     ]
    }
   ],
   "source": [
    "#37\n",
    "matrix = np.zeros((5,5))\n",
    "matrix += np.arange(5)\n",
    "print(matrix)"
   ]
  },
  {
   "cell_type": "code",
   "execution_count": 22,
   "id": "f2d190a0",
   "metadata": {},
   "outputs": [
    {
     "name": "stdout",
     "output_type": "stream",
     "text": [
      "[0. 1. 2. 3. 4. 5. 6. 7. 8. 9.]\n"
     ]
    }
   ],
   "source": [
    "#38\n",
    "def generate():\n",
    "    for x in range(10):\n",
    "        yield x\n",
    "array = np.fromiter(generate(),dtype=float,count=-1)\n",
    "print(array)"
   ]
  },
  {
   "cell_type": "code",
   "execution_count": 23,
   "id": "6df56031",
   "metadata": {},
   "outputs": [
    {
     "name": "stdout",
     "output_type": "stream",
     "text": [
      "[0.09090909 0.18181818 0.27272727 0.36363636 0.45454545 0.54545455\n",
      " 0.63636364 0.72727273 0.81818182 0.90909091]\n"
     ]
    }
   ],
   "source": [
    "#39\n",
    "vector = np.linspace(0,1,11,endpoint=False)[1:]\n",
    "print(vector)"
   ]
  },
  {
   "cell_type": "code",
   "execution_count": 25,
   "id": "aecf9d95",
   "metadata": {},
   "outputs": [
    {
     "name": "stdout",
     "output_type": "stream",
     "text": [
      "[0.82692295 0.97463421 0.38727314 0.70296544 0.6010555  0.66838287\n",
      " 0.2486323  0.90672094 0.23753318 0.77719116]\n",
      "[0.23753318 0.2486323  0.38727314 0.6010555  0.66838287 0.70296544\n",
      " 0.77719116 0.82692295 0.90672094 0.97463421]\n"
     ]
    }
   ],
   "source": [
    "#40\n",
    "vector = np.random.random(10)\n",
    "print(vector)\n",
    "vector.sort()\n",
    "print(vector)"
   ]
  },
  {
   "cell_type": "code",
   "execution_count": 26,
   "id": "55a2cf99",
   "metadata": {},
   "outputs": [
    {
     "name": "stdout",
     "output_type": "stream",
     "text": [
      "45\n"
     ]
    }
   ],
   "source": [
    "#41\n",
    "print(np.add.reduce(np.arange(10)))"
   ]
  },
  {
   "cell_type": "code",
   "execution_count": 33,
   "id": "42a352ac",
   "metadata": {},
   "outputs": [
    {
     "name": "stdout",
     "output_type": "stream",
     "text": [
      "False\n",
      "False\n"
     ]
    }
   ],
   "source": [
    "#42\n",
    "A = np.random.randint(0,2,5)\n",
    "B = np.random.randint(0,2,5)\n",
    "\n",
    "equal = np.allclose(A,B)\n",
    "print(equal)\n",
    "\n",
    "equal = np.array_equal(A,B)\n",
    "print(equal)"
   ]
  },
  {
   "cell_type": "code",
   "execution_count": 38,
   "id": "179dfb13",
   "metadata": {},
   "outputs": [],
   "source": [
    "#43\n",
    "array = np.zeros(10)\n",
    "array.flags.writeable = False"
   ]
  },
  {
   "cell_type": "code",
   "execution_count": 40,
   "id": "eeaa078c",
   "metadata": {},
   "outputs": [
    {
     "name": "stdout",
     "output_type": "stream",
     "text": [
      "[0.9138121  0.67544496 0.93503694 0.82759936 0.86094934 0.25233022\n",
      " 0.71052322 1.16911819 0.89789979 0.84189716]\n",
      "[0.12239327 1.48061142 0.98486786 0.37958599 1.05354487 0.33662077\n",
      " 0.2025623  0.77982536 0.81868969 1.49972872]\n"
     ]
    }
   ],
   "source": [
    "#44\n",
    "array = np.random.random((10,2))\n",
    "X,Y = array[:,0], array[:,1]\n",
    "R = np.sqrt(X**2+Y**2)\n",
    "T = np.arctan2(Y,X)\n",
    "print(R)\n",
    "print(T)"
   ]
  },
  {
   "cell_type": "code",
   "execution_count": 41,
   "id": "782fa7a6",
   "metadata": {},
   "outputs": [
    {
     "name": "stdout",
     "output_type": "stream",
     "text": [
      "[0.06289902 0.54252615 0.86320188 0.91213477 0.29374082 0.\n",
      " 0.76018063 0.55256221 0.28913372 0.53076141]\n"
     ]
    }
   ],
   "source": [
    "#45\n",
    "vector = np.random.random(10)\n",
    "vector[vector.argmax()] = 0\n",
    "print(vector)"
   ]
  },
  {
   "cell_type": "code",
   "execution_count": 43,
   "id": "7da5c238",
   "metadata": {},
   "outputs": [
    {
     "name": "stdout",
     "output_type": "stream",
     "text": [
      "[[(0.  , 0.  ) (0.25, 0.  ) (0.5 , 0.  ) (0.75, 0.  ) (1.  , 0.  )]\n",
      " [(0.  , 0.25) (0.25, 0.25) (0.5 , 0.25) (0.75, 0.25) (1.  , 0.25)]\n",
      " [(0.  , 0.5 ) (0.25, 0.5 ) (0.5 , 0.5 ) (0.75, 0.5 ) (1.  , 0.5 )]\n",
      " [(0.  , 0.75) (0.25, 0.75) (0.5 , 0.75) (0.75, 0.75) (1.  , 0.75)]\n",
      " [(0.  , 1.  ) (0.25, 1.  ) (0.5 , 1.  ) (0.75, 1.  ) (1.  , 1.  )]]\n"
     ]
    }
   ],
   "source": [
    "#46\n",
    "array = np.zeros((5,5), [('x',float),('y',float)])\n",
    "array['x'], array['y'] = np.meshgrid(np.linspace(0,1,5), np.linspace(0,1,5))\n",
    "print(array)"
   ]
  },
  {
   "cell_type": "code",
   "execution_count": 44,
   "id": "1a5a138a",
   "metadata": {},
   "outputs": [
    {
     "name": "stdout",
     "output_type": "stream",
     "text": [
      "3638.1636371179666\n"
     ]
    }
   ],
   "source": [
    "#47\n",
    "X = np.arange(8)\n",
    "Y = X + 0.5\n",
    "C = 1.0 / np.subtract.outer(X, Y)\n",
    "print(np.linalg.det(C))"
   ]
  },
  {
   "cell_type": "code",
   "execution_count": 45,
   "id": "f4b96365",
   "metadata": {},
   "outputs": [
    {
     "name": "stdout",
     "output_type": "stream",
     "text": [
      "-128\n",
      "127\n",
      "-2147483648\n",
      "2147483647\n",
      "-9223372036854775808\n",
      "9223372036854775807\n",
      "-3.4028235e+38\n",
      "3.4028235e+38\n",
      "1.1920929e-07\n",
      "-1.7976931348623157e+308\n",
      "1.7976931348623157e+308\n",
      "2.220446049250313e-16\n"
     ]
    }
   ],
   "source": [
    "#48\n",
    "for dtype in [np.int8, np.int32, np.int64]:\n",
    "   print(np.iinfo(dtype).min)\n",
    "   print(np.iinfo(dtype).max)\n",
    "for dtype in [np.float32, np.float64]:\n",
    "   print(np.finfo(dtype).min)\n",
    "   print(np.finfo(dtype).max)\n",
    "   print(np.finfo(dtype).eps)"
   ]
  },
  {
   "cell_type": "code",
   "execution_count": 46,
   "id": "2e91db11",
   "metadata": {},
   "outputs": [
    {
     "name": "stdout",
     "output_type": "stream",
     "text": [
      "[[(0.  , 0.  ) (0.25, 0.  ) (0.5 , 0.  ) (0.75, 0.  ) (1.  , 0.  )]\n",
      " [(0.  , 0.25) (0.25, 0.25) (0.5 , 0.25) (0.75, 0.25) (1.  , 0.25)]\n",
      " [(0.  , 0.5 ) (0.25, 0.5 ) (0.5 , 0.5 ) (0.75, 0.5 ) (1.  , 0.5 )]\n",
      " [(0.  , 0.75) (0.25, 0.75) (0.5 , 0.75) (0.75, 0.75) (1.  , 0.75)]\n",
      " [(0.  , 1.  ) (0.25, 1.  ) (0.5 , 1.  ) (0.75, 1.  ) (1.  , 1.  )]]\n"
     ]
    }
   ],
   "source": [
    "#49\n",
    "print(array)"
   ]
  },
  {
   "cell_type": "code",
   "execution_count": 48,
   "id": "88adf1b6",
   "metadata": {},
   "outputs": [
    {
     "name": "stdout",
     "output_type": "stream",
     "text": [
      "63\n"
     ]
    }
   ],
   "source": [
    "#50\n",
    "array = np.arange(100)\n",
    "v = np.random.uniform(0,100)\n",
    "index = (np.abs(array-v)).argmin()\n",
    "print(array[index])"
   ]
  },
  {
   "cell_type": "code",
   "execution_count": 49,
   "id": "2b03113a",
   "metadata": {},
   "outputs": [
    {
     "name": "stdout",
     "output_type": "stream",
     "text": [
      "[((0., 0.), (0., 0., 0.)) ((0., 0.), (0., 0., 0.))\n",
      " ((0., 0.), (0., 0., 0.)) ((0., 0.), (0., 0., 0.))\n",
      " ((0., 0.), (0., 0., 0.)) ((0., 0.), (0., 0., 0.))\n",
      " ((0., 0.), (0., 0., 0.)) ((0., 0.), (0., 0., 0.))\n",
      " ((0., 0.), (0., 0., 0.)) ((0., 0.), (0., 0., 0.))]\n"
     ]
    },
    {
     "name": "stderr",
     "output_type": "stream",
     "text": [
      "C:\\Users\\София\\AppData\\Local\\Temp\\ipykernel_16772\\549271312.py:3: FutureWarning: Passing (type, 1) or '1type' as a synonym of type is deprecated; in a future version of numpy, it will be understood as (type, (1,)) / '(1,)type'.\n",
      "  array = np.zeros(10, [ ('position', [ ('x', float, 1),\n"
     ]
    }
   ],
   "source": [
    "#51\n",
    "\n",
    "array = np.zeros(10, [ ('position', [ ('x', float, 1),\n",
    "                                  ('y', float, 1)]),\n",
    "                   ('color',    [ ('r', float, 1),\n",
    "                                  ('g', float, 1),\n",
    "                                  ('b', float, 1)])])\n",
    "print(array)"
   ]
  },
  {
   "cell_type": "code",
   "execution_count": 50,
   "id": "8eedecb0",
   "metadata": {},
   "outputs": [
    {
     "name": "stdout",
     "output_type": "stream",
     "text": [
      "[[0.         0.60151299 0.89295745 ... 0.62722722 0.33831037 0.86861422]\n",
      " [0.60151299 0.         0.59578006 ... 0.77110733 0.81029022 0.60828698]\n",
      " [0.89295745 0.59578006 0.         ... 0.53540014 0.86781133 0.05074949]\n",
      " ...\n",
      " [0.62722722 0.77110733 0.53540014 ... 0.         0.41967776 0.48685504]\n",
      " [0.33831037 0.81029022 0.86781133 ... 0.41967776 0.         0.82829666]\n",
      " [0.86861422 0.60828698 0.05074949 ... 0.48685504 0.82829666 0.        ]]\n"
     ]
    }
   ],
   "source": [
    "#52\n",
    "vector = np.random.random((100,2))\n",
    "X,Y = np.atleast_2d(vector[:,0], vector[:,1])\n",
    "D = np.sqrt( (X-X.T)**2 + (Y-Y.T)**2)\n",
    "print(D)"
   ]
  },
  {
   "cell_type": "code",
   "execution_count": 51,
   "id": "622f0b3e",
   "metadata": {},
   "outputs": [
    {
     "name": "stdout",
     "output_type": "stream",
     "text": [
      "[0 1 2 3 4 5 6 7 8 9]\n"
     ]
    }
   ],
   "source": [
    "#53\n",
    "Z = np.arange(10, dtype=np.float32)\n",
    "Z = Z.astype(np.int32, copy=False)\n",
    "print(Z)"
   ]
  },
  {
   "cell_type": "code",
   "execution_count": 52,
   "id": "a2af95b9",
   "metadata": {},
   "outputs": [
    {
     "name": "stdout",
     "output_type": "stream",
     "text": [
      "[[ 1  2  3  4  5]\n",
      " [ 6 -1 -1  7  8]\n",
      " [-1 -1  9 10 11]]\n"
     ]
    },
    {
     "name": "stderr",
     "output_type": "stream",
     "text": [
      "C:\\Users\\София\\AppData\\Local\\Temp\\ipykernel_16772\\3387853947.py:6: DeprecationWarning: `np.int` is a deprecated alias for the builtin `int`. To silence this warning, use `int` by itself. Doing this will not modify any behavior and is safe. When replacing `np.int`, you may wish to use e.g. `np.int64` or `np.int32` to specify the precision. If you wish to review your current use, check the release note link for additional information.\n",
      "Deprecated in NumPy 1.20; for more details and guidance: https://numpy.org/devdocs/release/1.20.0-notes.html#deprecations\n",
      "  print(np.genfromtxt(string, delimiter=\",\", dtype=np.int))\n"
     ]
    }
   ],
   "source": [
    "#54\n",
    "from io import StringIO\n",
    "string = StringIO(\"\"\"1, 2, 3, 4, 5\\n\n",
    "                6,  ,  , 7, 8\\n\n",
    "                 ,  , 9,10,11\\n\"\"\")\n",
    "print(np.genfromtxt(string, delimiter=\",\", dtype=np.int))"
   ]
  },
  {
   "cell_type": "code",
   "execution_count": 53,
   "id": "1fbcfc2d",
   "metadata": {},
   "outputs": [
    {
     "name": "stdout",
     "output_type": "stream",
     "text": [
      "(0, 0) 0\n",
      "(0, 1) 1\n",
      "(0, 2) 2\n",
      "(1, 0) 3\n",
      "(1, 1) 4\n",
      "(1, 2) 5\n",
      "(2, 0) 6\n",
      "(2, 1) 7\n",
      "(2, 2) 8\n",
      "(0, 0) 0\n",
      "(0, 1) 1\n",
      "(0, 2) 2\n",
      "(1, 0) 3\n",
      "(1, 1) 4\n",
      "(1, 2) 5\n",
      "(2, 0) 6\n",
      "(2, 1) 7\n",
      "(2, 2) 8\n"
     ]
    }
   ],
   "source": [
    "#55\n",
    "Z = np.arange(9).reshape(3,3)\n",
    "for index, value in np.ndenumerate(Z):\n",
    "    print(index, value)\n",
    "for index in np.ndindex(Z.shape):\n",
    "    print(index, Z[index])"
   ]
  },
  {
   "cell_type": "code",
   "execution_count": 54,
   "id": "aa9ce87f",
   "metadata": {},
   "outputs": [
    {
     "name": "stdout",
     "output_type": "stream",
     "text": [
      "[[0.36787944 0.44822088 0.51979489 0.57375342 0.60279818 0.60279818\n",
      "  0.57375342 0.51979489 0.44822088 0.36787944]\n",
      " [0.44822088 0.54610814 0.63331324 0.69905581 0.73444367 0.73444367\n",
      "  0.69905581 0.63331324 0.54610814 0.44822088]\n",
      " [0.51979489 0.63331324 0.73444367 0.81068432 0.85172308 0.85172308\n",
      "  0.81068432 0.73444367 0.63331324 0.51979489]\n",
      " [0.57375342 0.69905581 0.81068432 0.89483932 0.9401382  0.9401382\n",
      "  0.89483932 0.81068432 0.69905581 0.57375342]\n",
      " [0.60279818 0.73444367 0.85172308 0.9401382  0.98773022 0.98773022\n",
      "  0.9401382  0.85172308 0.73444367 0.60279818]\n",
      " [0.60279818 0.73444367 0.85172308 0.9401382  0.98773022 0.98773022\n",
      "  0.9401382  0.85172308 0.73444367 0.60279818]\n",
      " [0.57375342 0.69905581 0.81068432 0.89483932 0.9401382  0.9401382\n",
      "  0.89483932 0.81068432 0.69905581 0.57375342]\n",
      " [0.51979489 0.63331324 0.73444367 0.81068432 0.85172308 0.85172308\n",
      "  0.81068432 0.73444367 0.63331324 0.51979489]\n",
      " [0.44822088 0.54610814 0.63331324 0.69905581 0.73444367 0.73444367\n",
      "  0.69905581 0.63331324 0.54610814 0.44822088]\n",
      " [0.36787944 0.44822088 0.51979489 0.57375342 0.60279818 0.60279818\n",
      "  0.57375342 0.51979489 0.44822088 0.36787944]]\n"
     ]
    }
   ],
   "source": [
    "#56\n",
    "X, Y = np.meshgrid(np.linspace(-1,1,10), np.linspace(-1,1,10))\n",
    "D = np.sqrt(X*X+Y*Y)\n",
    "sigma, mu = 1.0, 0.0\n",
    "print(np.exp(-( (D-mu)**2 / ( 2.0 * sigma**2 ) ) ))"
   ]
  },
  {
   "cell_type": "code",
   "execution_count": 56,
   "id": "317137c0",
   "metadata": {},
   "outputs": [
    {
     "name": "stdout",
     "output_type": "stream",
     "text": [
      "[[0. 0. 0. 0. 0. 0. 0. 0. 0. 0.]\n",
      " [0. 0. 0. 1. 0. 0. 0. 0. 0. 0.]\n",
      " [0. 0. 0. 0. 0. 0. 0. 0. 0. 0.]\n",
      " [0. 0. 0. 0. 0. 0. 0. 0. 0. 0.]\n",
      " [0. 0. 0. 0. 0. 0. 0. 0. 0. 0.]\n",
      " [0. 0. 0. 0. 0. 0. 0. 0. 0. 0.]\n",
      " [0. 0. 0. 0. 0. 0. 0. 0. 0. 0.]\n",
      " [0. 0. 0. 0. 0. 0. 0. 0. 0. 0.]\n",
      " [0. 0. 0. 1. 0. 0. 0. 0. 0. 0.]\n",
      " [0. 0. 0. 0. 0. 1. 0. 0. 0. 0.]]\n"
     ]
    }
   ],
   "source": [
    "#57\n",
    "n = 10\n",
    "p = 3\n",
    "array = np.zeros((n,n))\n",
    "np.put(array, np.random.choice(range(n*n), p, replace=False),1)\n",
    "print(array)"
   ]
  },
  {
   "cell_type": "code",
   "execution_count": 57,
   "id": "0eb516d7",
   "metadata": {},
   "outputs": [
    {
     "name": "stdout",
     "output_type": "stream",
     "text": [
      "[[-0.28266477  0.14593092  0.50004431 -0.22370464  0.18165975 -0.15639237\n",
      "   0.48416572  0.10905868 -0.39836123 -0.35973637]\n",
      " [ 0.15569221  0.33452483 -0.20984603 -0.16574269  0.22795168  0.14228391\n",
      "  -0.28986337 -0.27827626 -0.1154376   0.19871331]\n",
      " [ 0.10820237 -0.36689279 -0.26628603  0.52666745 -0.09551869  0.10658873\n",
      "  -0.21528954  0.18006102 -0.11829322  0.14076071]\n",
      " [-0.07700748 -0.3128527  -0.21256402  0.08575852 -0.04546977 -0.17237922\n",
      "   0.54219798  0.1756857  -0.22804236  0.24467337]\n",
      " [ 0.48407954  0.35812297  0.45824288 -0.20491058  0.02137648 -0.14946903\n",
      "  -0.33677179  0.02575587 -0.35514911 -0.30127723]]\n"
     ]
    }
   ],
   "source": [
    "#58\n",
    "X = np.random.rand(5, 10)\n",
    "Y = X - X.mean(axis=1).reshape(-1, 1)\n",
    "print(Y)"
   ]
  },
  {
   "cell_type": "code",
   "execution_count": 59,
   "id": "dd1e1e1b",
   "metadata": {},
   "outputs": [
    {
     "name": "stdout",
     "output_type": "stream",
     "text": [
      "[[6 6 5]\n",
      " [2 7 7]\n",
      " [9 2 2]]\n",
      "\n",
      "**************************************\n",
      "\n",
      "[[9 2 2]\n",
      " [6 6 5]\n",
      " [2 7 7]]\n"
     ]
    }
   ],
   "source": [
    "#59\n",
    "array = np.random.randint(0,10,(3,3))\n",
    "print(array)\n",
    "print(\"\\n**************************************\\n\")\n",
    "print(array[array[:,1].argsort()])"
   ]
  },
  {
   "cell_type": "code",
   "execution_count": 60,
   "id": "591543d3",
   "metadata": {},
   "outputs": [
    {
     "data": {
      "text/plain": [
       "False"
      ]
     },
     "execution_count": 60,
     "metadata": {},
     "output_type": "execute_result"
    }
   ],
   "source": [
    "#60\n",
    "array = np.random.randint(0,3,(3,3))\n",
    "~array.any(axis=0).any()"
   ]
  },
  {
   "cell_type": "code",
   "execution_count": 65,
   "id": "911baa9a",
   "metadata": {},
   "outputs": [
    {
     "name": "stdout",
     "output_type": "stream",
     "text": [
      "0.4978621091727584\n"
     ]
    }
   ],
   "source": [
    "#61\n",
    "array = np.random.uniform(0,1,20)\n",
    "n = 0.5\n",
    "print(array.flat[np.abs(array - n).argmin()])"
   ]
  },
  {
   "cell_type": "code",
   "execution_count": 2,
   "id": "c1e719c3",
   "metadata": {},
   "outputs": [
    {
     "name": "stdout",
     "output_type": "stream",
     "text": [
      "[[0 1 2]\n",
      " [1 2 3]\n",
      " [2 3 4]]\n"
     ]
    }
   ],
   "source": [
    "#62\n",
    "A = np.arange(3).reshape(3,1)\n",
    "B = np.arange(3).reshape(1,3)\n",
    "it = np.nditer([A,B,None])\n",
    "for x,y,z in it: z[...] = x + y\n",
    "print(it.operands[2])"
   ]
  },
  {
   "cell_type": "code",
   "execution_count": 3,
   "id": "2a8a5f93",
   "metadata": {},
   "outputs": [
    {
     "name": "stdout",
     "output_type": "stream",
     "text": [
      "range_5\n"
     ]
    }
   ],
   "source": [
    "#63\n",
    "class NamedArray(np.ndarray):\n",
    "    def __new__(cls, array, name=\"no name\"):\n",
    "        obj = np.asarray(array).view(cls)\n",
    "        obj.name = name\n",
    "        return obj\n",
    "    def __array_finalize__(self, obj):\n",
    "        if obj is None: return\n",
    "        self.info = getattr(obj, 'name', \"no name\")\n",
    "\n",
    "a = NamedArray(np.arange(5), \"range_5\")\n",
    "print (a.name)"
   ]
  },
  {
   "cell_type": "code",
   "execution_count": 4,
   "id": "9f0acd87",
   "metadata": {},
   "outputs": [
    {
     "name": "stdout",
     "output_type": "stream",
     "text": [
      "[1. 1. 1. 1. 1.]\n",
      "[1 1 3 0 3 2 3 1 4 2 1 1 1 3 3 3 3 1 4 2]\n",
      "[2. 8. 4. 8. 3.]\n"
     ]
    }
   ],
   "source": [
    "#64\n",
    "vector = np.ones(5)\n",
    "print(vector)\n",
    "I = np.random.randint(0,len(vector),20)\n",
    "print(I)\n",
    "np.add.at(vector, I, 1)\n",
    "print(vector)"
   ]
  },
  {
   "cell_type": "code",
   "execution_count": 5,
   "id": "dd6d1527",
   "metadata": {},
   "outputs": [
    {
     "name": "stdout",
     "output_type": "stream",
     "text": [
      "[0. 7. 0. 6. 5. 0. 0. 0. 0. 3.]\n"
     ]
    }
   ],
   "source": [
    "#65\n",
    "X = [1,2,3,4,5,6]\n",
    "I = [1,3,9,3,4,1]\n",
    "F = np.bincount(I,X)\n",
    "print(F)"
   ]
  },
  {
   "cell_type": "code",
   "execution_count": 7,
   "id": "875a0255",
   "metadata": {},
   "outputs": [
    {
     "name": "stdout",
     "output_type": "stream",
     "text": [
      "8\n"
     ]
    }
   ],
   "source": [
    "#66\n",
    "w,h = 16,16\n",
    "I = np.random.randint(0,2,(h,w,3)).astype(np.ubyte)\n",
    "F = I[...,0]*(256*256) + I[...,1]*256 +I[...,2]\n",
    "print(len(np.unique(F)))\n"
   ]
  },
  {
   "cell_type": "code",
   "execution_count": 8,
   "id": "a08a35c2",
   "metadata": {},
   "outputs": [
    {
     "name": "stdout",
     "output_type": "stream",
     "text": [
      "[[42 49 60 36]\n",
      " [54 38 69 62]\n",
      " [42 53 45 66]]\n"
     ]
    }
   ],
   "source": [
    "#67\n",
    "a = np.random.randint(0,10,(3,4,3,4))\n",
    "print(a.sum(axis=(-2,-1)))"
   ]
  },
  {
   "cell_type": "code",
   "execution_count": 10,
   "id": "7254b65b",
   "metadata": {},
   "outputs": [
    {
     "name": "stdout",
     "output_type": "stream",
     "text": [
      "[0.54422703 0.53066998 0.66127929 0.55684213 0.80832404 0.45315399\n",
      " 0.43758585 0.40748634 0.58618592 0.58085538]\n"
     ]
    }
   ],
   "source": [
    "#68\n",
    "D = np.random.uniform(0,1,100)\n",
    "S = np.random.randint(0,10,100)\n",
    "sums_of_d = np.bincount(S, weights=D)\n",
    "counts_of_d = np.bincount(S)\n",
    "means_of_d = sums_of_d / counts_of_d\n",
    "print(means_of_d)\n"
   ]
  },
  {
   "cell_type": "code",
   "execution_count": 11,
   "id": "344dea24",
   "metadata": {},
   "outputs": [
    {
     "name": "stdout",
     "output_type": "stream",
     "text": [
      "[0.42448214 1.12367973 0.50479385 1.36900908 1.29592559]\n"
     ]
    }
   ],
   "source": [
    "#69\n",
    "a = np.random.uniform(0,1,(5,5))\n",
    "b = np.random.uniform(0,1,(5,5))\n",
    "print(np.diag(np.dot(a, b)))"
   ]
  },
  {
   "cell_type": "code",
   "execution_count": 13,
   "id": "4a5c2e37",
   "metadata": {},
   "outputs": [
    {
     "name": "stdout",
     "output_type": "stream",
     "text": [
      "[1. 0. 0. 0. 2. 0. 0. 0. 3. 0. 0. 0. 4. 0. 0. 0. 5.]\n"
     ]
    }
   ],
   "source": [
    "#70\n",
    "vector = np.array([1,2,3,4,5])\n",
    "num = 3\n",
    "vector0 = np.zeros(len(vector) + (len(vector)-1)*(num))\n",
    "vector0[::num+1] = vector\n",
    "print(vector0)"
   ]
  },
  {
   "cell_type": "code",
   "execution_count": 14,
   "id": "ddd2e4c2",
   "metadata": {},
   "outputs": [
    {
     "name": "stdout",
     "output_type": "stream",
     "text": [
      "[[[2. 2. 2.]\n",
      "  [2. 2. 2.]\n",
      "  [2. 2. 2.]\n",
      "  [2. 2. 2.]\n",
      "  [2. 2. 2.]]\n",
      "\n",
      " [[2. 2. 2.]\n",
      "  [2. 2. 2.]\n",
      "  [2. 2. 2.]\n",
      "  [2. 2. 2.]\n",
      "  [2. 2. 2.]]\n",
      "\n",
      " [[2. 2. 2.]\n",
      "  [2. 2. 2.]\n",
      "  [2. 2. 2.]\n",
      "  [2. 2. 2.]\n",
      "  [2. 2. 2.]]\n",
      "\n",
      " [[2. 2. 2.]\n",
      "  [2. 2. 2.]\n",
      "  [2. 2. 2.]\n",
      "  [2. 2. 2.]\n",
      "  [2. 2. 2.]]\n",
      "\n",
      " [[2. 2. 2.]\n",
      "  [2. 2. 2.]\n",
      "  [2. 2. 2.]\n",
      "  [2. 2. 2.]\n",
      "  [2. 2. 2.]]]\n"
     ]
    }
   ],
   "source": [
    "#71\n",
    "array1 = np.ones((5,5,3))\n",
    "array2 = 2*np.ones((5,5))\n",
    "print(array1 * array2[:,:,None])"
   ]
  },
  {
   "cell_type": "code",
   "execution_count": 16,
   "id": "dc618382",
   "metadata": {},
   "outputs": [
    {
     "name": "stdout",
     "output_type": "stream",
     "text": [
      "[[ 0  1  2  3  4]\n",
      " [ 5  6  7  8  9]\n",
      " [10 11 12 13 14]\n",
      " [15 16 17 18 19]\n",
      " [20 21 22 23 24]]\n",
      "\n",
      "**************************************\n",
      "\n",
      "[[ 5  6  7  8  9]\n",
      " [ 0  1  2  3  4]\n",
      " [10 11 12 13 14]\n",
      " [15 16 17 18 19]\n",
      " [20 21 22 23 24]]\n"
     ]
    }
   ],
   "source": [
    "#72\n",
    "array = np.arange(25).reshape(5,5)\n",
    "print(array)\n",
    "print(\"\\n**************************************\\n\")\n",
    "array[[0,1]] = array[[1,0]]\n",
    "print(array)"
   ]
  },
  {
   "cell_type": "code",
   "execution_count": 17,
   "id": "6b2ca80d",
   "metadata": {},
   "outputs": [
    {
     "name": "stdout",
     "output_type": "stream",
     "text": [
      "[( 9, 46) ( 9, 50) (17, 19) (17, 61) (18, 20) (18, 25) (19, 61) (20, 25)\n",
      " (21, 44) (21, 76) (22, 31) (22, 39) (31, 39) (37, 56) (37, 58) (44, 76)\n",
      " (46, 50) (46, 60) (46, 79) (51, 56) (51, 89) (55, 57) (55, 59) (56, 58)\n",
      " (56, 89) (57, 59) (58, 68) (58, 85) (60, 79) (68, 85)]\n"
     ]
    }
   ],
   "source": [
    "#73\n",
    "faces = np.random.randint(0,100,(10,3))\n",
    "f = np.roll(faces.repeat(2,axis=1),-1,axis=1)\n",
    "f = f.reshape(len(f)*3,2)\n",
    "f = np.sort(f,axis=1)\n",
    "g = f.view( dtype=[('p0',f.dtype),('p1',f.dtype)] )\n",
    "g = np.unique(g)\n",
    "print(g)"
   ]
  },
  {
   "cell_type": "code",
   "execution_count": 18,
   "id": "0e5b9431",
   "metadata": {},
   "outputs": [
    {
     "name": "stdout",
     "output_type": "stream",
     "text": [
      "[1 1 2 3 4 4 6]\n"
     ]
    }
   ],
   "source": [
    "#74\n",
    "C = np.bincount([1,1,2,3,4,4,6])\n",
    "A = np.repeat(np.arange(len(C)), C)\n",
    "print(A)"
   ]
  },
  {
   "cell_type": "code",
   "execution_count": 19,
   "id": "e55ad55b",
   "metadata": {},
   "outputs": [
    {
     "name": "stdout",
     "output_type": "stream",
     "text": [
      "[ 1.  2.  3.  4.  5.  6.  7.  8.  9. 10. 11. 12. 13. 14. 15. 16. 17. 18.]\n"
     ]
    }
   ],
   "source": [
    "#75\n",
    "def moving_average(a, n=3) :\n",
    "    ret = np.cumsum(a, dtype=float)\n",
    "    ret[n:] = ret[n:] - ret[:-n]\n",
    "    return ret[n - 1:] / n\n",
    "Z = np.arange(20)\n",
    "print(moving_average(Z, n=3))"
   ]
  },
  {
   "cell_type": "code",
   "execution_count": 20,
   "id": "1a663955",
   "metadata": {},
   "outputs": [
    {
     "name": "stdout",
     "output_type": "stream",
     "text": [
      "[[0 1 2]\n",
      " [1 2 3]\n",
      " [2 3 4]\n",
      " [3 4 5]\n",
      " [4 5 6]\n",
      " [5 6 7]\n",
      " [6 7 8]\n",
      " [7 8 9]]\n"
     ]
    }
   ],
   "source": [
    "#76\n",
    "from numpy.lib import stride_tricks\n",
    "def rolling(a, window):\n",
    "    shape = (a.size - window + 1, window)\n",
    "    strides = (a.itemsize, a.itemsize)\n",
    "    return stride_tricks.as_strided(a, shape=shape, strides=strides)\n",
    "Z = rolling(np.arange(10), 3)\n",
    "print(Z)"
   ]
  },
  {
   "cell_type": "code",
   "execution_count": 21,
   "id": "36229581",
   "metadata": {},
   "outputs": [
    {
     "data": {
      "text/plain": [
       "array([-0.50945644,  0.25777247,  0.84734031, -0.6296838 ,  0.69052698,\n",
       "       -0.76465195, -0.14115025,  0.01922973, -0.08351274, -0.32793803,\n",
       "        0.82689922,  0.92577282,  0.93918621, -0.25005704, -0.68207571,\n",
       "        0.7027213 ,  0.56354458, -0.53897386,  0.06557902,  0.09536027,\n",
       "        0.28976377, -0.24221651, -0.63248813,  0.97071381,  0.62753163,\n",
       "        0.79257215, -0.25044751,  0.14401646,  0.30683101, -0.06524626,\n",
       "       -0.32264543,  0.66224313, -0.69410602,  0.89612104, -0.10376968,\n",
       "       -0.11747748, -0.28739255, -0.49840186,  0.54255922,  0.27273205,\n",
       "       -0.71136006,  0.14829546,  0.20048782,  0.63016793,  0.01748502,\n",
       "       -0.63527334,  0.35495926, -0.7327529 , -0.63922818,  0.58357848,\n",
       "       -0.60330058,  0.46444266,  0.48240119,  0.7129181 , -0.40710141,\n",
       "       -0.65248569,  0.94104106,  0.50162674,  0.11625359, -0.40481249,\n",
       "       -0.67103684, -0.93168407,  0.10942751,  0.11788758,  0.53183288,\n",
       "        0.89050671, -0.7736688 ,  0.25707023, -0.39814491, -0.04013933,\n",
       "       -0.49528169,  0.93095597, -0.76964531,  0.5266583 ,  0.6140744 ,\n",
       "       -0.32652967,  0.66298677,  0.2895116 , -0.30131602, -0.36418686,\n",
       "        0.3210936 ,  0.20518008, -0.58755351, -0.74494913, -0.66438048,\n",
       "       -0.89688156,  0.80252096, -0.38212658, -0.77728538,  0.27636056,\n",
       "        0.24385384,  0.2691619 , -0.15239715, -0.62835451, -0.95609084,\n",
       "       -0.15722104, -0.32519933, -0.86065652,  0.21542649, -0.4056487 ])"
      ]
     },
     "execution_count": 21,
     "metadata": {},
     "output_type": "execute_result"
    }
   ],
   "source": [
    "#77\n",
    "array = np.random.randint(0,2,100)\n",
    "np.logical_not(array, out=array)\n",
    "array = np.random.uniform(-1.0,1.0,100)\n",
    "np.negative(array, out=array)"
   ]
  },
  {
   "cell_type": "code",
   "execution_count": 22,
   "id": "e9f53772",
   "metadata": {},
   "outputs": [
    {
     "name": "stdout",
     "output_type": "stream",
     "text": [
      "[5.24727455 5.136495   3.31004881 4.89804645 4.52954698 0.60948034\n",
      " 2.89918407 2.88089513 9.16898132 4.99820648]\n"
     ]
    }
   ],
   "source": [
    "#78\n",
    "def distance(P0, P1, p):\n",
    "    T = P1 - P0\n",
    "    L = (T**2).sum(axis=1)\n",
    "    U = -((P0[:,0]-p[...,0])*T[:,0] + (P0[:,1]-p[...,1])*T[:,1]) / L\n",
    "    U = U.reshape(len(U),1)\n",
    "    D = P0 + U*T - p\n",
    "    return np.sqrt((D**2).sum(axis=1))\n",
    "\n",
    "P0 = np.random.uniform(-10,10,(10,2))\n",
    "P1 = np.random.uniform(-10,10,(10,2))\n",
    "p  = np.random.uniform(-10,10,( 1,2))\n",
    "print(distance(P0, P1, p))"
   ]
  },
  {
   "cell_type": "code",
   "execution_count": 23,
   "id": "9134a121",
   "metadata": {
    "scrolled": true
   },
   "outputs": [
    {
     "name": "stdout",
     "output_type": "stream",
     "text": [
      "[[10.27093442  3.06737318  3.22322536  4.59994343 12.7491369   9.25556704\n",
      "   2.85282808  3.45299493  6.6791557   7.15885096]\n",
      " [14.25485888  2.67420103  3.25583652  4.88930769 16.39787134 12.73641312\n",
      "   6.14467301  1.50533287  6.61689906 10.15256052]\n",
      " [ 1.88219164  0.19844495  7.72910849  0.98390444  2.62171845  5.04269419\n",
      "   5.46095176 14.11912025 11.50553399  0.23690337]\n",
      " [13.97320702  3.86016577 10.02167435  2.04003181 17.61423584  7.08241919\n",
      "   8.45164484  8.58655042 13.4351446  13.18949334]\n",
      " [14.27741427  4.0128432   1.87306435  6.3026604  16.11727653 13.86113581\n",
      "   5.64436582  0.07551319  5.22425159  9.50571689]\n",
      " [ 5.99114796 13.16105942  5.66513326 12.35608172  4.05189836  2.04266083\n",
      "  13.86957716  2.42109281  1.881078    9.26359696]\n",
      " [13.59274707  1.09143945  7.20165191  0.80781806 16.6521729   9.0007795\n",
      "   7.08025373  5.88264826 10.60516118 11.55153568]\n",
      " [ 2.04018316  6.0026279  13.34833839  6.4023137   7.43113684  6.07986989\n",
      "   0.12343782 17.93344801 17.06908792  5.86607359]\n",
      " [ 4.19644384  8.0782353   0.59075129  7.32153249  1.30602929  0.43207912\n",
      "  10.4880339   6.73449819  3.18473207  5.48641631]\n",
      " [11.37003136 10.09575287  4.12864629 12.19370687 12.1523266  16.09738303\n",
      "   0.99888065  4.63593958  0.74859146  4.45168834]]\n"
     ]
    }
   ],
   "source": [
    "#79\n",
    "P0 = np.random.uniform(-10, 10, (10,2))\n",
    "P1 = np.random.uniform(-10,10,(10,2))\n",
    "p = np.random.uniform(-10, 10, (10,2))\n",
    "print(np.array([distance(P0,P1,p_i) for p_i in p]))"
   ]
  },
  {
   "cell_type": "code",
   "execution_count": 25,
   "id": "fa3fcdd9",
   "metadata": {},
   "outputs": [
    {
     "name": "stdout",
     "output_type": "stream",
     "text": [
      "[[ 1  2  3  4]\n",
      " [ 2  3  4  5]\n",
      " [ 3  4  5  6]\n",
      " [ 4  5  6  7]\n",
      " [ 5  6  7  8]\n",
      " [ 6  7  8  9]\n",
      " [ 7  8  9 10]\n",
      " [ 8  9 10 11]\n",
      " [ 9 10 11 12]\n",
      " [10 11 12 13]\n",
      " [11 12 13 14]]\n"
     ]
    }
   ],
   "source": [
    "#81\n",
    "Z = np.arange(1,15,dtype=np.uint32)\n",
    "R = stride_tricks.as_strided(Z,(11,4),(4,4))\n",
    "print(R)"
   ]
  },
  {
   "cell_type": "code",
   "execution_count": 27,
   "id": "6e9b32c1",
   "metadata": {},
   "outputs": [
    {
     "name": "stdout",
     "output_type": "stream",
     "text": [
      "4\n"
     ]
    }
   ],
   "source": [
    "#82\n",
    "matrix = np.random.uniform(0,1,(4,4))\n",
    "u, s, v = np.linalg.svd(matrix)\n",
    "rank = np.sum(s > 1e-10)\n",
    "print(rank)"
   ]
  },
  {
   "cell_type": "code",
   "execution_count": 28,
   "id": "9a37af0d",
   "metadata": {},
   "outputs": [
    {
     "name": "stdout",
     "output_type": "stream",
     "text": [
      "2\n"
     ]
    }
   ],
   "source": [
    "#83\n",
    "array = np.random.randint(0,10,50)\n",
    "print(np.bincount(array).argmax())"
   ]
  },
  {
   "cell_type": "code",
   "execution_count": 30,
   "id": "0cf216b3",
   "metadata": {},
   "outputs": [
    {
     "name": "stdout",
     "output_type": "stream",
     "text": [
      "[[[[4 3 1]\n",
      "   [2 1 4]\n",
      "   [2 3 0]]\n",
      "\n",
      "  [[3 1 0]\n",
      "   [1 4 3]\n",
      "   [3 0 4]]\n",
      "\n",
      "  [[1 0 3]\n",
      "   [4 3 2]\n",
      "   [0 4 2]]\n",
      "\n",
      "  [[0 3 2]\n",
      "   [3 2 3]\n",
      "   [4 2 2]]\n",
      "\n",
      "  [[3 2 1]\n",
      "   [2 3 3]\n",
      "   [2 2 4]]\n",
      "\n",
      "  [[2 1 2]\n",
      "   [3 3 2]\n",
      "   [2 4 2]]\n",
      "\n",
      "  [[1 2 3]\n",
      "   [3 2 4]\n",
      "   [4 2 1]]\n",
      "\n",
      "  [[2 3 3]\n",
      "   [2 4 4]\n",
      "   [2 1 0]]]\n",
      "\n",
      "\n",
      " [[[2 1 4]\n",
      "   [2 3 0]\n",
      "   [0 3 4]]\n",
      "\n",
      "  [[1 4 3]\n",
      "   [3 0 4]\n",
      "   [3 4 0]]\n",
      "\n",
      "  [[4 3 2]\n",
      "   [0 4 2]\n",
      "   [4 0 4]]\n",
      "\n",
      "  [[3 2 3]\n",
      "   [4 2 2]\n",
      "   [0 4 4]]\n",
      "\n",
      "  [[2 3 3]\n",
      "   [2 2 4]\n",
      "   [4 4 0]]\n",
      "\n",
      "  [[3 3 2]\n",
      "   [2 4 2]\n",
      "   [4 0 1]]\n",
      "\n",
      "  [[3 2 4]\n",
      "   [4 2 1]\n",
      "   [0 1 0]]\n",
      "\n",
      "  [[2 4 4]\n",
      "   [2 1 0]\n",
      "   [1 0 0]]]\n",
      "\n",
      "\n",
      " [[[2 3 0]\n",
      "   [0 3 4]\n",
      "   [3 1 0]]\n",
      "\n",
      "  [[3 0 4]\n",
      "   [3 4 0]\n",
      "   [1 0 1]]\n",
      "\n",
      "  [[0 4 2]\n",
      "   [4 0 4]\n",
      "   [0 1 1]]\n",
      "\n",
      "  [[4 2 2]\n",
      "   [0 4 4]\n",
      "   [1 1 4]]\n",
      "\n",
      "  [[2 2 4]\n",
      "   [4 4 0]\n",
      "   [1 4 1]]\n",
      "\n",
      "  [[2 4 2]\n",
      "   [4 0 1]\n",
      "   [4 1 4]]\n",
      "\n",
      "  [[4 2 1]\n",
      "   [0 1 0]\n",
      "   [1 4 2]]\n",
      "\n",
      "  [[2 1 0]\n",
      "   [1 0 0]\n",
      "   [4 2 2]]]\n",
      "\n",
      "\n",
      " [[[0 3 4]\n",
      "   [3 1 0]\n",
      "   [2 1 3]]\n",
      "\n",
      "  [[3 4 0]\n",
      "   [1 0 1]\n",
      "   [1 3 0]]\n",
      "\n",
      "  [[4 0 4]\n",
      "   [0 1 1]\n",
      "   [3 0 0]]\n",
      "\n",
      "  [[0 4 4]\n",
      "   [1 1 4]\n",
      "   [0 0 2]]\n",
      "\n",
      "  [[4 4 0]\n",
      "   [1 4 1]\n",
      "   [0 2 0]]\n",
      "\n",
      "  [[4 0 1]\n",
      "   [4 1 4]\n",
      "   [2 0 4]]\n",
      "\n",
      "  [[0 1 0]\n",
      "   [1 4 2]\n",
      "   [0 4 1]]\n",
      "\n",
      "  [[1 0 0]\n",
      "   [4 2 2]\n",
      "   [4 1 4]]]\n",
      "\n",
      "\n",
      " [[[3 1 0]\n",
      "   [2 1 3]\n",
      "   [3 3 3]]\n",
      "\n",
      "  [[1 0 1]\n",
      "   [1 3 0]\n",
      "   [3 3 4]]\n",
      "\n",
      "  [[0 1 1]\n",
      "   [3 0 0]\n",
      "   [3 4 2]]\n",
      "\n",
      "  [[1 1 4]\n",
      "   [0 0 2]\n",
      "   [4 2 2]]\n",
      "\n",
      "  [[1 4 1]\n",
      "   [0 2 0]\n",
      "   [2 2 1]]\n",
      "\n",
      "  [[4 1 4]\n",
      "   [2 0 4]\n",
      "   [2 1 1]]\n",
      "\n",
      "  [[1 4 2]\n",
      "   [0 4 1]\n",
      "   [1 1 3]]\n",
      "\n",
      "  [[4 2 2]\n",
      "   [4 1 4]\n",
      "   [1 3 4]]]\n",
      "\n",
      "\n",
      " [[[2 1 3]\n",
      "   [3 3 3]\n",
      "   [1 3 4]]\n",
      "\n",
      "  [[1 3 0]\n",
      "   [3 3 4]\n",
      "   [3 4 3]]\n",
      "\n",
      "  [[3 0 0]\n",
      "   [3 4 2]\n",
      "   [4 3 2]]\n",
      "\n",
      "  [[0 0 2]\n",
      "   [4 2 2]\n",
      "   [3 2 1]]\n",
      "\n",
      "  [[0 2 0]\n",
      "   [2 2 1]\n",
      "   [2 1 1]]\n",
      "\n",
      "  [[2 0 4]\n",
      "   [2 1 1]\n",
      "   [1 1 3]]\n",
      "\n",
      "  [[0 4 1]\n",
      "   [1 1 3]\n",
      "   [1 3 1]]\n",
      "\n",
      "  [[4 1 4]\n",
      "   [1 3 4]\n",
      "   [3 1 2]]]\n",
      "\n",
      "\n",
      " [[[3 3 3]\n",
      "   [1 3 4]\n",
      "   [0 2 2]]\n",
      "\n",
      "  [[3 3 4]\n",
      "   [3 4 3]\n",
      "   [2 2 1]]\n",
      "\n",
      "  [[3 4 2]\n",
      "   [4 3 2]\n",
      "   [2 1 1]]\n",
      "\n",
      "  [[4 2 2]\n",
      "   [3 2 1]\n",
      "   [1 1 4]]\n",
      "\n",
      "  [[2 2 1]\n",
      "   [2 1 1]\n",
      "   [1 4 4]]\n",
      "\n",
      "  [[2 1 1]\n",
      "   [1 1 3]\n",
      "   [4 4 1]]\n",
      "\n",
      "  [[1 1 3]\n",
      "   [1 3 1]\n",
      "   [4 1 2]]\n",
      "\n",
      "  [[1 3 4]\n",
      "   [3 1 2]\n",
      "   [1 2 2]]]\n",
      "\n",
      "\n",
      " [[[1 3 4]\n",
      "   [0 2 2]\n",
      "   [3 0 1]]\n",
      "\n",
      "  [[3 4 3]\n",
      "   [2 2 1]\n",
      "   [0 1 0]]\n",
      "\n",
      "  [[4 3 2]\n",
      "   [2 1 1]\n",
      "   [1 0 4]]\n",
      "\n",
      "  [[3 2 1]\n",
      "   [1 1 4]\n",
      "   [0 4 3]]\n",
      "\n",
      "  [[2 1 1]\n",
      "   [1 4 4]\n",
      "   [4 3 4]]\n",
      "\n",
      "  [[1 1 3]\n",
      "   [4 4 1]\n",
      "   [3 4 4]]\n",
      "\n",
      "  [[1 3 1]\n",
      "   [4 1 2]\n",
      "   [4 4 1]]\n",
      "\n",
      "  [[3 1 2]\n",
      "   [1 2 2]\n",
      "   [4 1 4]]]]\n"
     ]
    }
   ],
   "source": [
    "#84\n",
    "array = np.random.randint(0,5,(10,10))\n",
    "n = 3\n",
    "i = 1 + (array.shape[0]-3)\n",
    "j = 1 + (array.shape[1]-3)\n",
    "c = stride_tricks.as_strided(array, shape=(i, j, n, n), strides=array.strides + array.strides)\n",
    "print(c)"
   ]
  },
  {
   "cell_type": "code",
   "execution_count": 31,
   "id": "b28c26a1",
   "metadata": {},
   "outputs": [
    {
     "name": "stdout",
     "output_type": "stream",
     "text": [
      "[[ 9 12 11  8  8]\n",
      " [12  9  8 10  2]\n",
      " [11  8  1 42  2]\n",
      " [ 8 10 42  3 15]\n",
      " [ 8  2  2 15  9]]\n"
     ]
    }
   ],
   "source": [
    "#85\n",
    "class Symetric(np.ndarray):\n",
    "    def __setitem__(self, index, value):\n",
    "        i,j = index\n",
    "        super(Symetric, self).__setitem__((i,j), value)\n",
    "        super(Symetric, self).__setitem__((j,i), value)\n",
    "\n",
    "def symetric(Z):\n",
    "    return np.asarray(Z + Z.T - np.diag(Z.diagonal())).view(Symetric)\n",
    "\n",
    "S = symetric(np.random.randint(0,10,(5,5)))\n",
    "S[2,3] = 42\n",
    "print(S)"
   ]
  },
  {
   "cell_type": "code",
   "execution_count": 37,
   "id": "a80029e6",
   "metadata": {},
   "outputs": [
    {
     "name": "stdout",
     "output_type": "stream",
     "text": [
      "[[200.]\n",
      " [200.]\n",
      " [200.]\n",
      " [200.]\n",
      " [200.]\n",
      " [200.]\n",
      " [200.]\n",
      " [200.]\n",
      " [200.]\n",
      " [200.]\n",
      " [200.]\n",
      " [200.]\n",
      " [200.]\n",
      " [200.]\n",
      " [200.]\n",
      " [200.]\n",
      " [200.]\n",
      " [200.]\n",
      " [200.]\n",
      " [200.]]\n"
     ]
    }
   ],
   "source": [
    "#86\n",
    "p, n = 10, 20\n",
    "m = np.ones((p,n,n))\n",
    "v = np.ones((p,n,1))\n",
    "s = np.tensordot(m, v, axes=[[0, 2], [0, 1]])\n",
    "print(s)"
   ]
  },
  {
   "cell_type": "code",
   "execution_count": 39,
   "id": "f5835c78",
   "metadata": {},
   "outputs": [
    {
     "name": "stdout",
     "output_type": "stream",
     "text": [
      "[[16. 16. 16. 16.]\n",
      " [16. 16. 16. 16.]\n",
      " [16. 16. 16. 16.]\n",
      " [16. 16. 16. 16.]]\n"
     ]
    }
   ],
   "source": [
    "#87\n",
    "array = np.ones((16,16))\n",
    "num = 4\n",
    "block_sum = np.add.reduceat(np.add.reduceat(array, np.arange(0, array.shape[0], num), axis=0),\n",
    "                                       np.arange(0, array.shape[1], num), axis=1)\n",
    "print(block_sum)"
   ]
  },
  {
   "cell_type": "code",
   "execution_count": 40,
   "id": "1c0b351e",
   "metadata": {},
   "outputs": [
    {
     "name": "stdout",
     "output_type": "stream",
     "text": [
      "[[0 0 0 ... 0 0 0]\n",
      " [0 0 0 ... 0 0 0]\n",
      " [0 0 0 ... 0 0 0]\n",
      " ...\n",
      " [0 0 0 ... 0 0 0]\n",
      " [0 0 0 ... 0 0 0]\n",
      " [0 0 0 ... 0 0 0]]\n"
     ]
    }
   ],
   "source": [
    "#88\n",
    "def iterate(Z):\n",
    "    N = (Z[0:-2,0:-2] + Z[0:-2,1:-1] + Z[0:-2,2:] +\n",
    "         Z[1:-1,0:-2]                + Z[1:-1,2:] +\n",
    "         Z[2:  ,0:-2] + Z[2:  ,1:-1] + Z[2:  ,2:])\n",
    "\n",
    "    birth = (N==3) & (Z[1:-1,1:-1]==0)\n",
    "    survive = ((N==2) | (N==3)) & (Z[1:-1,1:-1]==1)\n",
    "    Z[...] = 0\n",
    "    Z[1:-1,1:-1][birth | survive] = 1\n",
    "    return Z\n",
    "\n",
    "Z = np.random.randint(0,2,(50,50))\n",
    "for i in range(100): Z = iterate(Z)\n",
    "print(Z)"
   ]
  },
  {
   "cell_type": "code",
   "execution_count": 41,
   "id": "48a33a4f",
   "metadata": {},
   "outputs": [
    {
     "name": "stdout",
     "output_type": "stream",
     "text": [
      "[2996 2997 2998 2999]\n"
     ]
    }
   ],
   "source": [
    "#89\n",
    "array = np.arange(3000)\n",
    "np.random.shuffle(array)\n",
    "n = 4\n",
    "print (array[np.argsort(array)[-n:]])"
   ]
  },
  {
   "cell_type": "code",
   "execution_count": 42,
   "id": "57c99a78",
   "metadata": {},
   "outputs": [
    {
     "name": "stdout",
     "output_type": "stream",
     "text": [
      "[[1 4 6]\n",
      " [1 4 7]\n",
      " [1 5 6]\n",
      " [1 5 7]\n",
      " [2 4 6]\n",
      " [2 4 7]\n",
      " [2 5 6]\n",
      " [2 5 7]\n",
      " [3 4 6]\n",
      " [3 4 7]\n",
      " [3 5 6]\n",
      " [3 5 7]]\n"
     ]
    }
   ],
   "source": [
    "#90\n",
    "def cartesian(arrays):\n",
    "    arrays = [np.asarray(a) for a in arrays]\n",
    "    shape = (len(x) for x in arrays)\n",
    "\n",
    "    ix = np.indices(shape, dtype=int)\n",
    "    ix = ix.reshape(len(arrays), -1).T\n",
    "\n",
    "    for n, arr in enumerate(arrays):\n",
    "        ix[:, n] = arrays[n][ix[:, n]]\n",
    "\n",
    "    return ix\n",
    "\n",
    "print (cartesian(([1, 2, 3], [4, 5], [6, 7])))\n"
   ]
  },
  {
   "cell_type": "code",
   "execution_count": 43,
   "id": "aecfc552",
   "metadata": {},
   "outputs": [
    {
     "name": "stdout",
     "output_type": "stream",
     "text": [
      "[(b'hello', 6.7, 4) (b'world', 2.2, 8)]\n"
     ]
    }
   ],
   "source": [
    "#91\n",
    "array = np.array([(\"hello\", 6.7, 4),\n",
    "              (\"world\", 2.2, 8)])\n",
    "R = np.core.records.fromarrays(array.T, \n",
    "                               names='col1, col2, col3',\n",
    "                               formats = 'S8, f8, i8')\n",
    "print(R)"
   ]
  },
  {
   "cell_type": "code",
   "execution_count": 45,
   "id": "b56f0c90",
   "metadata": {},
   "outputs": [
    {
     "name": "stdout",
     "output_type": "stream",
     "text": [
      "4.23 µs ± 360 ns per loop (mean ± std. dev. of 7 runs, 100,000 loops each)\n",
      "1e+03 ns ± 21.8 ns per loop (mean ± std. dev. of 7 runs, 1,000,000 loops each)\n",
      "2.98 µs ± 191 ns per loop (mean ± std. dev. of 7 runs, 100,000 loops each)\n"
     ]
    }
   ],
   "source": [
    "#92\n",
    "Z = np.random.rand(100)\n",
    "\n",
    "%timeit np.power(Z,3)\n",
    "%timeit Z*Z*Z\n",
    "%timeit np.einsum('i,i,i->i',Z,Z,Z)"
   ]
  },
  {
   "cell_type": "code",
   "execution_count": 46,
   "id": "7993c12f",
   "metadata": {},
   "outputs": [
    {
     "name": "stdout",
     "output_type": "stream",
     "text": [
      "[1 2 3 4 6]\n"
     ]
    }
   ],
   "source": [
    "#93\n",
    "A = np.random.randint(0,5,(8,3))\n",
    "B = np.random.randint(0,5,(2,2))\n",
    "C = (A[..., np.newaxis, np.newaxis] == B)\n",
    "rows = np.where(C.any((3,1)).all(1))[0]\n",
    "print(rows)"
   ]
  },
  {
   "cell_type": "code",
   "execution_count": 47,
   "id": "67e0ad7d",
   "metadata": {},
   "outputs": [
    {
     "name": "stdout",
     "output_type": "stream",
     "text": [
      "[[1 2 3]\n",
      " [0 4 3]\n",
      " [4 0 4]\n",
      " [4 2 1]\n",
      " [2 4 1]\n",
      " [3 2 0]\n",
      " [1 1 4]\n",
      " [2 1 0]\n",
      " [4 0 0]\n",
      " [4 3 4]]\n",
      "[[1 2 3]\n",
      " [0 4 3]\n",
      " [4 0 4]\n",
      " [4 2 1]\n",
      " [2 4 1]\n",
      " [3 2 0]\n",
      " [1 1 4]\n",
      " [2 1 0]\n",
      " [4 0 0]\n",
      " [4 3 4]]\n"
     ]
    }
   ],
   "source": [
    "#94\n",
    "matrix = np.random.randint(0,5,(10,3))\n",
    "print(matrix)\n",
    "e = np.all(matrix[:,1:] == matrix[:,:-1], axis=1)\n",
    "u = matrix[~e]\n",
    "print(u)"
   ]
  },
  {
   "cell_type": "code",
   "execution_count": 48,
   "id": "367150b4",
   "metadata": {},
   "outputs": [
    {
     "name": "stdout",
     "output_type": "stream",
     "text": [
      "[[0 0 0 0 0 0 0 0]\n",
      " [0 0 0 0 0 0 0 1]\n",
      " [0 0 0 0 0 0 1 0]\n",
      " [0 0 0 0 0 0 1 1]\n",
      " [0 0 0 0 1 1 1 1]\n",
      " [0 0 0 1 0 0 0 0]\n",
      " [0 0 1 0 0 0 0 0]\n",
      " [0 1 0 0 0 0 0 0]\n",
      " [1 0 0 0 0 0 0 0]]\n"
     ]
    }
   ],
   "source": [
    "#95\n",
    "array = np.array([0, 1, 2, 3, 15, 16, 32, 64, 128], dtype=np.uint8)\n",
    "print(np.unpackbits(array[:, np.newaxis], axis=1))"
   ]
  },
  {
   "cell_type": "code",
   "execution_count": 49,
   "id": "6a95eae2",
   "metadata": {},
   "outputs": [
    {
     "name": "stdout",
     "output_type": "stream",
     "text": [
      "[[0 0 1]\n",
      " [0 1 1]\n",
      " [1 0 0]\n",
      " [1 0 1]\n",
      " [1 1 1]]\n"
     ]
    }
   ],
   "source": [
    "#96\n",
    "array = np.random.randint(0,2,(6,3))\n",
    "u = np.unique(array, axis=0)\n",
    "print(u)"
   ]
  },
  {
   "cell_type": "code",
   "execution_count": 50,
   "id": "3bbca863",
   "metadata": {},
   "outputs": [
    {
     "data": {
      "text/plain": [
       "array([[1.74045286e-02, 1.17607675e-01, 1.34348823e-03],\n",
       "       [9.35255079e-02, 6.31980204e-01, 7.21940952e-03],\n",
       "       [6.47891826e-04, 4.37800144e-03, 5.00119863e-05]])"
      ]
     },
     "execution_count": 50,
     "metadata": {},
     "output_type": "execute_result"
    }
   ],
   "source": [
    "#97\n",
    "A = np.random.uniform(0,1,3)\n",
    "B = np.random.uniform(0,1,3)\n",
    "\n",
    "np.einsum('i->', A)       \n",
    "np.einsum('i,i->i', A, B) \n",
    "np.einsum('i,i', A, B) \n",
    "np.einsum('i,j->ij', A, B)"
   ]
  },
  {
   "cell_type": "code",
   "execution_count": 51,
   "id": "81e641f1",
   "metadata": {},
   "outputs": [],
   "source": [
    "#98\n",
    "ph = np.arange(0, 10*np.pi, 0.1)\n",
    "A = 1\n",
    "X = A*ph*np.cos(ph)\n",
    "Y = A*ph*np.sin(ph)\n",
    "\n",
    "dr = (np.diff(X)**2 + np.diff(Y)**2)**.5 \n",
    "R = np.zeros_like(X)\n",
    "R[1:] = np.cumsum(dr)                \n",
    "r_int = np.linspace(0, R.max(), 200)\n",
    "x_int = np.interp(r_int, R, X)     \n",
    "y_int = np.interp(r_int, R, Y)"
   ]
  },
  {
   "cell_type": "code",
   "execution_count": 52,
   "id": "db975ce0",
   "metadata": {},
   "outputs": [
    {
     "name": "stdout",
     "output_type": "stream",
     "text": [
      "[[2. 0. 1. 1.]]\n"
     ]
    }
   ],
   "source": [
    "#99\n",
    "X = np.asarray([[1.0, 0.0, 3.0, 8.0],\n",
    "                [2.0, 0.0, 1.0, 1.0],\n",
    "                [1.5, 2.5, 1.0, 0.0]])\n",
    "n = 4\n",
    "M = np.logical_and.reduce(np.mod(X, 1) == 0, axis=-1)\n",
    "M &= (X.sum(axis=-1) == n)\n",
    "print(X[M])"
   ]
  },
  {
   "cell_type": "code",
   "execution_count": 53,
   "id": "a42c37d6",
   "metadata": {},
   "outputs": [
    {
     "name": "stdout",
     "output_type": "stream",
     "text": [
      "[-0.23956922  0.1411959 ]\n"
     ]
    }
   ],
   "source": [
    "#100\n",
    "X = np.random.randn(100) \n",
    "N = 1000 \n",
    "idx = np.random.randint(0, X.size, (N, X.size))\n",
    "means = X[idx].mean(axis=1)\n",
    "confint = np.percentile(means, [2.5, 97.5])\n",
    "print(confint)"
   ]
  },
  {
   "cell_type": "code",
   "execution_count": null,
   "id": "78f851e4",
   "metadata": {},
   "outputs": [],
   "source": []
  }
 ],
 "metadata": {
  "kernelspec": {
   "display_name": "Python 3 (ipykernel)",
   "language": "python",
   "name": "python3"
  },
  "language_info": {
   "codemirror_mode": {
    "name": "ipython",
    "version": 3
   },
   "file_extension": ".py",
   "mimetype": "text/x-python",
   "name": "python",
   "nbconvert_exporter": "python",
   "pygments_lexer": "ipython3",
   "version": "3.10.2"
  }
 },
 "nbformat": 4,
 "nbformat_minor": 5
}
