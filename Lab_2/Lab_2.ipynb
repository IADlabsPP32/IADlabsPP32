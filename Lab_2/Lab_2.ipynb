{
 "cells": [
  {
   "cell_type": "code",
   "execution_count": 1,
   "id": "cb67ed32-4ee8-41b7-a9b1-0fa6a3c01550",
   "metadata": {},
   "outputs": [],
   "source": [
    "import numpy as np"
   ]
  },
  {
   "cell_type": "code",
   "execution_count": 2,
   "id": "c8b9215e-01df-4282-aaca-93eb6a80749e",
   "metadata": {},
   "outputs": [
    {
     "name": "stdout",
     "output_type": "stream",
     "text": [
      "1.21.5\n",
      "blas_mkl_info:\n",
      "    libraries = ['mkl_rt']\n",
      "    library_dirs = ['C:/Users/Lokda18/anaconda3\\\\Library\\\\lib']\n",
      "    define_macros = [('SCIPY_MKL_H', None), ('HAVE_CBLAS', None)]\n",
      "    include_dirs = ['C:/Users/Lokda18/anaconda3\\\\Library\\\\include']\n",
      "blas_opt_info:\n",
      "    libraries = ['mkl_rt']\n",
      "    library_dirs = ['C:/Users/Lokda18/anaconda3\\\\Library\\\\lib']\n",
      "    define_macros = [('SCIPY_MKL_H', None), ('HAVE_CBLAS', None)]\n",
      "    include_dirs = ['C:/Users/Lokda18/anaconda3\\\\Library\\\\include']\n",
      "lapack_mkl_info:\n",
      "    libraries = ['mkl_rt']\n",
      "    library_dirs = ['C:/Users/Lokda18/anaconda3\\\\Library\\\\lib']\n",
      "    define_macros = [('SCIPY_MKL_H', None), ('HAVE_CBLAS', None)]\n",
      "    include_dirs = ['C:/Users/Lokda18/anaconda3\\\\Library\\\\include']\n",
      "lapack_opt_info:\n",
      "    libraries = ['mkl_rt']\n",
      "    library_dirs = ['C:/Users/Lokda18/anaconda3\\\\Library\\\\lib']\n",
      "    define_macros = [('SCIPY_MKL_H', None), ('HAVE_CBLAS', None)]\n",
      "    include_dirs = ['C:/Users/Lokda18/anaconda3\\\\Library\\\\include']\n",
      "Supported SIMD extensions in this NumPy install:\n",
      "    baseline = SSE,SSE2,SSE3\n",
      "    found = SSSE3,SSE41,POPCNT,SSE42,AVX,F16C,FMA3,AVX2\n",
      "    not found = AVX512F,AVX512CD,AVX512_SKX,AVX512_CLX,AVX512_CNL\n"
     ]
    }
   ],
   "source": [
    "print(np.__version__)\n",
    "np.show_config()"
   ]
  },
  {
   "cell_type": "code",
   "execution_count": 3,
   "id": "7d855cef-7a0f-4f42-ad13-a99cfac12de3",
   "metadata": {},
   "outputs": [
    {
     "name": "stdout",
     "output_type": "stream",
     "text": [
      "[0. 0. 0. 0. 0. 0. 0. 0. 0. 0.]\n"
     ]
    }
   ],
   "source": [
    "Z = np.zeros(10)\n",
    "print(Z)"
   ]
  },
  {
   "cell_type": "code",
   "execution_count": 4,
   "id": "5d699cc3-d562-4a52-8c8b-7cec8420f95e",
   "metadata": {},
   "outputs": [
    {
     "name": "stdout",
     "output_type": "stream",
     "text": [
      "800 bytes\n"
     ]
    }
   ],
   "source": [
    "Z = np.zeros((10,10))\n",
    "print(\"%d bytes\" % (Z.size * Z.itemsize))"
   ]
  },
  {
   "cell_type": "code",
   "execution_count": 27,
   "id": "c23c9ddf-17d7-43eb-ac6c-be8fa198bb27",
   "metadata": {},
   "outputs": [
    {
     "name": "stdout",
     "output_type": "stream",
     "text": [
      "add(x1, x2, /, out=None, *, where=True, casting='same_kind', order='K', dtype=None, subok=True[, signature, extobj])\n",
      "\n",
      "Add arguments element-wise.\n",
      "\n",
      "Parameters\n",
      "----------\n",
      "x1, x2 : array_like\n",
      "    The arrays to be added.\n",
      "    If ``x1.shape != x2.shape``, they must be broadcastable to a common\n",
      "    shape (which becomes the shape of the output).\n",
      "out : ndarray, None, or tuple of ndarray and None, optional\n",
      "    A location into which the result is stored. If provided, it must have\n",
      "    a shape that the inputs broadcast to. If not provided or None,\n",
      "    a freshly-allocated array is returned. A tuple (possible only as a\n",
      "    keyword argument) must have length equal to the number of outputs.\n",
      "where : array_like, optional\n",
      "    This condition is broadcast over the input. At locations where the\n",
      "    condition is True, the `out` array will be set to the ufunc result.\n",
      "    Elsewhere, the `out` array will retain its original value.\n",
      "    Note that if an uninitialized `out` array is created via the default\n",
      "    ``out=None``, locations within it where the condition is False will\n",
      "    remain uninitialized.\n",
      "**kwargs\n",
      "    For other keyword-only arguments, see the\n",
      "    :ref:`ufunc docs <ufuncs.kwargs>`.\n",
      "\n",
      "Returns\n",
      "-------\n",
      "add : ndarray or scalar\n",
      "    The sum of `x1` and `x2`, element-wise.\n",
      "    This is a scalar if both `x1` and `x2` are scalars.\n",
      "\n",
      "Notes\n",
      "-----\n",
      "Equivalent to `x1` + `x2` in terms of array broadcasting.\n",
      "\n",
      "Examples\n",
      "--------\n",
      ">>> np.add(1.0, 4.0)\n",
      "5.0\n",
      ">>> x1 = np.arange(9.0).reshape((3, 3))\n",
      ">>> x2 = np.arange(3.0)\n",
      ">>> np.add(x1, x2)\n",
      "array([[  0.,   2.,   4.],\n",
      "       [  3.,   5.,   7.],\n",
      "       [  6.,   8.,  10.]])\n",
      "\n",
      "The ``+`` operator can be used as a shorthand for ``np.add`` on ndarrays.\n",
      "\n",
      ">>> x1 = np.arange(9.0).reshape((3, 3))\n",
      ">>> x2 = np.arange(3.0)\n",
      ">>> x1 + x2\n",
      "array([[ 0.,  2.,  4.],\n",
      "       [ 3.,  5.,  7.],\n",
      "       [ 6.,  8., 10.]])\n",
      "None\n"
     ]
    }
   ],
   "source": [
    "print(np.info(np.add))"
   ]
  },
  {
   "cell_type": "code",
   "execution_count": 6,
   "id": "29abd599-c7f4-4625-b24a-e9a0f840f336",
   "metadata": {},
   "outputs": [
    {
     "name": "stdout",
     "output_type": "stream",
     "text": [
      "[0. 0. 0. 0. 1. 0. 0. 0. 0. 0.]\n"
     ]
    }
   ],
   "source": [
    "Z = np.zeros(10)\n",
    "Z[4] = 1\n",
    "print(Z)"
   ]
  },
  {
   "cell_type": "code",
   "execution_count": 7,
   "id": "94b652f7-e467-41cf-81ab-81dd626d20f6",
   "metadata": {},
   "outputs": [
    {
     "name": "stdout",
     "output_type": "stream",
     "text": [
      "[10 11 12 13 14 15 16 17 18 19 20 21 22 23 24 25 26 27 28 29 30 31 32 33\n",
      " 34 35 36 37 38 39 40 41 42 43 44 45 46 47 48 49]\n"
     ]
    }
   ],
   "source": [
    "Z = np.arange(10,50)\n",
    "print(Z)"
   ]
  },
  {
   "cell_type": "code",
   "execution_count": 8,
   "id": "9926024a-ca5c-4d46-a57d-da7ac3455069",
   "metadata": {},
   "outputs": [
    {
     "name": "stdout",
     "output_type": "stream",
     "text": [
      "[49 48 47 46 45 44 43 42 41 40 39 38 37 36 35 34 33 32 31 30 29 28 27 26\n",
      " 25 24 23 22 21 20 19 18 17 16 15 14 13 12 11 10  9  8  7  6  5  4  3  2\n",
      "  1  0]\n"
     ]
    }
   ],
   "source": [
    "Z = np.arange(50)\n",
    "Z = Z[::-1]\n",
    "print(Z)"
   ]
  },
  {
   "cell_type": "code",
   "execution_count": 9,
   "id": "fe68682b-7721-42ba-9b67-9484b8e77794",
   "metadata": {},
   "outputs": [
    {
     "name": "stdout",
     "output_type": "stream",
     "text": [
      "[[0 1 2]\n",
      " [3 4 5]\n",
      " [6 7 8]]\n"
     ]
    }
   ],
   "source": [
    "Z = np.arange(9).reshape(3,3)\n",
    "print(Z)"
   ]
  },
  {
   "cell_type": "code",
   "execution_count": 10,
   "id": "4c549ef8-c1eb-49b9-9896-8192eaf61931",
   "metadata": {},
   "outputs": [
    {
     "name": "stdout",
     "output_type": "stream",
     "text": [
      "(array([0, 1, 4], dtype=int64),)\n"
     ]
    }
   ],
   "source": [
    "nz = np.nonzero([1,2,0,0,4,0])\n",
    "print(nz)"
   ]
  },
  {
   "cell_type": "code",
   "execution_count": 11,
   "id": "7a7b1448-273c-48ee-9808-1826f589e32a",
   "metadata": {},
   "outputs": [
    {
     "name": "stdout",
     "output_type": "stream",
     "text": [
      "[[1. 0. 0.]\n",
      " [0. 1. 0.]\n",
      " [0. 0. 1.]]\n"
     ]
    }
   ],
   "source": [
    "Z = np.eye(3)\n",
    "print(Z)"
   ]
  },
  {
   "cell_type": "code",
   "execution_count": 12,
   "id": "5c67a37b-b731-4480-b5fe-4d96394e0999",
   "metadata": {},
   "outputs": [
    {
     "name": "stdout",
     "output_type": "stream",
     "text": [
      "[[[0.42625971 0.46846957 0.4022161 ]\n",
      "  [0.48649716 0.99045044 0.60098088]\n",
      "  [0.02601494 0.49357161 0.31749362]]\n",
      "\n",
      " [[0.0273979  0.89503942 0.97012668]\n",
      "  [0.13119154 0.85458653 0.19356132]\n",
      "  [0.93310462 0.14529852 0.37381954]]\n",
      "\n",
      " [[0.42037571 0.40094167 0.78522007]\n",
      "  [0.7666604  0.79018288 0.73159359]\n",
      "  [0.23087645 0.9839271  0.77301513]]]\n"
     ]
    }
   ],
   "source": [
    "Z = np.random.random((3,3,3))\n",
    "print(Z)"
   ]
  },
  {
   "cell_type": "code",
   "execution_count": 13,
   "id": "7ccf3408-34c3-4f17-af82-8718ecefb71e",
   "metadata": {},
   "outputs": [
    {
     "name": "stdout",
     "output_type": "stream",
     "text": [
      "0.04557107663602078 0.9815783590804561\n"
     ]
    }
   ],
   "source": [
    "Z = np.random.random((10,10))\n",
    "Zmin, Zmax = Z.min(), Z.max()\n",
    "print(Zmin, Zmax)"
   ]
  },
  {
   "cell_type": "code",
   "execution_count": 14,
   "id": "a8565371-6702-4875-a180-90a3909cfe30",
   "metadata": {},
   "outputs": [
    {
     "name": "stdout",
     "output_type": "stream",
     "text": [
      "0.48768252799604195\n"
     ]
    }
   ],
   "source": [
    "Z = np.random.random(30)\n",
    "m = Z.mean()\n",
    "print(m)"
   ]
  },
  {
   "cell_type": "code",
   "execution_count": 15,
   "id": "d1b26059-41df-463e-a0f0-67ad1fc42c50",
   "metadata": {},
   "outputs": [
    {
     "name": "stdout",
     "output_type": "stream",
     "text": [
      "[[1. 1. 1. 1. 1. 1. 1. 1. 1. 1.]\n",
      " [1. 0. 0. 0. 0. 0. 0. 0. 0. 1.]\n",
      " [1. 0. 0. 0. 0. 0. 0. 0. 0. 1.]\n",
      " [1. 0. 0. 0. 0. 0. 0. 0. 0. 1.]\n",
      " [1. 0. 0. 0. 0. 0. 0. 0. 0. 1.]\n",
      " [1. 0. 0. 0. 0. 0. 0. 0. 0. 1.]\n",
      " [1. 0. 0. 0. 0. 0. 0. 0. 0. 1.]\n",
      " [1. 0. 0. 0. 0. 0. 0. 0. 0. 1.]\n",
      " [1. 0. 0. 0. 0. 0. 0. 0. 0. 1.]\n",
      " [1. 1. 1. 1. 1. 1. 1. 1. 1. 1.]]\n"
     ]
    }
   ],
   "source": [
    "Z = np.ones((10,10))\n",
    "Z[1:-1,1:-1] = 0\n",
    "print(Z)"
   ]
  },
  {
   "cell_type": "code",
   "execution_count": 16,
   "id": "d58c0993-b0e0-466f-9bf4-0498a5404aa6",
   "metadata": {},
   "outputs": [
    {
     "name": "stdout",
     "output_type": "stream",
     "text": [
      "[[0. 0. 0. 0. 0. 0. 0.]\n",
      " [0. 1. 1. 1. 1. 1. 0.]\n",
      " [0. 1. 1. 1. 1. 1. 0.]\n",
      " [0. 1. 1. 1. 1. 1. 0.]\n",
      " [0. 1. 1. 1. 1. 1. 0.]\n",
      " [0. 1. 1. 1. 1. 1. 0.]\n",
      " [0. 0. 0. 0. 0. 0. 0.]]\n"
     ]
    }
   ],
   "source": [
    "Z = np.ones((5,5))\n",
    "Z = np.pad(Z, pad_width=1, mode='constant', constant_values=0)\n",
    "print(Z)"
   ]
  },
  {
   "cell_type": "code",
   "execution_count": 17,
   "id": "c007075a-c052-4ed8-a013-c704578e4f2a",
   "metadata": {},
   "outputs": [
    {
     "name": "stdout",
     "output_type": "stream",
     "text": [
      "nan\n",
      "False\n",
      "False\n",
      "nan\n",
      "True\n",
      "False\n"
     ]
    }
   ],
   "source": [
    "print(0 * np.nan)\n",
    "print(np.nan == np.nan)\n",
    "print(np.inf > np.nan)\n",
    "print(np.nan - np.nan)\n",
    "print(np.nan in set([np.nan]))\n",
    "print(0.3 == 3 * 0.1)"
   ]
  },
  {
   "cell_type": "code",
   "execution_count": 18,
   "id": "bd04a0af-422b-4587-8464-5305c3e70139",
   "metadata": {},
   "outputs": [
    {
     "name": "stdout",
     "output_type": "stream",
     "text": [
      "[[0 0 0 0 0]\n",
      " [1 0 0 0 0]\n",
      " [0 2 0 0 0]\n",
      " [0 0 3 0 0]\n",
      " [0 0 0 4 0]]\n"
     ]
    }
   ],
   "source": [
    "Z = np.diag(1+np.arange(4),k=-1)\n",
    "print(Z)"
   ]
  },
  {
   "cell_type": "code",
   "execution_count": 19,
   "id": "b9e8a401-a77f-4221-868a-542f8e222d3f",
   "metadata": {},
   "outputs": [
    {
     "name": "stdout",
     "output_type": "stream",
     "text": [
      "[[0 1 0 1 0 1 0 1]\n",
      " [1 0 1 0 1 0 1 0]\n",
      " [0 1 0 1 0 1 0 1]\n",
      " [1 0 1 0 1 0 1 0]\n",
      " [0 1 0 1 0 1 0 1]\n",
      " [1 0 1 0 1 0 1 0]\n",
      " [0 1 0 1 0 1 0 1]\n",
      " [1 0 1 0 1 0 1 0]]\n"
     ]
    }
   ],
   "source": [
    "Z = np.zeros((8,8),dtype=int)\n",
    "Z[1::2,::2] = 1\n",
    "Z[::2,1::2] = 1\n",
    "print(Z)"
   ]
  },
  {
   "cell_type": "code",
   "execution_count": 20,
   "id": "4cdc5565-0b92-478a-a0fd-fcc22e6feba9",
   "metadata": {},
   "outputs": [
    {
     "name": "stdout",
     "output_type": "stream",
     "text": [
      "(1, 5, 4)\n"
     ]
    }
   ],
   "source": [
    "print(np.unravel_index(100,(6,7,8)))"
   ]
  },
  {
   "cell_type": "code",
   "execution_count": 21,
   "id": "32648f8b-c65c-48aa-b148-495b56b9eed2",
   "metadata": {},
   "outputs": [
    {
     "name": "stdout",
     "output_type": "stream",
     "text": [
      "[[0 1 0 1 0 1 0 1]\n",
      " [1 0 1 0 1 0 1 0]\n",
      " [0 1 0 1 0 1 0 1]\n",
      " [1 0 1 0 1 0 1 0]\n",
      " [0 1 0 1 0 1 0 1]\n",
      " [1 0 1 0 1 0 1 0]\n",
      " [0 1 0 1 0 1 0 1]\n",
      " [1 0 1 0 1 0 1 0]]\n"
     ]
    }
   ],
   "source": [
    "Z = np.tile( np.array([[0,1],[1,0]]), (4,4))\n",
    "print(Z)"
   ]
  },
  {
   "cell_type": "code",
   "execution_count": 22,
   "id": "6a8a0234-90e2-4fdc-895a-88571e925735",
   "metadata": {},
   "outputs": [
    {
     "name": "stdout",
     "output_type": "stream",
     "text": [
      "[[-0.69779497  0.60088245  0.48481698  1.26471995 -0.75222701]\n",
      " [-1.26669608 -0.81916789  1.3430539  -1.41982744 -0.95352133]\n",
      " [ 1.55224043  0.96839386  0.58777482 -1.54846502  0.18676685]\n",
      " [ 1.33277484  0.70244775 -0.54139208 -0.840093   -0.54882331]\n",
      " [ 1.2529862  -1.14597919 -0.53682446  1.28168431 -0.48773054]]\n"
     ]
    }
   ],
   "source": [
    "Z = np.random.random((5,5))\n",
    "Z = (Z - np.mean (Z)) / (np.std (Z))\n",
    "print(Z)"
   ]
  },
  {
   "cell_type": "code",
   "execution_count": 121,
   "id": "a2dace29-3dc4-4054-aedf-e89e08aaab51",
   "metadata": {},
   "outputs": [
    {
     "name": "stdout",
     "output_type": "stream",
     "text": [
      "[(220, 140, 20, 75)]\n"
     ]
    }
   ],
   "source": [
    "colorrgba = np.dtype({'names': ['r', 'g', 'b', 'a'], 'formats': [np.uint8, np.uint8, np.uint8, np.uint8]})\n",
    "color = np.array([(220, 140, 20, 75)], dtype = colorrgba)\n",
    "print(color)"
   ]
  },
  {
   "cell_type": "code",
   "execution_count": 24,
   "id": "7cf5d1a7-638d-47b2-8d04-2ba79bb29de4",
   "metadata": {},
   "outputs": [
    {
     "name": "stdout",
     "output_type": "stream",
     "text": [
      "[[3. 3.]\n",
      " [3. 3.]\n",
      " [3. 3.]\n",
      " [3. 3.]\n",
      " [3. 3.]]\n"
     ]
    }
   ],
   "source": [
    "Z = np.dot(np.ones((5,3)), np.ones((3,2)))\n",
    "print(Z)\n",
    "\n",
    "Z = np.ones((5,3)) @ np.ones((3,2))"
   ]
  },
  {
   "cell_type": "code",
   "execution_count": 25,
   "id": "43aab77f-da35-49cd-90f1-b0299685eee1",
   "metadata": {},
   "outputs": [
    {
     "name": "stdout",
     "output_type": "stream",
     "text": [
      "[ 0  1  2  3 -4 -5 -6 -7 -8  9 10]\n"
     ]
    }
   ],
   "source": [
    "Z = np.arange(11)\n",
    "Z[(3 < Z) & (Z <= 8)] *= -1\n",
    "print(Z)"
   ]
  },
  {
   "cell_type": "code",
   "execution_count": 26,
   "id": "e8e601b5-f8bd-470b-9def-63270dce5dd3",
   "metadata": {},
   "outputs": [
    {
     "name": "stdout",
     "output_type": "stream",
     "text": [
      "9\n",
      "10\n"
     ]
    }
   ],
   "source": [
    "print(sum(range(5),-1))\n",
    "from numpy import *\n",
    "print(sum(range(5),-1))"
   ]
  },
  {
   "cell_type": "code",
   "execution_count": 28,
   "id": "073775ac-19c5-4bf7-8d4e-54477f0c0e7d",
   "metadata": {},
   "outputs": [
    {
     "ename": "ValueError",
     "evalue": "Integers to negative integer powers are not allowed.",
     "output_type": "error",
     "traceback": [
      "\u001b[1;31m---------------------------------------------------------------------------\u001b[0m",
      "\u001b[1;31mValueError\u001b[0m                                Traceback (most recent call last)",
      "Input \u001b[1;32mIn [28]\u001b[0m, in \u001b[0;36m<cell line: 1>\u001b[1;34m()\u001b[0m\n\u001b[1;32m----> 1\u001b[0m \u001b[43mZ\u001b[49m\u001b[38;5;241;43m*\u001b[39;49m\u001b[38;5;241;43m*\u001b[39;49m\u001b[43mZ\u001b[49m\n\u001b[0;32m      2\u001b[0m \u001b[38;5;241m2\u001b[39m \u001b[38;5;241m<<\u001b[39m Z \u001b[38;5;241m>>\u001b[39m \u001b[38;5;241m2\u001b[39m\n\u001b[0;32m      3\u001b[0m Z \u001b[38;5;241m<\u001b[39m\u001b[38;5;241m-\u001b[39m Z\n",
      "\u001b[1;31mValueError\u001b[0m: Integers to negative integer powers are not allowed."
     ]
    }
   ],
   "source": [
    "Z**Z\n",
    "2 << Z >> 2\n",
    "Z <- Z\n",
    "1j*Z\n",
    "Z/1/1\n",
    "Z<Z>Z"
   ]
  },
  {
   "cell_type": "code",
   "execution_count": 29,
   "id": "9515442f-68fd-4bfa-a441-235b541dd433",
   "metadata": {},
   "outputs": [
    {
     "name": "stdout",
     "output_type": "stream",
     "text": [
      "nan\n",
      "0\n",
      "[-2.14748365e+09]\n"
     ]
    },
    {
     "name": "stderr",
     "output_type": "stream",
     "text": [
      "C:\\Users\\Lokda18\\AppData\\Local\\Temp\\ipykernel_10108\\3912170336.py:1: RuntimeWarning: invalid value encountered in true_divide\n",
      "  print(np.array(0) / np.array(0))\n",
      "C:\\Users\\Lokda18\\AppData\\Local\\Temp\\ipykernel_10108\\3912170336.py:2: RuntimeWarning: divide by zero encountered in floor_divide\n",
      "  print(np.array(0) // np.array(0))\n"
     ]
    }
   ],
   "source": [
    "print(np.array(0) / np.array(0))\n",
    "print(np.array(0) // np.array(0))\n",
    "print(np.array([np.nan]).astype(int).astype(float))"
   ]
  },
  {
   "cell_type": "code",
   "execution_count": 30,
   "id": "8e322a03-5ccd-403c-bcde-2bff21e2e3cf",
   "metadata": {},
   "outputs": [
    {
     "name": "stdout",
     "output_type": "stream",
     "text": [
      "[ -1. -10.  -9.  10.   2.   3.  -6.   4.  -4.  -6.]\n"
     ]
    }
   ],
   "source": [
    "Z = np.random.uniform(-10,+10,10)\n",
    "print (np.copysign(np.ceil(np.abs(Z)), Z))"
   ]
  },
  {
   "cell_type": "code",
   "execution_count": 33,
   "id": "2d1e3c0a-2d1e-42a3-8621-c9495e67a0a2",
   "metadata": {},
   "outputs": [
    {
     "name": "stdout",
     "output_type": "stream",
     "text": [
      "[2 4 5 6 7 9]\n"
     ]
    }
   ],
   "source": [
    "Z1 = np.random.randint(0,10,10)\n",
    "Z2 = np.random.randint(0,10,10)\n",
    "print(np.intersect1d(Z1,Z2))"
   ]
  },
  {
   "cell_type": "code",
   "execution_count": 36,
   "id": "ce62c3ae-9e3a-4caf-9474-1f36cb20fe7a",
   "metadata": {},
   "outputs": [],
   "source": [
    "defaults = np.seterr(all=\"ignore\")\n",
    "Z = np.ones(1) / 0\n",
    "\n",
    "_ = np.seterr(**defaults)\n",
    "\n",
    "with np.errstate(divide='ignore'):\n",
    "    Z = np.ones(1) / 0"
   ]
  },
  {
   "cell_type": "code",
   "execution_count": 37,
   "id": "a9c1ab5e-93d7-4f60-8a6c-a9b20a0eb3a1",
   "metadata": {},
   "outputs": [
    {
     "name": "stderr",
     "output_type": "stream",
     "text": [
      "C:\\Users\\Lokda18\\AppData\\Local\\Temp\\ipykernel_10108\\244602691.py:1: RuntimeWarning: invalid value encountered in sqrt\n",
      "  np.sqrt(-1) == np.emath.sqrt(-1)\n"
     ]
    },
    {
     "data": {
      "text/plain": [
       "False"
      ]
     },
     "execution_count": 37,
     "metadata": {},
     "output_type": "execute_result"
    }
   ],
   "source": [
    "np.sqrt(-1) == np.emath.sqrt(-1)"
   ]
  },
  {
   "cell_type": "code",
   "execution_count": 38,
   "id": "1c5aaa1c-ab2b-4fe2-b012-2111b33efbf9",
   "metadata": {},
   "outputs": [],
   "source": [
    "yesterday = np.datetime64('today', 'D') - np.timedelta64(1, 'D')\n",
    "today     = np.datetime64('today', 'D')\n",
    "tomorrow  = np.datetime64('today', 'D') + np.timedelta64(1, 'D')"
   ]
  },
  {
   "cell_type": "code",
   "execution_count": 39,
   "id": "d9106124-86be-48a4-8465-508cef16f88f",
   "metadata": {},
   "outputs": [
    {
     "name": "stdout",
     "output_type": "stream",
     "text": [
      "['2016-07-01' '2016-07-02' '2016-07-03' '2016-07-04' '2016-07-05'\n",
      " '2016-07-06' '2016-07-07' '2016-07-08' '2016-07-09' '2016-07-10'\n",
      " '2016-07-11' '2016-07-12' '2016-07-13' '2016-07-14' '2016-07-15'\n",
      " '2016-07-16' '2016-07-17' '2016-07-18' '2016-07-19' '2016-07-20'\n",
      " '2016-07-21' '2016-07-22' '2016-07-23' '2016-07-24' '2016-07-25'\n",
      " '2016-07-26' '2016-07-27' '2016-07-28' '2016-07-29' '2016-07-30'\n",
      " '2016-07-31']\n"
     ]
    }
   ],
   "source": [
    "Z = np.arange('2016-07', '2016-08', dtype='datetime64[D]')\n",
    "print(Z)"
   ]
  },
  {
   "cell_type": "code",
   "execution_count": 40,
   "id": "ea8623cc-a66f-4a07-a0e2-81dd7157bc95",
   "metadata": {},
   "outputs": [
    {
     "data": {
      "text/plain": [
       "array([-1.5, -1.5, -1.5])"
      ]
     },
     "execution_count": 40,
     "metadata": {},
     "output_type": "execute_result"
    }
   ],
   "source": [
    "A = np.ones(3)*1\n",
    "B = np.ones(3)*2\n",
    "C = np.ones(3)*3\n",
    "np.add(A,B,out=B)\n",
    "np.divide(A,2,out=A)\n",
    "np.negative(A,out=A)\n",
    "np.multiply(A,B,out=A)"
   ]
  },
  {
   "cell_type": "code",
   "execution_count": 41,
   "id": "21b172d7-d613-4670-a99f-011072998dd9",
   "metadata": {},
   "outputs": [
    {
     "name": "stdout",
     "output_type": "stream",
     "text": [
      "[8. 6. 2. 6. 4. 7. 2. 7. 6. 8.]\n",
      "[8. 6. 2. 6. 4. 7. 2. 7. 6. 8.]\n",
      "[8. 6. 2. 6. 4. 7. 2. 7. 6. 8.]\n",
      "[8 6 2 6 4 7 2 7 6 8]\n",
      "[8. 6. 2. 6. 4. 7. 2. 7. 6. 8.]\n"
     ]
    }
   ],
   "source": [
    "Z = np.random.uniform(0,10,10)\n",
    "\n",
    "print (Z - Z%1)\n",
    "print (np.floor(Z))\n",
    "print (np.ceil(Z)-1)\n",
    "print (Z.astype(int))\n",
    "print (np.trunc(Z))"
   ]
  },
  {
   "cell_type": "code",
   "execution_count": 42,
   "id": "bde2e0a9-5153-4d5e-a14e-3562f9b8b21b",
   "metadata": {},
   "outputs": [
    {
     "name": "stdout",
     "output_type": "stream",
     "text": [
      "[[0. 1. 2. 3. 4.]\n",
      " [0. 1. 2. 3. 4.]\n",
      " [0. 1. 2. 3. 4.]\n",
      " [0. 1. 2. 3. 4.]\n",
      " [0. 1. 2. 3. 4.]]\n"
     ]
    }
   ],
   "source": [
    "Z = np.zeros((5,5))\n",
    "Z += np.arange(5)\n",
    "print(Z)"
   ]
  },
  {
   "cell_type": "code",
   "execution_count": 43,
   "id": "9b4f5b6d-cd5b-48da-ae59-b89a76eb53ea",
   "metadata": {},
   "outputs": [
    {
     "name": "stdout",
     "output_type": "stream",
     "text": [
      "[0. 1. 2. 3. 4. 5. 6. 7. 8. 9.]\n"
     ]
    }
   ],
   "source": [
    "def generate():\n",
    "    for x in range(10):\n",
    "        yield x\n",
    "Z = np.fromiter(generate(),dtype=float,count=-1)\n",
    "print(Z)"
   ]
  },
  {
   "cell_type": "code",
   "execution_count": 44,
   "id": "6877a240-6cb8-41f6-8d76-c9686b742d18",
   "metadata": {},
   "outputs": [
    {
     "name": "stdout",
     "output_type": "stream",
     "text": [
      "[0.09090909 0.18181818 0.27272727 0.36363636 0.45454545 0.54545455\n",
      " 0.63636364 0.72727273 0.81818182 0.90909091]\n"
     ]
    }
   ],
   "source": [
    "Z = np.linspace(0,1,11,endpoint=False)[1:]\n",
    "print(Z)"
   ]
  },
  {
   "cell_type": "code",
   "execution_count": 45,
   "id": "7a39e758-54e0-471c-a743-c4f5cab7320f",
   "metadata": {},
   "outputs": [
    {
     "name": "stdout",
     "output_type": "stream",
     "text": [
      "[0.0176607  0.05152117 0.07984519 0.08217479 0.34309167 0.5475389\n",
      " 0.56905576 0.69097073 0.77481955 0.9662619 ]\n"
     ]
    }
   ],
   "source": [
    "Z = np.random.random(10)\n",
    "Z.sort()\n",
    "print(Z)"
   ]
  },
  {
   "cell_type": "code",
   "execution_count": 46,
   "id": "f75a5bbc-429d-45a5-bf3b-e21284e4febe",
   "metadata": {},
   "outputs": [
    {
     "data": {
      "text/plain": [
       "45"
      ]
     },
     "execution_count": 46,
     "metadata": {},
     "output_type": "execute_result"
    }
   ],
   "source": [
    "Z = np.arange(10)\n",
    "np.add.reduce(Z)"
   ]
  },
  {
   "cell_type": "code",
   "execution_count": 47,
   "id": "bbf0a3ca-95e9-478a-9f9c-f28af6d5b5e7",
   "metadata": {},
   "outputs": [
    {
     "name": "stdout",
     "output_type": "stream",
     "text": [
      "False\n",
      "False\n"
     ]
    }
   ],
   "source": [
    "A = np.random.randint(0,2,5)\n",
    "B = np.random.randint(0,2,5)\n",
    "\n",
    "equal = np.allclose(A,B)\n",
    "print(equal)\n",
    "\n",
    "equal = np.array_equal(A,B)\n",
    "print(equal)"
   ]
  },
  {
   "cell_type": "code",
   "execution_count": 48,
   "id": "d10ba510-ec0f-47fc-a524-355a16f177e7",
   "metadata": {},
   "outputs": [
    {
     "ename": "ValueError",
     "evalue": "assignment destination is read-only",
     "output_type": "error",
     "traceback": [
      "\u001b[1;31m---------------------------------------------------------------------------\u001b[0m",
      "\u001b[1;31mValueError\u001b[0m                                Traceback (most recent call last)",
      "Input \u001b[1;32mIn [48]\u001b[0m, in \u001b[0;36m<cell line: 3>\u001b[1;34m()\u001b[0m\n\u001b[0;32m      1\u001b[0m Z \u001b[38;5;241m=\u001b[39m np\u001b[38;5;241m.\u001b[39mzeros(\u001b[38;5;241m10\u001b[39m)\n\u001b[0;32m      2\u001b[0m Z\u001b[38;5;241m.\u001b[39mflags\u001b[38;5;241m.\u001b[39mwriteable \u001b[38;5;241m=\u001b[39m \u001b[38;5;28;01mFalse\u001b[39;00m\n\u001b[1;32m----> 3\u001b[0m Z[\u001b[38;5;241m0\u001b[39m] \u001b[38;5;241m=\u001b[39m \u001b[38;5;241m1\u001b[39m\n",
      "\u001b[1;31mValueError\u001b[0m: assignment destination is read-only"
     ]
    }
   ],
   "source": [
    "Z = np.zeros(10)\n",
    "Z.flags.writeable = False\n",
    "Z[0] = 1"
   ]
  },
  {
   "cell_type": "code",
   "execution_count": 49,
   "id": "a9d90f8c-2f73-498f-8228-e0f939c00ca1",
   "metadata": {},
   "outputs": [
    {
     "name": "stdout",
     "output_type": "stream",
     "text": [
      "[0.085209   0.77759084 1.0126367  0.71955652 0.81528639 1.02480367\n",
      " 0.21509434 0.51705746 1.15216149 1.1995929 ]\n",
      "[1.14704132 0.4349305  0.26762602 0.48163359 0.9540286  0.66380912\n",
      " 1.36240369 0.90987552 0.81962299 0.82053684]\n"
     ]
    }
   ],
   "source": [
    "Z = np.random.random((10,2))\n",
    "X,Y = Z[:,0], Z[:,1]\n",
    "R = np.sqrt(X**2+Y**2)\n",
    "T = np.arctan2(Y,X)\n",
    "print(R)\n",
    "print(T)"
   ]
  },
  {
   "cell_type": "code",
   "execution_count": 50,
   "id": "ad4e1989-c40b-48c6-a7f4-3c6d02f3dfce",
   "metadata": {},
   "outputs": [
    {
     "name": "stdout",
     "output_type": "stream",
     "text": [
      "[0.81735916 0.         0.63724901 0.86165656 0.02245258 0.26176394\n",
      " 0.50181468 0.6874079  0.04951881 0.43691098]\n"
     ]
    }
   ],
   "source": [
    "Z = np.random.random(10)\n",
    "Z[Z.argmax()] = 0\n",
    "print(Z)"
   ]
  },
  {
   "cell_type": "code",
   "execution_count": 51,
   "id": "a9d62db0-3cad-4ccc-bcce-75069593978c",
   "metadata": {},
   "outputs": [
    {
     "name": "stdout",
     "output_type": "stream",
     "text": [
      "[[(0.  , 0.  ) (0.25, 0.  ) (0.5 , 0.  ) (0.75, 0.  ) (1.  , 0.  )]\n",
      " [(0.  , 0.25) (0.25, 0.25) (0.5 , 0.25) (0.75, 0.25) (1.  , 0.25)]\n",
      " [(0.  , 0.5 ) (0.25, 0.5 ) (0.5 , 0.5 ) (0.75, 0.5 ) (1.  , 0.5 )]\n",
      " [(0.  , 0.75) (0.25, 0.75) (0.5 , 0.75) (0.75, 0.75) (1.  , 0.75)]\n",
      " [(0.  , 1.  ) (0.25, 1.  ) (0.5 , 1.  ) (0.75, 1.  ) (1.  , 1.  )]]\n"
     ]
    }
   ],
   "source": [
    "Z = np.zeros((5,5), [('x',float),('y',float)])\n",
    "Z['x'], Z['y'] = np.meshgrid(np.linspace(0,1,5),\n",
    "                             np.linspace(0,1,5))\n",
    "print(Z)"
   ]
  },
  {
   "cell_type": "code",
   "execution_count": 52,
   "id": "d71031ec-b3fa-4f96-8f28-0a002d3cce5b",
   "metadata": {},
   "outputs": [
    {
     "name": "stdout",
     "output_type": "stream",
     "text": [
      "3638.1636371179666\n"
     ]
    }
   ],
   "source": [
    "X = np.arange(8)\n",
    "Y = X + 0.5\n",
    "C = 1.0 / np.subtract.outer(X, Y)\n",
    "print(np.linalg.det(C))"
   ]
  },
  {
   "cell_type": "code",
   "execution_count": 53,
   "id": "bcd6fc05-30fa-4bdf-b5f4-70c58367f92f",
   "metadata": {},
   "outputs": [
    {
     "name": "stdout",
     "output_type": "stream",
     "text": [
      "-128\n",
      "127\n",
      "-2147483648\n",
      "2147483647\n",
      "-9223372036854775808\n",
      "9223372036854775807\n",
      "-3.4028235e+38\n",
      "3.4028235e+38\n",
      "1.1920929e-07\n",
      "-1.7976931348623157e+308\n",
      "1.7976931348623157e+308\n",
      "2.220446049250313e-16\n"
     ]
    }
   ],
   "source": [
    "for dtype in [np.int8, np.int32, np.int64]:\n",
    "   print(np.iinfo(dtype).min)\n",
    "   print(np.iinfo(dtype).max)\n",
    "for dtype in [np.float32, np.float64]:\n",
    "   print(np.finfo(dtype).min)\n",
    "   print(np.finfo(dtype).max)\n",
    "   print(np.finfo(dtype).eps)"
   ]
  },
  {
   "cell_type": "code",
   "execution_count": 118,
   "id": "280d8c7d-f27e-4e19-aa33-7f5b864ef6cf",
   "metadata": {},
   "outputs": [
    {
     "name": "stdout",
     "output_type": "stream",
     "text": [
      "[16  8 12 19  0 15  4  4  2  4]\n"
     ]
    }
   ],
   "source": [
    "Z = np.random.randint(0, 20, 10)\n",
    "print(Z)"
   ]
  },
  {
   "cell_type": "code",
   "execution_count": 58,
   "id": "d970b130-5ab0-4fd2-a359-227d338c21b0",
   "metadata": {},
   "outputs": [
    {
     "name": "stdout",
     "output_type": "stream",
     "text": [
      "19\n"
     ]
    }
   ],
   "source": [
    "Z = np.arange(100)\n",
    "v = np.random.uniform(0,100)\n",
    "index = (np.abs(Z-v)).argmin()\n",
    "print(Z[index])"
   ]
  },
  {
   "cell_type": "code",
   "execution_count": 59,
   "id": "befd628c-c348-4cee-9b95-80e67c0b1ffc",
   "metadata": {},
   "outputs": [
    {
     "name": "stdout",
     "output_type": "stream",
     "text": [
      "[((0., 0.), (0., 0., 0.)) ((0., 0.), (0., 0., 0.))\n",
      " ((0., 0.), (0., 0., 0.)) ((0., 0.), (0., 0., 0.))\n",
      " ((0., 0.), (0., 0., 0.)) ((0., 0.), (0., 0., 0.))\n",
      " ((0., 0.), (0., 0., 0.)) ((0., 0.), (0., 0., 0.))\n",
      " ((0., 0.), (0., 0., 0.)) ((0., 0.), (0., 0., 0.))]\n"
     ]
    },
    {
     "name": "stderr",
     "output_type": "stream",
     "text": [
      "C:\\Users\\Lokda18\\AppData\\Local\\Temp\\ipykernel_10108\\274409719.py:1: FutureWarning: Passing (type, 1) or '1type' as a synonym of type is deprecated; in a future version of numpy, it will be understood as (type, (1,)) / '(1,)type'.\n",
      "  Z = np.zeros(10, [ ('position', [ ('x', float, 1),\n"
     ]
    }
   ],
   "source": [
    "Z = np.zeros(10, [ ('position', [ ('x', float, 1),\n",
    "                                  ('y', float, 1)]),\n",
    "                   ('color',    [ ('r', float, 1),\n",
    "                                  ('g', float, 1),\n",
    "                                  ('b', float, 1)])])\n",
    "print(Z)"
   ]
  },
  {
   "cell_type": "code",
   "execution_count": 60,
   "id": "fbbef070-88ea-490f-a239-972b78d7eb32",
   "metadata": {},
   "outputs": [
    {
     "name": "stdout",
     "output_type": "stream",
     "text": [
      "[[0.         0.40769679 0.99639391 0.61365486 0.68419873 0.92053685\n",
      "  0.187962   0.39400382 0.62343402 0.93708039]\n",
      " [0.40769679 0.         0.59163095 0.34170236 0.355339   0.51840232\n",
      "  0.28873096 0.34039572 0.30800655 0.57634767]\n",
      " [0.99639391 0.59163095 0.         0.62591435 0.52577429 0.22001951\n",
      "  0.84766524 0.83867987 0.55745624 0.4475044 ]\n",
      " [0.61365486 0.34170236 0.62591435 0.         0.10800862 0.44302239\n",
      "  0.58093372 0.27102273 0.07024927 0.35135878]\n",
      " [0.68419873 0.355339   0.52577429 0.10800862 0.         0.33599771\n",
      "  0.62488163 0.37152484 0.06142745 0.25668518]\n",
      " [0.92053685 0.51840232 0.22001951 0.44302239 0.33599771 0.\n",
      "  0.80318412 0.68789601 0.38085713 0.22950821]\n",
      " [0.187962   0.28873096 0.84766524 0.58093372 0.62488163 0.80318412\n",
      "  0.         0.43583482 0.56917817 0.86113396]\n",
      " [0.39400382 0.34039572 0.83867987 0.27102273 0.37152484 0.68789601\n",
      "  0.43583482 0.         0.31427733 0.62235089]\n",
      " [0.62343402 0.30800655 0.55745624 0.07024927 0.06142745 0.38085713\n",
      "  0.56917817 0.31427733 0.         0.31801824]\n",
      " [0.93708039 0.57634767 0.4475044  0.35135878 0.25668518 0.22950821\n",
      "  0.86113396 0.62235089 0.31801824 0.        ]]\n",
      "[[0.         0.2961172  0.42721957 0.49287448 0.71448797 0.23184929\n",
      "  0.64721639 0.44804075 0.73166499 0.66922221]\n",
      " [0.2961172  0.         0.367765   0.31548754 0.4419004  0.09304402\n",
      "  0.38701548 0.15606234 0.4453244  0.41295948]\n",
      " [0.42721957 0.367765   0.         0.17313043 0.47451344 0.30235712\n",
      "  0.70554146 0.38515912 0.70422812 0.40127221]\n",
      " [0.49287448 0.31548754 0.17313043 0.         0.30171222 0.29352783\n",
      "  0.5780407  0.263237   0.55322891 0.22971762]\n",
      " [0.71448797 0.4419004  0.47451344 0.30171222 0.         0.4831216\n",
      "  0.46147028 0.29222446 0.36534633 0.07677723]\n",
      " [0.23184929 0.09304402 0.30235712 0.29352783 0.4831216  0.\n",
      "  0.48002585 0.22220174 0.53353615 0.44096798]\n",
      " [0.64721639 0.38701548 0.70554146 0.5780407  0.46147028 0.48002585\n",
      "  0.         0.32113041 0.14662023 0.49748248]\n",
      " [0.44804075 0.15606234 0.38515912 0.263237   0.29222446 0.22220174\n",
      "  0.32113041 0.         0.3305955  0.27585932]\n",
      " [0.73166499 0.4453244  0.70422812 0.55322891 0.36534633 0.53353615\n",
      "  0.14662023 0.3305955  0.         0.41824888]\n",
      " [0.66922221 0.41295948 0.40127221 0.22971762 0.07677723 0.44096798\n",
      "  0.49748248 0.27585932 0.41824888 0.        ]]\n"
     ]
    }
   ],
   "source": [
    "Z = np.random.random((10,2))\n",
    "X,Y = np.atleast_2d(Z[:,0], Z[:,1])\n",
    "D = np.sqrt( (X-X.T)**2 + (Y-Y.T)**2)\n",
    "print(D)\n",
    "\n",
    "import scipy\n",
    "import scipy.spatial\n",
    "\n",
    "Z = np.random.random((10,2))\n",
    "D = scipy.spatial.distance.cdist(Z,Z)\n",
    "print(D)"
   ]
  },
  {
   "cell_type": "code",
   "execution_count": 61,
   "id": "99e9bcab-2084-4421-ac3e-3771fc156169",
   "metadata": {},
   "outputs": [
    {
     "name": "stdout",
     "output_type": "stream",
     "text": [
      "[0 1 2 3 4 5 6 7 8 9]\n"
     ]
    }
   ],
   "source": [
    "Z = np.arange(10, dtype=np.float32)\n",
    "Z = Z.astype(np.int32, copy=False)\n",
    "print(Z)"
   ]
  },
  {
   "cell_type": "code",
   "execution_count": 62,
   "id": "79df5bbd-0587-4bab-9b64-847d032b18b4",
   "metadata": {},
   "outputs": [
    {
     "name": "stdout",
     "output_type": "stream",
     "text": [
      "[[ 1  2  3  4  5]\n",
      " [ 6 -1 -1  7  8]\n",
      " [-1 -1  9 10 11]]\n"
     ]
    },
    {
     "name": "stderr",
     "output_type": "stream",
     "text": [
      "C:\\Users\\Lokda18\\AppData\\Local\\Temp\\ipykernel_10108\\583895545.py:6: DeprecationWarning: `np.int` is a deprecated alias for the builtin `int`. To silence this warning, use `int` by itself. Doing this will not modify any behavior and is safe. When replacing `np.int`, you may wish to use e.g. `np.int64` or `np.int32` to specify the precision. If you wish to review your current use, check the release note link for additional information.\n",
      "Deprecated in NumPy 1.20; for more details and guidance: https://numpy.org/devdocs/release/1.20.0-notes.html#deprecations\n",
      "  Z = np.genfromtxt(s, delimiter=\",\", dtype=np.int)\n"
     ]
    }
   ],
   "source": [
    "from io import StringIO\n",
    "\n",
    "s = StringIO(\"\"\"1, 2, 3, 4, 5\\n\n",
    "                6,  ,  , 7, 8\\n\n",
    "                 ,  , 9,10,11\\n\"\"\")\n",
    "Z = np.genfromtxt(s, delimiter=\",\", dtype=np.int)\n",
    "print(Z)"
   ]
  },
  {
   "cell_type": "code",
   "execution_count": 63,
   "id": "499427be-f550-49e5-ade5-3294d0066dff",
   "metadata": {},
   "outputs": [
    {
     "name": "stdout",
     "output_type": "stream",
     "text": [
      "(0, 0) 0\n",
      "(0, 1) 1\n",
      "(0, 2) 2\n",
      "(1, 0) 3\n",
      "(1, 1) 4\n",
      "(1, 2) 5\n",
      "(2, 0) 6\n",
      "(2, 1) 7\n",
      "(2, 2) 8\n",
      "(0, 0) 0\n",
      "(0, 1) 1\n",
      "(0, 2) 2\n",
      "(1, 0) 3\n",
      "(1, 1) 4\n",
      "(1, 2) 5\n",
      "(2, 0) 6\n",
      "(2, 1) 7\n",
      "(2, 2) 8\n"
     ]
    }
   ],
   "source": [
    "Z = np.arange(9).reshape(3,3)\n",
    "for index, value in np.ndenumerate(Z):\n",
    "    print(index, value)\n",
    "for index in np.ndindex(Z.shape):\n",
    "    print(index, Z[index])"
   ]
  },
  {
   "cell_type": "code",
   "execution_count": 64,
   "id": "21eb14be-4224-4fc8-bec6-13dd9d9bff18",
   "metadata": {},
   "outputs": [
    {
     "name": "stdout",
     "output_type": "stream",
     "text": [
      "[[0.36787944 0.44822088 0.51979489 0.57375342 0.60279818 0.60279818\n",
      "  0.57375342 0.51979489 0.44822088 0.36787944]\n",
      " [0.44822088 0.54610814 0.63331324 0.69905581 0.73444367 0.73444367\n",
      "  0.69905581 0.63331324 0.54610814 0.44822088]\n",
      " [0.51979489 0.63331324 0.73444367 0.81068432 0.85172308 0.85172308\n",
      "  0.81068432 0.73444367 0.63331324 0.51979489]\n",
      " [0.57375342 0.69905581 0.81068432 0.89483932 0.9401382  0.9401382\n",
      "  0.89483932 0.81068432 0.69905581 0.57375342]\n",
      " [0.60279818 0.73444367 0.85172308 0.9401382  0.98773022 0.98773022\n",
      "  0.9401382  0.85172308 0.73444367 0.60279818]\n",
      " [0.60279818 0.73444367 0.85172308 0.9401382  0.98773022 0.98773022\n",
      "  0.9401382  0.85172308 0.73444367 0.60279818]\n",
      " [0.57375342 0.69905581 0.81068432 0.89483932 0.9401382  0.9401382\n",
      "  0.89483932 0.81068432 0.69905581 0.57375342]\n",
      " [0.51979489 0.63331324 0.73444367 0.81068432 0.85172308 0.85172308\n",
      "  0.81068432 0.73444367 0.63331324 0.51979489]\n",
      " [0.44822088 0.54610814 0.63331324 0.69905581 0.73444367 0.73444367\n",
      "  0.69905581 0.63331324 0.54610814 0.44822088]\n",
      " [0.36787944 0.44822088 0.51979489 0.57375342 0.60279818 0.60279818\n",
      "  0.57375342 0.51979489 0.44822088 0.36787944]]\n"
     ]
    }
   ],
   "source": [
    "X, Y = np.meshgrid(np.linspace(-1,1,10), np.linspace(-1,1,10))\n",
    "D = np.sqrt(X*X+Y*Y)\n",
    "sigma, mu = 1.0, 0.0\n",
    "G = np.exp(-( (D-mu)**2 / ( 2.0 * sigma**2 ) ) )\n",
    "print(G)"
   ]
  },
  {
   "cell_type": "code",
   "execution_count": 66,
   "id": "8b4e795a-6157-452f-9378-438e4501f70a",
   "metadata": {},
   "outputs": [
    {
     "name": "stdout",
     "output_type": "stream",
     "text": [
      "[[0. 0. 0. 0. 0. 0. 0. 1. 0. 0.]\n",
      " [0. 0. 0. 0. 0. 0. 0. 0. 0. 0.]\n",
      " [0. 0. 0. 0. 0. 0. 0. 0. 0. 0.]\n",
      " [0. 0. 0. 0. 0. 0. 0. 0. 0. 0.]\n",
      " [0. 0. 0. 0. 0. 0. 0. 0. 0. 0.]\n",
      " [0. 0. 0. 0. 0. 0. 0. 0. 0. 0.]\n",
      " [0. 0. 0. 0. 0. 0. 0. 0. 1. 0.]\n",
      " [0. 0. 0. 0. 0. 0. 0. 0. 0. 1.]\n",
      " [0. 0. 0. 0. 0. 0. 0. 0. 0. 0.]\n",
      " [0. 0. 0. 0. 0. 0. 0. 0. 0. 0.]]\n"
     ]
    }
   ],
   "source": [
    "n = 10\n",
    "p = 3\n",
    "Z = np.zeros((n,n))\n",
    "np.put(Z, np.random.choice(range(n*n), p, replace=False),1)\n",
    "print(Z)"
   ]
  },
  {
   "cell_type": "code",
   "execution_count": 67,
   "id": "6985420a-ae46-46e0-acf7-89e4d12b9335",
   "metadata": {},
   "outputs": [
    {
     "name": "stdout",
     "output_type": "stream",
     "text": [
      "[[ 6.15021854e-01 -4.49025171e-03 -2.65774948e-01  4.70419788e-02\n",
      "   5.53573000e-01 -2.85432020e-01 -2.68389267e-01 -1.56448747e-01\n",
      "   2.17878991e-02 -2.56889498e-01]\n",
      " [ 4.85871998e-02  2.55440725e-02 -3.30215280e-01  3.43391943e-01\n",
      "   3.20317597e-01 -3.09311915e-01  1.88743152e-01 -2.43892418e-01\n",
      "  -1.60731884e-01  1.17567534e-01]\n",
      " [ 2.74532236e-01  3.66242147e-01  2.94010100e-01  4.51580943e-02\n",
      "   8.98846575e-02 -1.96423884e-01 -3.02697515e-01  3.88052578e-01\n",
      "  -5.34679871e-01 -4.24078544e-01]\n",
      " [ 3.87641720e-01 -2.67557477e-01  7.55948972e-03 -3.56984303e-01\n",
      "   1.18875511e-01 -2.79206337e-01 -2.04331657e-01  2.54881424e-01\n",
      "  -3.79162403e-02  3.77037869e-01]\n",
      " [-1.93840025e-04  5.17736388e-02  1.55635725e-01 -1.95986609e-01\n",
      "  -1.48766667e-01  2.34730914e-01 -2.70528737e-01  5.77644511e-01\n",
      "  -1.77063133e-01 -2.27245802e-01]]\n"
     ]
    }
   ],
   "source": [
    "X = np.random.rand(5, 10)\n",
    "Y = X - X.mean(axis=1, keepdims=True)\n",
    "Y = X - X.mean(axis=1).reshape(-1, 1)\n",
    "print(Y)"
   ]
  },
  {
   "cell_type": "code",
   "execution_count": 68,
   "id": "86e5e9b1-8136-4b81-958a-5ced2108f89e",
   "metadata": {},
   "outputs": [
    {
     "name": "stdout",
     "output_type": "stream",
     "text": [
      "[[2 7 9]\n",
      " [6 4 0]\n",
      " [1 5 8]]\n",
      "[[6 4 0]\n",
      " [1 5 8]\n",
      " [2 7 9]]\n"
     ]
    }
   ],
   "source": [
    "Z = np.random.randint(0,10,(3,3))\n",
    "print(Z)\n",
    "print(Z[Z[:,1].argsort()])"
   ]
  },
  {
   "cell_type": "code",
   "execution_count": 69,
   "id": "f0ccdd00-7a9b-42ad-920f-3942cdf0664c",
   "metadata": {},
   "outputs": [
    {
     "name": "stdout",
     "output_type": "stream",
     "text": [
      "False\n"
     ]
    }
   ],
   "source": [
    "Z = np.random.randint(0,3,(3,10))\n",
    "print((~Z.any(axis=0)).any())"
   ]
  },
  {
   "cell_type": "code",
   "execution_count": 70,
   "id": "804be13b-c523-4626-8549-578530ae7e66",
   "metadata": {},
   "outputs": [
    {
     "name": "stdout",
     "output_type": "stream",
     "text": [
      "0.5095543746282226\n"
     ]
    }
   ],
   "source": [
    "Z = np.random.uniform(0,1,10)\n",
    "z = 0.5\n",
    "m = Z.flat[np.abs(Z - z).argmin()]\n",
    "print(m)"
   ]
  },
  {
   "cell_type": "code",
   "execution_count": 71,
   "id": "2bf92522-a58e-4ab6-9ff1-919db2bdd677",
   "metadata": {},
   "outputs": [
    {
     "name": "stdout",
     "output_type": "stream",
     "text": [
      "[[0 1 2]\n",
      " [1 2 3]\n",
      " [2 3 4]]\n"
     ]
    }
   ],
   "source": [
    "A = np.arange(3).reshape(3,1)\n",
    "B = np.arange(3).reshape(1,3)\n",
    "it = np.nditer([A,B,None])\n",
    "for x,y,z in it: z[...] = x + y\n",
    "print(it.operands[2])"
   ]
  },
  {
   "cell_type": "code",
   "execution_count": 72,
   "id": "db3fe3b8-54ab-4e2e-bb52-4728b9a939d8",
   "metadata": {},
   "outputs": [
    {
     "name": "stdout",
     "output_type": "stream",
     "text": [
      "range_10\n"
     ]
    }
   ],
   "source": [
    "class NamedArray(np.ndarray):\n",
    "    def __new__(cls, array, name=\"no name\"):\n",
    "        obj = np.asarray(array).view(cls)\n",
    "        obj.name = name\n",
    "        return obj\n",
    "    def __array_finalize__(self, obj):\n",
    "        if obj is None: return\n",
    "        self.info = getattr(obj, 'name', \"no name\")\n",
    "\n",
    "Z = NamedArray(np.arange(10), \"range_10\")\n",
    "print (Z.name)"
   ]
  },
  {
   "cell_type": "code",
   "execution_count": 73,
   "id": "34c6670c-b252-4c48-a196-a9aaa80b0f9e",
   "metadata": {},
   "outputs": [
    {
     "name": "stdout",
     "output_type": "stream",
     "text": [
      "[1. 6. 5. 2. 3. 3. 5. 3. 1. 1.]\n",
      "[ 1. 11.  9.  3.  5.  5.  9.  5.  1.  1.]\n"
     ]
    }
   ],
   "source": [
    "Z = np.ones(10)\n",
    "I = np.random.randint(0,len(Z),20)\n",
    "Z += np.bincount(I, minlength=len(Z))\n",
    "print(Z)\n",
    "np.add.at(Z, I, 1)\n",
    "print(Z)"
   ]
  },
  {
   "cell_type": "code",
   "execution_count": 74,
   "id": "d88a2644-7d53-435d-9bbf-9718c7b919dd",
   "metadata": {},
   "outputs": [
    {
     "name": "stdout",
     "output_type": "stream",
     "text": [
      "[0. 7. 0. 6. 5. 0. 0. 0. 0. 3.]\n"
     ]
    }
   ],
   "source": [
    "X = [1,2,3,4,5,6]\n",
    "I = [1,3,9,3,4,1]\n",
    "F = np.bincount(I,X)\n",
    "print(F)"
   ]
  },
  {
   "cell_type": "code",
   "execution_count": 75,
   "id": "aabd3639-e247-48c2-b418-5b43ab7b488a",
   "metadata": {},
   "outputs": [
    {
     "name": "stdout",
     "output_type": "stream",
     "text": [
      "8\n"
     ]
    }
   ],
   "source": [
    "w,h = 16,16\n",
    "I = np.random.randint(0,2,(h,w,3)).astype(np.ubyte)\n",
    "F = I[...,0]*(256*256) + I[...,1]*256 +I[...,2]\n",
    "n = len(np.unique(F))\n",
    "print(n)"
   ]
  },
  {
   "cell_type": "code",
   "execution_count": 76,
   "id": "d686dca3-5c23-495f-9e4a-d64b6ba5de4d",
   "metadata": {},
   "outputs": [
    {
     "name": "stdout",
     "output_type": "stream",
     "text": [
      "[[49 52 61 59]\n",
      " [55 51 60 60]\n",
      " [53 45 39 69]]\n",
      "[[49 52 61 59]\n",
      " [55 51 60 60]\n",
      " [53 45 39 69]]\n"
     ]
    }
   ],
   "source": [
    "A = np.random.randint(0,10,(3,4,3,4))\n",
    "sum = A.sum(axis=(-2,-1))\n",
    "print(sum)\n",
    "sum = A.reshape(A.shape[:-2] + (-1,)).sum(axis=-1)\n",
    "print(sum)"
   ]
  },
  {
   "cell_type": "code",
   "execution_count": 77,
   "id": "1f1cde3c-dced-4208-9eac-b4af1db1d3aa",
   "metadata": {},
   "outputs": [
    {
     "name": "stdout",
     "output_type": "stream",
     "text": [
      "[0.40022621 0.41216903 0.63985163 0.380479   0.52396789 0.47492722\n",
      " 0.64211167 0.4339265  0.39931495 0.43736705]\n",
      "0    0.400226\n",
      "1    0.412169\n",
      "2    0.639852\n",
      "3    0.380479\n",
      "4    0.523968\n",
      "5    0.474927\n",
      "6    0.642112\n",
      "7    0.433927\n",
      "8    0.399315\n",
      "9    0.437367\n",
      "dtype: float64\n"
     ]
    }
   ],
   "source": [
    "D = np.random.uniform(0,1,100)\n",
    "S = np.random.randint(0,10,100)\n",
    "D_sums = np.bincount(S, weights=D)\n",
    "D_counts = np.bincount(S)\n",
    "D_means = D_sums / D_counts\n",
    "print(D_means)\n",
    "import pandas as pd\n",
    "print(pd.Series(D).groupby(S).mean())"
   ]
  },
  {
   "cell_type": "code",
   "execution_count": 78,
   "id": "f4e7ce5b-c326-4ebc-8bac-eb9c6b92d7a6",
   "metadata": {},
   "outputs": [
    {
     "data": {
      "text/plain": [
       "array([0.68676671, 0.85216553, 1.02017075, 1.91911197, 0.53161565])"
      ]
     },
     "execution_count": 78,
     "metadata": {},
     "output_type": "execute_result"
    }
   ],
   "source": [
    "A = np.random.uniform(0,1,(5,5))\n",
    "B = np.random.uniform(0,1,(5,5))  \n",
    "np.diag(np.dot(A, B))\n",
    "np.sum(A * B.T, axis=1)\n",
    "np.einsum(\"ij,ji->i\", A, B)"
   ]
  },
  {
   "cell_type": "code",
   "execution_count": 79,
   "id": "b34a3d11-931d-421f-912d-28ca0b8bace9",
   "metadata": {},
   "outputs": [
    {
     "name": "stdout",
     "output_type": "stream",
     "text": [
      "[1. 0. 0. 0. 2. 0. 0. 0. 3. 0. 0. 0. 4. 0. 0. 0. 5.]\n"
     ]
    }
   ],
   "source": [
    "Z = np.array([1,2,3,4,5])\n",
    "nz = 3\n",
    "Z0 = np.zeros(len(Z) + (len(Z)-1)*(nz))\n",
    "Z0[::nz+1] = Z\n",
    "print(Z0)"
   ]
  },
  {
   "cell_type": "code",
   "execution_count": 80,
   "id": "8b688218-18b1-4823-9ea5-3f0e1037471c",
   "metadata": {},
   "outputs": [
    {
     "name": "stdout",
     "output_type": "stream",
     "text": [
      "[[[2. 2. 2.]\n",
      "  [2. 2. 2.]\n",
      "  [2. 2. 2.]\n",
      "  [2. 2. 2.]\n",
      "  [2. 2. 2.]]\n",
      "\n",
      " [[2. 2. 2.]\n",
      "  [2. 2. 2.]\n",
      "  [2. 2. 2.]\n",
      "  [2. 2. 2.]\n",
      "  [2. 2. 2.]]\n",
      "\n",
      " [[2. 2. 2.]\n",
      "  [2. 2. 2.]\n",
      "  [2. 2. 2.]\n",
      "  [2. 2. 2.]\n",
      "  [2. 2. 2.]]\n",
      "\n",
      " [[2. 2. 2.]\n",
      "  [2. 2. 2.]\n",
      "  [2. 2. 2.]\n",
      "  [2. 2. 2.]\n",
      "  [2. 2. 2.]]\n",
      "\n",
      " [[2. 2. 2.]\n",
      "  [2. 2. 2.]\n",
      "  [2. 2. 2.]\n",
      "  [2. 2. 2.]\n",
      "  [2. 2. 2.]]]\n"
     ]
    }
   ],
   "source": [
    "A = np.ones((5,5,3))\n",
    "B = 2*np.ones((5,5))\n",
    "print(A * B[:,:,None])"
   ]
  },
  {
   "cell_type": "code",
   "execution_count": 81,
   "id": "ee37b982-5768-4d72-9162-431d87770c0d",
   "metadata": {},
   "outputs": [
    {
     "name": "stdout",
     "output_type": "stream",
     "text": [
      "[[ 5  6  7  8  9]\n",
      " [ 0  1  2  3  4]\n",
      " [10 11 12 13 14]\n",
      " [15 16 17 18 19]\n",
      " [20 21 22 23 24]]\n"
     ]
    }
   ],
   "source": [
    "A = np.arange(25).reshape(5,5)\n",
    "A[[0,1]] = A[[1,0]]\n",
    "print(A)"
   ]
  },
  {
   "cell_type": "code",
   "execution_count": 82,
   "id": "89d98a0a-c9be-415a-b5ba-bde729a664f7",
   "metadata": {},
   "outputs": [
    {
     "name": "stdout",
     "output_type": "stream",
     "text": [
      "[( 0, 42) ( 0, 43) ( 1, 31) ( 1, 66) ( 4, 32) ( 4, 67) ( 4, 77) ( 4, 80)\n",
      " ( 4, 83) ( 4, 88) ( 7, 10) ( 7, 34) ( 8, 36) ( 8, 76) (10, 34) (15, 20)\n",
      " (15, 48) (20, 48) (31, 66) (32, 88) (33, 71) (33, 75) (36, 76) (40, 83)\n",
      " (40, 84) (42, 43) (67, 77) (71, 75) (80, 83) (83, 84)]\n"
     ]
    }
   ],
   "source": [
    "faces = np.random.randint(0,100,(10,3))\n",
    "F = np.roll(faces.repeat(2,axis=1),-1,axis=1)\n",
    "F = F.reshape(len(F)*3,2)\n",
    "F = np.sort(F,axis=1)\n",
    "G = F.view( dtype=[('p0',F.dtype),('p1',F.dtype)] )\n",
    "G = np.unique(G)\n",
    "print(G)"
   ]
  },
  {
   "cell_type": "code",
   "execution_count": 83,
   "id": "5c83dc8d-96bc-4545-b93f-b242a35bf1d8",
   "metadata": {},
   "outputs": [
    {
     "name": "stdout",
     "output_type": "stream",
     "text": [
      "[1 1 2 3 4 4 6]\n"
     ]
    }
   ],
   "source": [
    "C = np.bincount([1,1,2,3,4,4,6])\n",
    "A = np.repeat(np.arange(len(C)), C)\n",
    "print(A)"
   ]
  },
  {
   "cell_type": "code",
   "execution_count": 84,
   "id": "28f54374-0c50-42f0-baec-d5c619f5c8b1",
   "metadata": {},
   "outputs": [
    {
     "name": "stdout",
     "output_type": "stream",
     "text": [
      "[ 1.  2.  3.  4.  5.  6.  7.  8.  9. 10. 11. 12. 13. 14. 15. 16. 17. 18.]\n"
     ]
    }
   ],
   "source": [
    "def moving_average(a, n=3) :\n",
    "    ret = np.cumsum(a, dtype=float)\n",
    "    ret[n:] = ret[n:] - ret[:-n]\n",
    "    return ret[n - 1:] / n\n",
    "Z = np.arange(20)\n",
    "print(moving_average(Z, n=3))\n"
   ]
  },
  {
   "cell_type": "code",
   "execution_count": 85,
   "id": "a0f53301-7bb9-4173-99af-efac8a29f778",
   "metadata": {},
   "outputs": [
    {
     "name": "stdout",
     "output_type": "stream",
     "text": [
      "[[0 1 2]\n",
      " [1 2 3]\n",
      " [2 3 4]\n",
      " [3 4 5]\n",
      " [4 5 6]\n",
      " [5 6 7]\n",
      " [6 7 8]\n",
      " [7 8 9]]\n"
     ]
    }
   ],
   "source": [
    "from numpy.lib import stride_tricks\n",
    "\n",
    "def rolling(a, window):\n",
    "    shape = (a.size - window + 1, window)\n",
    "    strides = (a.itemsize, a.itemsize)\n",
    "    return stride_tricks.as_strided(a, shape=shape, strides=strides)\n",
    "Z = rolling(np.arange(10), 3)\n",
    "print(Z)"
   ]
  },
  {
   "cell_type": "code",
   "execution_count": 86,
   "id": "51568b6c-dc26-48c8-aed3-eb20f236bad7",
   "metadata": {},
   "outputs": [
    {
     "data": {
      "text/plain": [
       "array([-0.20755505,  0.29899944, -0.11503332, -0.39726308, -0.98473494,\n",
       "       -0.93714996,  0.94607753, -0.93757893,  0.12124554, -0.43903717,\n",
       "        0.412373  ,  0.0201585 ,  0.64615392, -0.8433304 , -0.09810518,\n",
       "       -0.29747912, -0.38724545, -0.84092027, -0.00291052, -0.27729755,\n",
       "       -0.50396318,  0.95870533,  0.51533867,  0.26471545,  0.69124571,\n",
       "       -0.5698039 , -0.69224503, -0.91880956, -0.45141995, -0.7125227 ,\n",
       "       -0.91492919,  0.6014941 ,  0.807981  , -0.30317967, -0.99129558,\n",
       "        0.39266839,  0.73549332,  0.50445504, -0.23336621,  0.52754177,\n",
       "       -0.32224577,  0.81636442, -0.78524628, -0.65061649,  0.94493454,\n",
       "        0.17951133, -0.01389903,  0.91789349,  0.32910283, -0.14119588,\n",
       "       -0.54122664,  0.48921723, -0.86245045, -0.42480199,  0.88415751,\n",
       "        0.18120588,  0.90970063, -0.24335245, -0.50103892,  0.90734399,\n",
       "        0.86183661,  0.08920354, -0.24396412,  0.62052103, -0.40169893,\n",
       "        0.666136  ,  0.50729348, -0.16045845,  0.91028333,  0.82024281,\n",
       "       -0.12300263, -0.38692761, -0.61549798,  0.05068042,  0.68695372,\n",
       "       -0.84160849,  0.52976901, -0.10649058,  0.41697957,  0.07562775,\n",
       "       -0.45109334,  0.75753823, -0.27200434, -0.99118195,  0.27272016,\n",
       "       -0.50534724, -0.76368658,  0.77202145, -0.6171918 ,  0.82241136,\n",
       "       -0.44030462, -0.60169291,  0.2604431 ,  0.2462992 ,  0.15798368,\n",
       "        0.46534669, -0.25558809,  0.33189097,  0.01351724,  0.33610251])"
      ]
     },
     "execution_count": 86,
     "metadata": {},
     "output_type": "execute_result"
    }
   ],
   "source": [
    "Z = np.random.randint(0,2,100)\n",
    "np.logical_not(Z, out=Z)\n",
    "\n",
    "Z = np.random.uniform(-1.0,1.0,100)\n",
    "np.negative(Z, out=Z)"
   ]
  },
  {
   "cell_type": "code",
   "execution_count": 87,
   "id": "e274b499-785f-4cea-9ad4-8bdaef68946e",
   "metadata": {},
   "outputs": [
    {
     "name": "stdout",
     "output_type": "stream",
     "text": [
      "[0.29802095 7.39587579 5.61420927 1.53080254 8.11582248 8.58220591\n",
      " 2.72646744 8.07358764 2.26185277 0.89923524]\n"
     ]
    }
   ],
   "source": [
    "def distance(P0, P1, p):\n",
    "    T = P1 - P0\n",
    "    L = (T**2).sum(axis=1)\n",
    "    U = -((P0[:,0]-p[...,0])*T[:,0] + (P0[:,1]-p[...,1])*T[:,1]) / L\n",
    "    U = U.reshape(len(U),1)\n",
    "    D = P0 + U*T - p\n",
    "    return np.sqrt((D**2).sum(axis=1))\n",
    "\n",
    "P0 = np.random.uniform(-10,10,(10,2))\n",
    "P1 = np.random.uniform(-10,10,(10,2))\n",
    "p  = np.random.uniform(-10,10,( 1,2))\n",
    "print(distance(P0, P1, p))"
   ]
  },
  {
   "cell_type": "code",
   "execution_count": 88,
   "id": "289222eb-b093-4b21-8d1b-445263a4fb2e",
   "metadata": {},
   "outputs": [
    {
     "name": "stdout",
     "output_type": "stream",
     "text": [
      "[[13.48928341  8.1711509   5.09900556  2.84715739  5.15349412  2.24699458\n",
      "   8.03483986 12.75773939 11.38970166  9.6590949 ]\n",
      " [ 2.18587208 14.99568143  9.45244922  2.6560038  10.49584294 10.94446473\n",
      "   4.61102177  3.04137093 17.49776706 18.3715229 ]\n",
      " [ 4.94008453  2.17006472  1.74255698 10.20829465 10.09513749  1.46848183\n",
      "  10.25389539  5.49588407  4.53684308  6.08054845]\n",
      " [ 3.75957204  1.01459176  2.21380589 12.02751684  6.97908769  2.47699093\n",
      "   8.59700021  4.82919301  1.47267185  2.60411551]\n",
      " [ 5.32106407  1.12563906  1.2423878  12.83799468  8.5092902   1.74935665\n",
      "  10.200625    6.31983393  1.28211453  2.71353649]\n",
      " [ 0.42967598  8.09986335  4.46556694  3.69389736  9.03714468  5.19325167\n",
      "   6.38461196  0.40031571 10.59270398 11.58819264]\n",
      " [10.01552925  0.03266209 10.78115428  4.87596987  6.51860795  8.89361614\n",
      "   5.54947354  8.32120059  3.15597708  1.64121575]\n",
      " [ 1.96214799  9.61864769  4.30702852  1.44897482  7.50164659  5.47968429\n",
      "   4.11167181  2.07289191 12.20836666 12.82089155]\n",
      " [12.89319163 13.16224804  0.23347191  6.28284716  1.55229243  3.25946859\n",
      "   6.73811161 12.89746625 16.25747277 14.92700059]\n",
      " [ 2.03735124  2.12537009  0.31080064  8.88850419  7.10004592  0.14501757\n",
      "   7.23868646  2.76022069  4.64459203  5.61640333]]\n"
     ]
    }
   ],
   "source": [
    "P0 = np.random.uniform(-10, 10, (10,2))\n",
    "P1 = np.random.uniform(-10,10,(10,2))\n",
    "p = np.random.uniform(-10, 10, (10,2))\n",
    "print(np.array([distance(P0,P1,p_i) for p_i in p]))"
   ]
  },
  {
   "cell_type": "code",
   "execution_count": 89,
   "id": "4d632c8e-b8bd-4a91-8ae2-0ba53fecb441",
   "metadata": {},
   "outputs": [
    {
     "name": "stdout",
     "output_type": "stream",
     "text": [
      "[[4 5 9 2 8 8 1 9 8 1]\n",
      " [8 0 0 8 0 6 9 7 0 0]\n",
      " [5 3 4 8 7 8 5 3 2 9]\n",
      " [3 6 4 3 5 2 3 4 8 2]\n",
      " [9 8 5 5 1 4 8 9 4 9]\n",
      " [5 6 0 5 1 5 9 4 0 5]\n",
      " [9 2 4 3 8 2 9 3 1 0]\n",
      " [5 6 1 0 4 4 4 5 2 0]\n",
      " [6 7 9 8 2 3 8 8 7 0]\n",
      " [8 1 9 0 0 5 4 0 7 0]]\n",
      "[[0 0 0 0 0]\n",
      " [0 4 5 9 2]\n",
      " [0 8 0 0 8]\n",
      " [0 5 3 4 8]\n",
      " [0 3 6 4 3]]\n"
     ]
    },
    {
     "name": "stderr",
     "output_type": "stream",
     "text": [
      "C:\\Users\\Lokda18\\AppData\\Local\\Temp\\ipykernel_10108\\1159162857.py:23: FutureWarning: Using a non-tuple sequence for multidimensional indexing is deprecated; use `arr[tuple(seq)]` instead of `arr[seq]`. In the future this will be interpreted as an array index, `arr[np.array(seq)]`, which will result either in an error or a different result.\n",
      "  R[r] = Z[z]\n"
     ]
    }
   ],
   "source": [
    "Z = np.random.randint(0,10,(10,10))\n",
    "shape = (5,5)\n",
    "fill  = 0\n",
    "position = (1,1)\n",
    "\n",
    "R = np.ones(shape, dtype=Z.dtype)*fill\n",
    "P  = np.array(list(position)).astype(int)\n",
    "Rs = np.array(list(R.shape)).astype(int)\n",
    "Zs = np.array(list(Z.shape)).astype(int)\n",
    "\n",
    "R_start = np.zeros((len(shape),)).astype(int)\n",
    "R_stop  = np.array(list(shape)).astype(int)\n",
    "Z_start = (P-Rs//2)\n",
    "Z_stop  = (P+Rs//2)+Rs%2\n",
    "\n",
    "R_start = (R_start - np.minimum(Z_start,0)).tolist()\n",
    "Z_start = (np.maximum(Z_start,0)).tolist()\n",
    "R_stop = np.maximum(R_start, (R_stop - np.maximum(Z_stop-Zs,0))).tolist()\n",
    "Z_stop = (np.minimum(Z_stop,Zs)).tolist()\n",
    "\n",
    "r = [slice(start,stop) for start,stop in zip(R_start,R_stop)]\n",
    "z = [slice(start,stop) for start,stop in zip(Z_start,Z_stop)]\n",
    "R[r] = Z[z]\n",
    "print(Z)\n",
    "print(R)"
   ]
  },
  {
   "cell_type": "code",
   "execution_count": 90,
   "id": "3d01dde7-3722-4732-a45a-5607d7e32605",
   "metadata": {},
   "outputs": [
    {
     "name": "stdout",
     "output_type": "stream",
     "text": [
      "[[ 1  2  3  4]\n",
      " [ 2  3  4  5]\n",
      " [ 3  4  5  6]\n",
      " [ 4  5  6  7]\n",
      " [ 5  6  7  8]\n",
      " [ 6  7  8  9]\n",
      " [ 7  8  9 10]\n",
      " [ 8  9 10 11]\n",
      " [ 9 10 11 12]\n",
      " [10 11 12 13]\n",
      " [11 12 13 14]]\n"
     ]
    }
   ],
   "source": [
    "Z = np.arange(1,15,dtype=np.uint32)\n",
    "R = stride_tricks.as_strided(Z,(11,4),(4,4))\n",
    "print(R)"
   ]
  },
  {
   "cell_type": "code",
   "execution_count": 91,
   "id": "a5d9b68a-6643-4cab-97e2-a00d4314e793",
   "metadata": {},
   "outputs": [
    {
     "name": "stdout",
     "output_type": "stream",
     "text": [
      "10\n"
     ]
    }
   ],
   "source": [
    "Z = np.random.uniform(0,1,(10,10))\n",
    "U, S, V = np.linalg.svd(Z) # Singular Value Decomposition\n",
    "rank = np.sum(S > 1e-10)\n",
    "print(rank)"
   ]
  },
  {
   "cell_type": "code",
   "execution_count": 93,
   "id": "46e90958-ff52-4c01-a5d6-d7ab712c23a2",
   "metadata": {},
   "outputs": [
    {
     "name": "stdout",
     "output_type": "stream",
     "text": [
      "3\n"
     ]
    }
   ],
   "source": [
    "Z = np.random.randint(0,10,50)\n",
    "print(np.bincount(Z).argmax())"
   ]
  },
  {
   "cell_type": "code",
   "execution_count": 94,
   "id": "9e50b0c4-2e82-435a-b707-aea5bac391d6",
   "metadata": {},
   "outputs": [
    {
     "name": "stdout",
     "output_type": "stream",
     "text": [
      "[[[[0 4 1]\n",
      "   [1 2 2]\n",
      "   [3 3 1]]\n",
      "\n",
      "  [[4 1 2]\n",
      "   [2 2 1]\n",
      "   [3 1 3]]\n",
      "\n",
      "  [[1 2 3]\n",
      "   [2 1 1]\n",
      "   [1 3 1]]\n",
      "\n",
      "  [[2 3 3]\n",
      "   [1 1 1]\n",
      "   [3 1 3]]\n",
      "\n",
      "  [[3 3 2]\n",
      "   [1 1 3]\n",
      "   [1 3 1]]\n",
      "\n",
      "  [[3 2 0]\n",
      "   [1 3 4]\n",
      "   [3 1 4]]\n",
      "\n",
      "  [[2 0 0]\n",
      "   [3 4 4]\n",
      "   [1 4 4]]\n",
      "\n",
      "  [[0 0 0]\n",
      "   [4 4 0]\n",
      "   [4 4 4]]]\n",
      "\n",
      "\n",
      " [[[1 2 2]\n",
      "   [3 3 1]\n",
      "   [3 4 2]]\n",
      "\n",
      "  [[2 2 1]\n",
      "   [3 1 3]\n",
      "   [4 2 4]]\n",
      "\n",
      "  [[2 1 1]\n",
      "   [1 3 1]\n",
      "   [2 4 1]]\n",
      "\n",
      "  [[1 1 1]\n",
      "   [3 1 3]\n",
      "   [4 1 4]]\n",
      "\n",
      "  [[1 1 3]\n",
      "   [1 3 1]\n",
      "   [1 4 4]]\n",
      "\n",
      "  [[1 3 4]\n",
      "   [3 1 4]\n",
      "   [4 4 4]]\n",
      "\n",
      "  [[3 4 4]\n",
      "   [1 4 4]\n",
      "   [4 4 0]]\n",
      "\n",
      "  [[4 4 0]\n",
      "   [4 4 4]\n",
      "   [4 0 1]]]\n",
      "\n",
      "\n",
      " [[[3 3 1]\n",
      "   [3 4 2]\n",
      "   [3 3 4]]\n",
      "\n",
      "  [[3 1 3]\n",
      "   [4 2 4]\n",
      "   [3 4 4]]\n",
      "\n",
      "  [[1 3 1]\n",
      "   [2 4 1]\n",
      "   [4 4 2]]\n",
      "\n",
      "  [[3 1 3]\n",
      "   [4 1 4]\n",
      "   [4 2 4]]\n",
      "\n",
      "  [[1 3 1]\n",
      "   [1 4 4]\n",
      "   [2 4 4]]\n",
      "\n",
      "  [[3 1 4]\n",
      "   [4 4 4]\n",
      "   [4 4 1]]\n",
      "\n",
      "  [[1 4 4]\n",
      "   [4 4 0]\n",
      "   [4 1 4]]\n",
      "\n",
      "  [[4 4 4]\n",
      "   [4 0 1]\n",
      "   [1 4 0]]]\n",
      "\n",
      "\n",
      " [[[3 4 2]\n",
      "   [3 3 4]\n",
      "   [2 2 4]]\n",
      "\n",
      "  [[4 2 4]\n",
      "   [3 4 4]\n",
      "   [2 4 2]]\n",
      "\n",
      "  [[2 4 1]\n",
      "   [4 4 2]\n",
      "   [4 2 4]]\n",
      "\n",
      "  [[4 1 4]\n",
      "   [4 2 4]\n",
      "   [2 4 0]]\n",
      "\n",
      "  [[1 4 4]\n",
      "   [2 4 4]\n",
      "   [4 0 1]]\n",
      "\n",
      "  [[4 4 4]\n",
      "   [4 4 1]\n",
      "   [0 1 3]]\n",
      "\n",
      "  [[4 4 0]\n",
      "   [4 1 4]\n",
      "   [1 3 3]]\n",
      "\n",
      "  [[4 0 1]\n",
      "   [1 4 0]\n",
      "   [3 3 2]]]\n",
      "\n",
      "\n",
      " [[[3 3 4]\n",
      "   [2 2 4]\n",
      "   [2 4 1]]\n",
      "\n",
      "  [[3 4 4]\n",
      "   [2 4 2]\n",
      "   [4 1 4]]\n",
      "\n",
      "  [[4 4 2]\n",
      "   [4 2 4]\n",
      "   [1 4 3]]\n",
      "\n",
      "  [[4 2 4]\n",
      "   [2 4 0]\n",
      "   [4 3 4]]\n",
      "\n",
      "  [[2 4 4]\n",
      "   [4 0 1]\n",
      "   [3 4 3]]\n",
      "\n",
      "  [[4 4 1]\n",
      "   [0 1 3]\n",
      "   [4 3 4]]\n",
      "\n",
      "  [[4 1 4]\n",
      "   [1 3 3]\n",
      "   [3 4 4]]\n",
      "\n",
      "  [[1 4 0]\n",
      "   [3 3 2]\n",
      "   [4 4 4]]]\n",
      "\n",
      "\n",
      " [[[2 2 4]\n",
      "   [2 4 1]\n",
      "   [3 4 2]]\n",
      "\n",
      "  [[2 4 2]\n",
      "   [4 1 4]\n",
      "   [4 2 0]]\n",
      "\n",
      "  [[4 2 4]\n",
      "   [1 4 3]\n",
      "   [2 0 4]]\n",
      "\n",
      "  [[2 4 0]\n",
      "   [4 3 4]\n",
      "   [0 4 0]]\n",
      "\n",
      "  [[4 0 1]\n",
      "   [3 4 3]\n",
      "   [4 0 2]]\n",
      "\n",
      "  [[0 1 3]\n",
      "   [4 3 4]\n",
      "   [0 2 4]]\n",
      "\n",
      "  [[1 3 3]\n",
      "   [3 4 4]\n",
      "   [2 4 3]]\n",
      "\n",
      "  [[3 3 2]\n",
      "   [4 4 4]\n",
      "   [4 3 4]]]\n",
      "\n",
      "\n",
      " [[[2 4 1]\n",
      "   [3 4 2]\n",
      "   [2 2 0]]\n",
      "\n",
      "  [[4 1 4]\n",
      "   [4 2 0]\n",
      "   [2 0 3]]\n",
      "\n",
      "  [[1 4 3]\n",
      "   [2 0 4]\n",
      "   [0 3 0]]\n",
      "\n",
      "  [[4 3 4]\n",
      "   [0 4 0]\n",
      "   [3 0 1]]\n",
      "\n",
      "  [[3 4 3]\n",
      "   [4 0 2]\n",
      "   [0 1 2]]\n",
      "\n",
      "  [[4 3 4]\n",
      "   [0 2 4]\n",
      "   [1 2 1]]\n",
      "\n",
      "  [[3 4 4]\n",
      "   [2 4 3]\n",
      "   [2 1 1]]\n",
      "\n",
      "  [[4 4 4]\n",
      "   [4 3 4]\n",
      "   [1 1 2]]]\n",
      "\n",
      "\n",
      " [[[3 4 2]\n",
      "   [2 2 0]\n",
      "   [1 0 2]]\n",
      "\n",
      "  [[4 2 0]\n",
      "   [2 0 3]\n",
      "   [0 2 0]]\n",
      "\n",
      "  [[2 0 4]\n",
      "   [0 3 0]\n",
      "   [2 0 0]]\n",
      "\n",
      "  [[0 4 0]\n",
      "   [3 0 1]\n",
      "   [0 0 0]]\n",
      "\n",
      "  [[4 0 2]\n",
      "   [0 1 2]\n",
      "   [0 0 1]]\n",
      "\n",
      "  [[0 2 4]\n",
      "   [1 2 1]\n",
      "   [0 1 1]]\n",
      "\n",
      "  [[2 4 3]\n",
      "   [2 1 1]\n",
      "   [1 1 4]]\n",
      "\n",
      "  [[4 3 4]\n",
      "   [1 1 2]\n",
      "   [1 4 4]]]]\n"
     ]
    }
   ],
   "source": [
    "Z = np.random.randint(0,5,(10,10))\n",
    "n = 3\n",
    "i = 1 + (Z.shape[0]-3)\n",
    "j = 1 + (Z.shape[1]-3)\n",
    "C = stride_tricks.as_strided(Z, shape=(i, j, n, n), strides=Z.strides + Z.strides)\n",
    "print(C)"
   ]
  },
  {
   "cell_type": "code",
   "execution_count": 95,
   "id": "0732eebc-8cee-4807-b94a-e9707475abec",
   "metadata": {},
   "outputs": [
    {
     "name": "stdout",
     "output_type": "stream",
     "text": [
      "[[ 2  7  8  9  8]\n",
      " [ 7  7  7 12  3]\n",
      " [ 8  7  0 42  7]\n",
      " [ 9 12 42  8  3]\n",
      " [ 8  3  7  3  1]]\n"
     ]
    }
   ],
   "source": [
    "class Symetric(np.ndarray):\n",
    "    def __setitem__(self, index, value):\n",
    "        i,j = index\n",
    "        super(Symetric, self).__setitem__((i,j), value)\n",
    "        super(Symetric, self).__setitem__((j,i), value)\n",
    "\n",
    "def symetric(Z):\n",
    "    return np.asarray(Z + Z.T - np.diag(Z.diagonal())).view(Symetric)\n",
    "\n",
    "S = symetric(np.random.randint(0,10,(5,5)))\n",
    "S[2,3] = 42\n",
    "print(S)"
   ]
  },
  {
   "cell_type": "code",
   "execution_count": 96,
   "id": "6e084627-167a-47ee-a83e-9b5c06df371c",
   "metadata": {},
   "outputs": [
    {
     "name": "stdout",
     "output_type": "stream",
     "text": [
      "[[200.]\n",
      " [200.]\n",
      " [200.]\n",
      " [200.]\n",
      " [200.]\n",
      " [200.]\n",
      " [200.]\n",
      " [200.]\n",
      " [200.]\n",
      " [200.]\n",
      " [200.]\n",
      " [200.]\n",
      " [200.]\n",
      " [200.]\n",
      " [200.]\n",
      " [200.]\n",
      " [200.]\n",
      " [200.]\n",
      " [200.]\n",
      " [200.]]\n"
     ]
    }
   ],
   "source": [
    "p, n = 10, 20\n",
    "M = np.ones((p,n,n))\n",
    "V = np.ones((p,n,1))\n",
    "S = np.tensordot(M, V, axes=[[0, 2], [0, 1]])\n",
    "print(S)"
   ]
  },
  {
   "cell_type": "code",
   "execution_count": 97,
   "id": "81d342c9-0c18-4d83-9f92-3bce594d697f",
   "metadata": {},
   "outputs": [
    {
     "name": "stdout",
     "output_type": "stream",
     "text": [
      "[[16. 16. 16. 16.]\n",
      " [16. 16. 16. 16.]\n",
      " [16. 16. 16. 16.]\n",
      " [16. 16. 16. 16.]]\n"
     ]
    }
   ],
   "source": [
    "Z = np.ones((16,16))\n",
    "k = 4\n",
    "S = np.add.reduceat(np.add.reduceat(Z, np.arange(0, Z.shape[0], k), axis=0),\n",
    "                                       np.arange(0, Z.shape[1], k), axis=1)\n",
    "print(S)"
   ]
  },
  {
   "cell_type": "code",
   "execution_count": 98,
   "id": "14c92bfa-3ef5-4232-b507-6816a99cc648",
   "metadata": {},
   "outputs": [
    {
     "name": "stdout",
     "output_type": "stream",
     "text": [
      "[[0 0 0 ... 0 0 0]\n",
      " [0 0 0 ... 0 0 0]\n",
      " [0 0 1 ... 0 0 0]\n",
      " ...\n",
      " [0 0 0 ... 0 0 0]\n",
      " [0 0 0 ... 0 0 0]\n",
      " [0 0 0 ... 0 0 0]]\n"
     ]
    }
   ],
   "source": [
    "def iterate(Z):\n",
    "    N = (Z[0:-2,0:-2] + Z[0:-2,1:-1] + Z[0:-2,2:] +\n",
    "         Z[1:-1,0:-2]                + Z[1:-1,2:] +\n",
    "         Z[2:  ,0:-2] + Z[2:  ,1:-1] + Z[2:  ,2:])\n",
    "\n",
    "    birth = (N==3) & (Z[1:-1,1:-1]==0)\n",
    "    survive = ((N==2) | (N==3)) & (Z[1:-1,1:-1]==1)\n",
    "    Z[...] = 0\n",
    "    Z[1:-1,1:-1][birth | survive] = 1\n",
    "    return Z\n",
    "\n",
    "Z = np.random.randint(0,2,(50,50))\n",
    "for i in range(100): Z = iterate(Z)\n",
    "print(Z)"
   ]
  },
  {
   "cell_type": "code",
   "execution_count": 99,
   "id": "224d4302-a5b9-4850-8849-5943c3dc43a9",
   "metadata": {},
   "outputs": [
    {
     "name": "stdout",
     "output_type": "stream",
     "text": [
      "[9995 9996 9997 9998 9999]\n",
      "[9996 9997 9998 9999 9995]\n"
     ]
    }
   ],
   "source": [
    "Z = np.arange(10000)\n",
    "np.random.shuffle(Z)\n",
    "n = 5\n",
    "print (Z[np.argsort(Z)[-n:]])\n",
    "print (Z[np.argpartition(-Z,n)[:n]])"
   ]
  },
  {
   "cell_type": "code",
   "execution_count": 100,
   "id": "62336aa1-a96f-4c94-b16e-d46451555d8a",
   "metadata": {},
   "outputs": [
    {
     "name": "stdout",
     "output_type": "stream",
     "text": [
      "[[1 4 6]\n",
      " [1 4 7]\n",
      " [1 5 6]\n",
      " [1 5 7]\n",
      " [2 4 6]\n",
      " [2 4 7]\n",
      " [2 5 6]\n",
      " [2 5 7]\n",
      " [3 4 6]\n",
      " [3 4 7]\n",
      " [3 5 6]\n",
      " [3 5 7]]\n"
     ]
    }
   ],
   "source": [
    "def cartesian(arrays):\n",
    "    arrays = [np.asarray(a) for a in arrays]\n",
    "    shape = (len(x) for x in arrays)\n",
    "\n",
    "    ix = np.indices(shape, dtype=int)\n",
    "    ix = ix.reshape(len(arrays), -1).T\n",
    "\n",
    "    for n, arr in enumerate(arrays):\n",
    "        ix[:, n] = arrays[n][ix[:, n]]\n",
    "\n",
    "    return ix\n",
    "\n",
    "print (cartesian(([1, 2, 3], [4, 5], [6, 7])))"
   ]
  },
  {
   "cell_type": "code",
   "execution_count": 103,
   "id": "bc85ceaf-9a52-4f3d-85a8-9ad20e823a38",
   "metadata": {},
   "outputs": [
    {
     "name": "stdout",
     "output_type": "stream",
     "text": [
      "[(b'Hello', 5.5, 7) (b'Danyil', 3.5, 4)]\n"
     ]
    }
   ],
   "source": [
    "Z = np.array([(\"Hello\", 5.5, 7),\n",
    "              (\"Danyil\", 3.5, 4)])\n",
    "R = np.core.records.fromarrays(Z.T, \n",
    "                               names='col1, col2, col3',\n",
    "                               formats = 'S8, f8, i8')\n",
    "print(R)"
   ]
  },
  {
   "cell_type": "code",
   "execution_count": 105,
   "id": "fefb7f47-d322-4751-8f3c-1ea01f007b90",
   "metadata": {},
   "outputs": [
    {
     "name": "stdout",
     "output_type": "stream",
     "text": [
      "341 µs ± 3.9 µs per loop (mean ± std. dev. of 7 runs, 1,000 loops each)\n",
      "7.76 µs ± 176 ns per loop (mean ± std. dev. of 7 runs, 100,000 loops each)\n",
      "13.8 µs ± 103 ns per loop (mean ± std. dev. of 7 runs, 100,000 loops each)\n"
     ]
    }
   ],
   "source": [
    "x = np.random.rand(10000)\n",
    "\n",
    "%timeit np.power(x,3)\n",
    "%timeit x*x*x\n",
    "%timeit np.einsum('i,i,i->i',x,x,x)"
   ]
  },
  {
   "cell_type": "code",
   "execution_count": 106,
   "id": "5b9ddc23-cbf4-4671-b00a-fa1ed0a168a6",
   "metadata": {},
   "outputs": [
    {
     "name": "stdout",
     "output_type": "stream",
     "text": [
      "[1 2 5 6]\n"
     ]
    }
   ],
   "source": [
    "A = np.random.randint(0,5,(8,3))\n",
    "B = np.random.randint(0,5,(2,2))\n",
    "\n",
    "C = (A[..., np.newaxis, np.newaxis] == B)\n",
    "rows = np.where(C.any((3,1)).all(1))[0]\n",
    "print(rows)"
   ]
  },
  {
   "cell_type": "code",
   "execution_count": 107,
   "id": "e349d1a5-0843-4a97-a60b-9cbcee16f1bb",
   "metadata": {},
   "outputs": [
    {
     "name": "stdout",
     "output_type": "stream",
     "text": [
      "[[0 4 0]\n",
      " [3 4 2]\n",
      " [3 2 1]\n",
      " [3 0 0]\n",
      " [3 4 2]\n",
      " [3 4 3]\n",
      " [4 3 4]\n",
      " [1 2 0]\n",
      " [1 4 3]\n",
      " [2 4 1]]\n",
      "[[0 4 0]\n",
      " [3 4 2]\n",
      " [3 2 1]\n",
      " [3 0 0]\n",
      " [3 4 2]\n",
      " [3 4 3]\n",
      " [4 3 4]\n",
      " [1 2 0]\n",
      " [1 4 3]\n",
      " [2 4 1]]\n",
      "[[0 4 0]\n",
      " [3 4 2]\n",
      " [3 2 1]\n",
      " [3 0 0]\n",
      " [3 4 2]\n",
      " [3 4 3]\n",
      " [4 3 4]\n",
      " [1 2 0]\n",
      " [1 4 3]\n",
      " [2 4 1]]\n"
     ]
    }
   ],
   "source": [
    "Z = np.random.randint(0,5,(10,3))\n",
    "print(Z)\n",
    "E = np.all(Z[:,1:] == Z[:,:-1], axis=1)\n",
    "U = Z[~E]\n",
    "print(U)\n",
    "U = Z[Z.max(axis=1) != Z.min(axis=1),:]\n",
    "print(U)"
   ]
  },
  {
   "cell_type": "code",
   "execution_count": 108,
   "id": "b1efac00-3c73-4a56-bf77-8b8fecf2d802",
   "metadata": {},
   "outputs": [
    {
     "name": "stdout",
     "output_type": "stream",
     "text": [
      "[[0 0 0 0 0 0 0 0]\n",
      " [0 0 0 0 0 0 0 1]\n",
      " [0 0 0 0 0 0 1 0]\n",
      " [0 0 0 0 0 0 1 1]\n",
      " [0 0 0 0 1 1 1 1]\n",
      " [0 0 0 1 0 0 0 0]\n",
      " [0 0 1 0 0 0 0 0]\n",
      " [0 1 0 0 0 0 0 0]\n",
      " [1 0 0 0 0 0 0 0]]\n",
      "[[0 0 0 0 0 0 0 0]\n",
      " [0 0 0 0 0 0 0 1]\n",
      " [0 0 0 0 0 0 1 0]\n",
      " [0 0 0 0 0 0 1 1]\n",
      " [0 0 0 0 1 1 1 1]\n",
      " [0 0 0 1 0 0 0 0]\n",
      " [0 0 1 0 0 0 0 0]\n",
      " [0 1 0 0 0 0 0 0]\n",
      " [1 0 0 0 0 0 0 0]]\n"
     ]
    }
   ],
   "source": [
    "I = np.array([0, 1, 2, 3, 15, 16, 32, 64, 128])\n",
    "B = ((I.reshape(-1,1) & (2**np.arange(8))) != 0).astype(int)\n",
    "print(B[:,::-1])\n",
    "I = np.array([0, 1, 2, 3, 15, 16, 32, 64, 128], dtype=np.uint8)\n",
    "print(np.unpackbits(I[:, np.newaxis], axis=1))"
   ]
  },
  {
   "cell_type": "code",
   "execution_count": 109,
   "id": "3082e536-9d4c-4013-af07-254407818235",
   "metadata": {},
   "outputs": [
    {
     "name": "stdout",
     "output_type": "stream",
     "text": [
      "[[0 0 0]\n",
      " [0 0 1]\n",
      " [0 1 1]\n",
      " [1 0 0]\n",
      " [1 0 1]\n",
      " [1 1 1]]\n",
      "[[0 0 0]\n",
      " [0 0 1]\n",
      " [0 1 1]\n",
      " [1 0 0]\n",
      " [1 0 1]\n",
      " [1 1 1]]\n"
     ]
    }
   ],
   "source": [
    "Z = np.random.randint(0,2,(6,3))\n",
    "T = np.ascontiguousarray(Z).view(np.dtype((np.void, Z.dtype.itemsize * Z.shape[1])))\n",
    "_, idx = np.unique(T, return_index=True)\n",
    "uZ = Z[idx]\n",
    "print(uZ)\n",
    "uZ = np.unique(Z, axis=0)\n",
    "print(uZ)"
   ]
  },
  {
   "cell_type": "code",
   "execution_count": 110,
   "id": "d3b2e071-13c3-4c4c-b189-e511f87c1d22",
   "metadata": {},
   "outputs": [
    {
     "data": {
      "text/plain": [
       "array([[0.47081086, 0.24716087, 0.17239046, 0.50535004, 0.33536927,\n",
       "        0.0943694 , 0.53014164, 0.52905381, 0.46433087, 0.20892479],\n",
       "       [0.45882462, 0.24086847, 0.16800163, 0.49248448, 0.3268312 ,\n",
       "        0.09196688, 0.51664492, 0.51558478, 0.45250961, 0.20360584],\n",
       "       [0.44640542, 0.23434878, 0.16345425, 0.47915419, 0.31798472,\n",
       "        0.08947757, 0.50266067, 0.50162923, 0.44026134, 0.19809475],\n",
       "       [0.17138693, 0.08997274, 0.06275444, 0.18396005, 0.1220828 ,\n",
       "        0.03435282, 0.19298482, 0.19258882, 0.16902805, 0.07605385],\n",
       "       [0.50706378, 0.26619251, 0.18566471, 0.54426251, 0.36119305,\n",
       "        0.10163595, 0.57096309, 0.5697915 , 0.50008483, 0.22501222],\n",
       "       [0.00430052, 0.00225764, 0.00157466, 0.00461601, 0.00306336,\n",
       "        0.000862  , 0.00484246, 0.00483252, 0.00424133, 0.00190838],\n",
       "       [0.04725555, 0.02480768, 0.01730293, 0.05072227, 0.0336612 ,\n",
       "        0.00947191, 0.05321062, 0.05310143, 0.04660515, 0.0209699 ],\n",
       "       [0.50929057, 0.2673615 , 0.18648006, 0.54665266, 0.36277924,\n",
       "        0.10208228, 0.5734705 , 0.57229376, 0.50228097, 0.22600037],\n",
       "       [0.52914324, 0.27778353, 0.19374924, 0.56796174, 0.37692074,\n",
       "        0.10606155, 0.59582496, 0.59460236, 0.52186039, 0.23481009],\n",
       "       [0.13696351, 0.07190153, 0.05015008, 0.14701129, 0.09756222,\n",
       "        0.02745299, 0.15422341, 0.15390695, 0.13507841, 0.06077828]])"
      ]
     },
     "execution_count": 110,
     "metadata": {},
     "output_type": "execute_result"
    }
   ],
   "source": [
    "A = np.random.uniform(0,1,10)\n",
    "B = np.random.uniform(0,1,10)\n",
    "\n",
    "np.einsum('i->', A)       \n",
    "np.einsum('i,i->i', A, B) \n",
    "np.einsum('i,i', A, B)    \n",
    "np.einsum('i,j->ij', A, B)"
   ]
  },
  {
   "cell_type": "code",
   "execution_count": 115,
   "id": "20fc2e11-acce-400f-9183-cd03808383a1",
   "metadata": {},
   "outputs": [],
   "source": [
    "pi = np.arange(0, 10*np.pi, 0.1)\n",
    "a = 1\n",
    "x = a*pi*np.cos(pi)\n",
    "y = a*pi*np.sin(pi)\n",
    "\n",
    "dr = (np.diff(x)**2 + np.diff(y)**2)**.5 \n",
    "r = np.zeros_like(x)\n",
    "r[1:] = np.cumsum(dr)                \n",
    "r_int = np.linspace(0, r.max(), 200) \n",
    "x_int = np.interp(r_int, r, x)       \n",
    "y_int = np.interp(r_int, r, y)"
   ]
  },
  {
   "cell_type": "code",
   "execution_count": 116,
   "id": "ac5d41b5-0173-432a-a483-bce687a1851b",
   "metadata": {},
   "outputs": [
    {
     "name": "stdout",
     "output_type": "stream",
     "text": [
      "[[2. 0. 1. 1.]]\n"
     ]
    }
   ],
   "source": [
    "X = np.asarray([[1.0, 0.0, 3.0, 8.0],\n",
    "                [2.0, 0.0, 1.0, 1.0],\n",
    "                [1.5, 2.5, 1.0, 0.0]])\n",
    "n = 4\n",
    "M = np.logical_and.reduce(np.mod(X, 1) == 0, axis=-1)\n",
    "M &= (X.sum(axis=-1) == n)\n",
    "print(X[M])"
   ]
  },
  {
   "cell_type": "code",
   "execution_count": 117,
   "id": "3280c73c-30cb-401b-93c3-673592512a0a",
   "metadata": {},
   "outputs": [
    {
     "name": "stdout",
     "output_type": "stream",
     "text": [
      "[-0.24230033  0.15431933]\n"
     ]
    }
   ],
   "source": [
    "X = np.random.randn(100) \n",
    "N = 1000 \n",
    "idx = np.random.randint(0, X.size, (N, X.size))\n",
    "means = X[idx].mean(axis=1)\n",
    "confint = np.percentile(means, [2.5, 97.5])\n",
    "print(confint)"
   ]
  },
  {
   "cell_type": "code",
   "execution_count": null,
   "id": "7edf0354-431a-45f1-a0d2-2c9ed5d41a79",
   "metadata": {},
   "outputs": [],
   "source": []
  }
 ],
 "metadata": {
  "kernelspec": {
   "display_name": "Python 3 (ipykernel)",
   "language": "python",
   "name": "python3"
  },
  "language_info": {
   "codemirror_mode": {
    "name": "ipython",
    "version": 3
   },
   "file_extension": ".py",
   "mimetype": "text/x-python",
   "name": "python",
   "nbconvert_exporter": "python",
   "pygments_lexer": "ipython3",
   "version": "3.9.12"
  }
 },
 "nbformat": 4,
 "nbformat_minor": 5
}
